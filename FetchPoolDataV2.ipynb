{
 "cells": [
  {
   "cell_type": "markdown",
   "metadata": {
    "id": "sWn7ZjoQ7Fg5"
   },
   "source": [
    "# Notebook Description"
   ]
  },
  {
   "cell_type": "markdown",
   "metadata": {
    "id": "yHIJKOvZ7LsJ"
   },
   "source": [
    "This notebook is used to fetch on chain data by The Graph API of UNISWAP V2. \n",
    "<br>Terminology, definition, and example please refer to https://docs.uniswap.org/protocol/V2/reference/API/entities#"
   ]
  },
  {
   "cell_type": "markdown",
   "metadata": {
    "id": "H2iO0EBpdQGx"
   },
   "source": [
    "# Config Environment"
   ]
  },
  {
   "cell_type": "code",
   "execution_count": 1,
   "metadata": {},
   "outputs": [
    {
     "name": "stdout",
     "output_type": "stream",
     "text": [
      "Requirement already satisfied: tqdm in /opt/anaconda3/envs/DefiEcon/lib/python3.10/site-packages (4.64.0)\r\n"
     ]
    }
   ],
   "source": [
    "!pip install tqdm"
   ]
  },
  {
   "cell_type": "code",
   "execution_count": 1,
   "metadata": {
    "id": "DU66HI2BhUvI"
   },
   "outputs": [],
   "source": [
    "import pandas as pd\n",
    "import numpy as np\n",
    "import requests\n",
    "from pprint import pprint\n",
    "from tqdm import tqdm"
   ]
  },
  {
   "cell_type": "markdown",
   "metadata": {
    "id": "u3Ep85Z0pWQv"
   },
   "source": [
    "# Query Function"
   ]
  },
  {
   "cell_type": "code",
   "execution_count": 2,
   "metadata": {
    "id": "vSupxrcXvtgM"
   },
   "outputs": [],
   "source": [
    "\n",
    "def run_query(q):\n",
    "\n",
    "    # endpoint where you are making the request\n",
    "    request = requests.post('https://api.thegraph.com/subgraphs/name/uniswap/uniswap-v2'\n",
    "                            '',\n",
    "                            json={'query': q})\n",
    "    if request.status_code == 200:\n",
    "        return request.json()\n",
    "    else:\n",
    "        raise Exception('Query failed. return code is {}.      {}'.format(request.status_code, q))\n",
    "\n",
    "def run_query_var(q, var):\n",
    "\n",
    "    # endpoint where you are making the request\n",
    "    request = requests.post('https://api.thegraph.com/subgraphs/name/uniswap/uniswap-v2'\n",
    "                            '',\n",
    "                            json={'query': q, 'variables': var})\n",
    "    if request.status_code == 200:\n",
    "        return request.json()\n",
    "    else:\n",
    "        raise Exception('Query failed. return code is {}.      {}'.format(request.status_code, q))\n"
   ]
  },
  {
   "cell_type": "markdown",
   "metadata": {
    "id": "sXc06Kb-1vP1"
   },
   "source": [
    "# Uniswap V2 Overview: total liquidity, total volume (ETH/USD), transaction count"
   ]
  },
  {
   "cell_type": "code",
   "execution_count": 3,
   "metadata": {
    "colab": {
     "base_uri": "https://localhost:8080/"
    },
    "id": "EL3r5QRUwniW",
    "outputId": "b5be5a56-5280-47a7-e8d7-15d322831d0d"
   },
   "outputs": [
    {
     "name": "stdout",
     "output_type": "stream",
     "text": [
      "{'data': {'uniswapFactory': {'pairCount': 76651,\n",
      "                             'totalLiquidityETH': '908517.0038865886756354051349731031',\n",
      "                             'totalLiquidityUSD': '1525010933.159837167173990663226338',\n",
      "                             'totalVolumeETH': '281693120.9858561296889299622023923',\n",
      "                             'totalVolumeUSD': '413850202508.7221818338680519835316',\n",
      "                             'txCount': '80559909'}}}\n"
     ]
    }
   ],
   "source": [
    "v2_overview_query = \"\"\"\n",
    "{\n",
    " uniswapFactory(id: \"0x5C69bEe701ef814a2B6a3EDD4B1652CB9cc5aA6f\"){\n",
    "   totalVolumeUSD\n",
    "   totalLiquidityUSD\n",
    "   totalVolumeETH\n",
    "   totalLiquidityETH\n",
    "   pairCount\n",
    "   txCount\n",
    " }\n",
    "}\n",
    "\"\"\"\n",
    "v2_overview = run_query(v2_overview_query)\n",
    "\n",
    "pprint(v2_overview)"
   ]
  },
  {
   "cell_type": "markdown",
   "metadata": {
    "id": "0-clB0QwBpsg"
   },
   "source": [
    "# Get All Pairs (Complete)"
   ]
  },
  {
   "cell_type": "code",
   "execution_count": 4,
   "metadata": {
    "id": "hRXrUyqqOnrC"
   },
   "outputs": [],
   "source": [
    "# Start from fetching the initial Batch 0: Query 1000 pairs on UNISWAP V2 order by created timestamp\n",
    "get_paris_query_0 = \"\"\"\n",
    "{\n",
    "  pairs(first: 1000, orderBy: createdAtTimestamp, orderDirection: asc) \n",
    "  { \n",
    "    token0 {\n",
    "        id\n",
    "        symbol\n",
    "    }\n",
    "    token1 {\n",
    "        id\n",
    "        symbol\n",
    "    }\n",
    "    id\n",
    "    createdAtBlockNumber\n",
    "    createdAtTimestamp\n",
    "    totalSupply\n",
    "    txCount\n",
    "  }\n",
    "}\n",
    "\"\"\"\n",
    "\n",
    "get_pairs_batch0 = run_query(get_paris_query_0)\n"
   ]
  },
  {
   "cell_type": "code",
   "execution_count": 5,
   "metadata": {
    "id": "C7ukJmr3iQWK"
   },
   "outputs": [],
   "source": [
    "# Create a dataframe to store the pairs info, initializa with the first 1000 pairs\n",
    "df_all_pairs = pd.DataFrame.from_dict(get_pairs_batch0['data']['pairs'])"
   ]
  },
  {
   "cell_type": "code",
   "execution_count": 6,
   "metadata": {
    "colab": {
     "base_uri": "https://localhost:8080/"
    },
    "id": "aV7KC_gkTLoB",
    "outputId": "0295ec01-623c-4005-a15e-363ccb0f8dd0"
   },
   "outputs": [
    {
     "name": "stderr",
     "output_type": "stream",
     "text": [
      "/var/folders/sn/bpd3y67s50v2b2bzrzmw_jlc0000gn/T/ipykernel_8615/4199218956.py:42: FutureWarning: The frame.append method is deprecated and will be removed from pandas in a future version. Use pandas.concat instead.\n",
      "  df_all_pairs = df_all_pairs.append(pairs_iter, ignore_index=True)\n"
     ]
    },
    {
     "name": "stdout",
     "output_type": "stream",
     "text": [
      "Batch:  1   Length of pair:  1000   Total fected pairs:  2000\n",
      "             Start from timestamp:  1592097373\n"
     ]
    },
    {
     "name": "stderr",
     "output_type": "stream",
     "text": [
      "/var/folders/sn/bpd3y67s50v2b2bzrzmw_jlc0000gn/T/ipykernel_8615/4199218956.py:42: FutureWarning: The frame.append method is deprecated and will be removed from pandas in a future version. Use pandas.concat instead.\n",
      "  df_all_pairs = df_all_pairs.append(pairs_iter, ignore_index=True)\n"
     ]
    },
    {
     "name": "stdout",
     "output_type": "stream",
     "text": [
      "Batch:  2   Length of pair:  1000   Total fected pairs:  3000\n",
      "             Start from timestamp:  1594041143\n"
     ]
    },
    {
     "name": "stderr",
     "output_type": "stream",
     "text": [
      "/var/folders/sn/bpd3y67s50v2b2bzrzmw_jlc0000gn/T/ipykernel_8615/4199218956.py:42: FutureWarning: The frame.append method is deprecated and will be removed from pandas in a future version. Use pandas.concat instead.\n",
      "  df_all_pairs = df_all_pairs.append(pairs_iter, ignore_index=True)\n"
     ]
    },
    {
     "name": "stdout",
     "output_type": "stream",
     "text": [
      "Batch:  3   Length of pair:  1000   Total fected pairs:  4000\n",
      "             Start from timestamp:  1595937431\n"
     ]
    },
    {
     "name": "stderr",
     "output_type": "stream",
     "text": [
      "/var/folders/sn/bpd3y67s50v2b2bzrzmw_jlc0000gn/T/ipykernel_8615/4199218956.py:42: FutureWarning: The frame.append method is deprecated and will be removed from pandas in a future version. Use pandas.concat instead.\n",
      "  df_all_pairs = df_all_pairs.append(pairs_iter, ignore_index=True)\n"
     ]
    },
    {
     "name": "stdout",
     "output_type": "stream",
     "text": [
      "Batch:  4   Length of pair:  1000   Total fected pairs:  5000\n",
      "             Start from timestamp:  1596802583\n"
     ]
    },
    {
     "name": "stderr",
     "output_type": "stream",
     "text": [
      "/var/folders/sn/bpd3y67s50v2b2bzrzmw_jlc0000gn/T/ipykernel_8615/4199218956.py:42: FutureWarning: The frame.append method is deprecated and will be removed from pandas in a future version. Use pandas.concat instead.\n",
      "  df_all_pairs = df_all_pairs.append(pairs_iter, ignore_index=True)\n"
     ]
    },
    {
     "name": "stdout",
     "output_type": "stream",
     "text": [
      "Batch:  5   Length of pair:  1000   Total fected pairs:  6000\n",
      "             Start from timestamp:  1597709234\n"
     ]
    },
    {
     "name": "stderr",
     "output_type": "stream",
     "text": [
      "/var/folders/sn/bpd3y67s50v2b2bzrzmw_jlc0000gn/T/ipykernel_8615/4199218956.py:42: FutureWarning: The frame.append method is deprecated and will be removed from pandas in a future version. Use pandas.concat instead.\n",
      "  df_all_pairs = df_all_pairs.append(pairs_iter, ignore_index=True)\n"
     ]
    },
    {
     "name": "stdout",
     "output_type": "stream",
     "text": [
      "Batch:  6   Length of pair:  1000   Total fected pairs:  7000\n",
      "             Start from timestamp:  1598348473\n"
     ]
    },
    {
     "name": "stderr",
     "output_type": "stream",
     "text": [
      "/var/folders/sn/bpd3y67s50v2b2bzrzmw_jlc0000gn/T/ipykernel_8615/4199218956.py:42: FutureWarning: The frame.append method is deprecated and will be removed from pandas in a future version. Use pandas.concat instead.\n",
      "  df_all_pairs = df_all_pairs.append(pairs_iter, ignore_index=True)\n"
     ]
    },
    {
     "name": "stdout",
     "output_type": "stream",
     "text": [
      "Batch:  7   Length of pair:  1000   Total fected pairs:  8000\n",
      "             Start from timestamp:  1599034094\n"
     ]
    },
    {
     "name": "stderr",
     "output_type": "stream",
     "text": [
      "/var/folders/sn/bpd3y67s50v2b2bzrzmw_jlc0000gn/T/ipykernel_8615/4199218956.py:42: FutureWarning: The frame.append method is deprecated and will be removed from pandas in a future version. Use pandas.concat instead.\n",
      "  df_all_pairs = df_all_pairs.append(pairs_iter, ignore_index=True)\n"
     ]
    },
    {
     "name": "stdout",
     "output_type": "stream",
     "text": [
      "Batch:  8   Length of pair:  1000   Total fected pairs:  9000\n",
      "             Start from timestamp:  1599508406\n"
     ]
    },
    {
     "name": "stderr",
     "output_type": "stream",
     "text": [
      "/var/folders/sn/bpd3y67s50v2b2bzrzmw_jlc0000gn/T/ipykernel_8615/4199218956.py:42: FutureWarning: The frame.append method is deprecated and will be removed from pandas in a future version. Use pandas.concat instead.\n",
      "  df_all_pairs = df_all_pairs.append(pairs_iter, ignore_index=True)\n"
     ]
    },
    {
     "name": "stdout",
     "output_type": "stream",
     "text": [
      "Batch:  9   Length of pair:  1000   Total fected pairs:  10000\n",
      "             Start from timestamp:  1600106758\n"
     ]
    },
    {
     "name": "stderr",
     "output_type": "stream",
     "text": [
      "/var/folders/sn/bpd3y67s50v2b2bzrzmw_jlc0000gn/T/ipykernel_8615/4199218956.py:42: FutureWarning: The frame.append method is deprecated and will be removed from pandas in a future version. Use pandas.concat instead.\n",
      "  df_all_pairs = df_all_pairs.append(pairs_iter, ignore_index=True)\n"
     ]
    },
    {
     "name": "stdout",
     "output_type": "stream",
     "text": [
      "Batch:  10   Length of pair:  1000   Total fected pairs:  11000\n",
      "             Start from timestamp:  1600669731\n"
     ]
    },
    {
     "name": "stderr",
     "output_type": "stream",
     "text": [
      "/var/folders/sn/bpd3y67s50v2b2bzrzmw_jlc0000gn/T/ipykernel_8615/4199218956.py:42: FutureWarning: The frame.append method is deprecated and will be removed from pandas in a future version. Use pandas.concat instead.\n",
      "  df_all_pairs = df_all_pairs.append(pairs_iter, ignore_index=True)\n"
     ]
    },
    {
     "name": "stdout",
     "output_type": "stream",
     "text": [
      "Batch:  11   Length of pair:  1000   Total fected pairs:  12000\n",
      "             Start from timestamp:  1601068988\n"
     ]
    },
    {
     "name": "stderr",
     "output_type": "stream",
     "text": [
      "/var/folders/sn/bpd3y67s50v2b2bzrzmw_jlc0000gn/T/ipykernel_8615/4199218956.py:42: FutureWarning: The frame.append method is deprecated and will be removed from pandas in a future version. Use pandas.concat instead.\n",
      "  df_all_pairs = df_all_pairs.append(pairs_iter, ignore_index=True)\n"
     ]
    },
    {
     "name": "stdout",
     "output_type": "stream",
     "text": [
      "Batch:  12   Length of pair:  1000   Total fected pairs:  13000\n",
      "             Start from timestamp:  1601443436\n"
     ]
    },
    {
     "name": "stderr",
     "output_type": "stream",
     "text": [
      "/var/folders/sn/bpd3y67s50v2b2bzrzmw_jlc0000gn/T/ipykernel_8615/4199218956.py:42: FutureWarning: The frame.append method is deprecated and will be removed from pandas in a future version. Use pandas.concat instead.\n",
      "  df_all_pairs = df_all_pairs.append(pairs_iter, ignore_index=True)\n"
     ]
    },
    {
     "name": "stdout",
     "output_type": "stream",
     "text": [
      "Batch:  13   Length of pair:  1000   Total fected pairs:  14000\n",
      "             Start from timestamp:  1601822130\n"
     ]
    },
    {
     "name": "stderr",
     "output_type": "stream",
     "text": [
      "/var/folders/sn/bpd3y67s50v2b2bzrzmw_jlc0000gn/T/ipykernel_8615/4199218956.py:42: FutureWarning: The frame.append method is deprecated and will be removed from pandas in a future version. Use pandas.concat instead.\n",
      "  df_all_pairs = df_all_pairs.append(pairs_iter, ignore_index=True)\n"
     ]
    },
    {
     "name": "stdout",
     "output_type": "stream",
     "text": [
      "Batch:  14   Length of pair:  1000   Total fected pairs:  15000\n",
      "             Start from timestamp:  1602248413\n"
     ]
    },
    {
     "name": "stderr",
     "output_type": "stream",
     "text": [
      "/var/folders/sn/bpd3y67s50v2b2bzrzmw_jlc0000gn/T/ipykernel_8615/4199218956.py:42: FutureWarning: The frame.append method is deprecated and will be removed from pandas in a future version. Use pandas.concat instead.\n",
      "  df_all_pairs = df_all_pairs.append(pairs_iter, ignore_index=True)\n"
     ]
    },
    {
     "name": "stdout",
     "output_type": "stream",
     "text": [
      "Batch:  15   Length of pair:  1000   Total fected pairs:  16000\n",
      "             Start from timestamp:  1602639604\n"
     ]
    },
    {
     "name": "stderr",
     "output_type": "stream",
     "text": [
      "/var/folders/sn/bpd3y67s50v2b2bzrzmw_jlc0000gn/T/ipykernel_8615/4199218956.py:42: FutureWarning: The frame.append method is deprecated and will be removed from pandas in a future version. Use pandas.concat instead.\n",
      "  df_all_pairs = df_all_pairs.append(pairs_iter, ignore_index=True)\n"
     ]
    },
    {
     "name": "stdout",
     "output_type": "stream",
     "text": [
      "Batch:  16   Length of pair:  1000   Total fected pairs:  17000\n",
      "             Start from timestamp:  1603001399\n"
     ]
    },
    {
     "name": "stderr",
     "output_type": "stream",
     "text": [
      "/var/folders/sn/bpd3y67s50v2b2bzrzmw_jlc0000gn/T/ipykernel_8615/4199218956.py:42: FutureWarning: The frame.append method is deprecated and will be removed from pandas in a future version. Use pandas.concat instead.\n",
      "  df_all_pairs = df_all_pairs.append(pairs_iter, ignore_index=True)\n"
     ]
    },
    {
     "name": "stdout",
     "output_type": "stream",
     "text": [
      "Batch:  17   Length of pair:  1000   Total fected pairs:  18000\n",
      "             Start from timestamp:  1603329383\n"
     ]
    },
    {
     "name": "stderr",
     "output_type": "stream",
     "text": [
      "/var/folders/sn/bpd3y67s50v2b2bzrzmw_jlc0000gn/T/ipykernel_8615/4199218956.py:42: FutureWarning: The frame.append method is deprecated and will be removed from pandas in a future version. Use pandas.concat instead.\n",
      "  df_all_pairs = df_all_pairs.append(pairs_iter, ignore_index=True)\n"
     ]
    },
    {
     "name": "stdout",
     "output_type": "stream",
     "text": [
      "Batch:  18   Length of pair:  1000   Total fected pairs:  19000\n",
      "             Start from timestamp:  1603599259\n"
     ]
    },
    {
     "name": "stderr",
     "output_type": "stream",
     "text": [
      "/var/folders/sn/bpd3y67s50v2b2bzrzmw_jlc0000gn/T/ipykernel_8615/4199218956.py:42: FutureWarning: The frame.append method is deprecated and will be removed from pandas in a future version. Use pandas.concat instead.\n",
      "  df_all_pairs = df_all_pairs.append(pairs_iter, ignore_index=True)\n"
     ]
    },
    {
     "name": "stdout",
     "output_type": "stream",
     "text": [
      "Batch:  19   Length of pair:  1000   Total fected pairs:  20000\n",
      "             Start from timestamp:  1603929054\n"
     ]
    },
    {
     "name": "stderr",
     "output_type": "stream",
     "text": [
      "/var/folders/sn/bpd3y67s50v2b2bzrzmw_jlc0000gn/T/ipykernel_8615/4199218956.py:42: FutureWarning: The frame.append method is deprecated and will be removed from pandas in a future version. Use pandas.concat instead.\n",
      "  df_all_pairs = df_all_pairs.append(pairs_iter, ignore_index=True)\n"
     ]
    },
    {
     "name": "stdout",
     "output_type": "stream",
     "text": [
      "Batch:  20   Length of pair:  1000   Total fected pairs:  21000\n",
      "             Start from timestamp:  1604251121\n"
     ]
    },
    {
     "name": "stderr",
     "output_type": "stream",
     "text": [
      "/var/folders/sn/bpd3y67s50v2b2bzrzmw_jlc0000gn/T/ipykernel_8615/4199218956.py:42: FutureWarning: The frame.append method is deprecated and will be removed from pandas in a future version. Use pandas.concat instead.\n",
      "  df_all_pairs = df_all_pairs.append(pairs_iter, ignore_index=True)\n"
     ]
    },
    {
     "name": "stdout",
     "output_type": "stream",
     "text": [
      "Batch:  21   Length of pair:  1000   Total fected pairs:  22000\n",
      "             Start from timestamp:  1604624634\n"
     ]
    },
    {
     "name": "stderr",
     "output_type": "stream",
     "text": [
      "/var/folders/sn/bpd3y67s50v2b2bzrzmw_jlc0000gn/T/ipykernel_8615/4199218956.py:42: FutureWarning: The frame.append method is deprecated and will be removed from pandas in a future version. Use pandas.concat instead.\n",
      "  df_all_pairs = df_all_pairs.append(pairs_iter, ignore_index=True)\n"
     ]
    },
    {
     "name": "stdout",
     "output_type": "stream",
     "text": [
      "Batch:  22   Length of pair:  1000   Total fected pairs:  23000\n",
      "             Start from timestamp:  1605116196\n"
     ]
    },
    {
     "name": "stderr",
     "output_type": "stream",
     "text": [
      "/var/folders/sn/bpd3y67s50v2b2bzrzmw_jlc0000gn/T/ipykernel_8615/4199218956.py:42: FutureWarning: The frame.append method is deprecated and will be removed from pandas in a future version. Use pandas.concat instead.\n",
      "  df_all_pairs = df_all_pairs.append(pairs_iter, ignore_index=True)\n"
     ]
    },
    {
     "name": "stdout",
     "output_type": "stream",
     "text": [
      "Batch:  23   Length of pair:  1000   Total fected pairs:  24000\n",
      "             Start from timestamp:  1605634559\n"
     ]
    },
    {
     "name": "stderr",
     "output_type": "stream",
     "text": [
      "/var/folders/sn/bpd3y67s50v2b2bzrzmw_jlc0000gn/T/ipykernel_8615/4199218956.py:42: FutureWarning: The frame.append method is deprecated and will be removed from pandas in a future version. Use pandas.concat instead.\n",
      "  df_all_pairs = df_all_pairs.append(pairs_iter, ignore_index=True)\n"
     ]
    },
    {
     "name": "stdout",
     "output_type": "stream",
     "text": [
      "Batch:  24   Length of pair:  1000   Total fected pairs:  25000\n",
      "             Start from timestamp:  1606341334\n"
     ]
    },
    {
     "name": "stderr",
     "output_type": "stream",
     "text": [
      "/var/folders/sn/bpd3y67s50v2b2bzrzmw_jlc0000gn/T/ipykernel_8615/4199218956.py:42: FutureWarning: The frame.append method is deprecated and will be removed from pandas in a future version. Use pandas.concat instead.\n",
      "  df_all_pairs = df_all_pairs.append(pairs_iter, ignore_index=True)\n"
     ]
    },
    {
     "name": "stdout",
     "output_type": "stream",
     "text": [
      "Batch:  25   Length of pair:  1000   Total fected pairs:  26000\n",
      "             Start from timestamp:  1607183920\n"
     ]
    },
    {
     "name": "stderr",
     "output_type": "stream",
     "text": [
      "/var/folders/sn/bpd3y67s50v2b2bzrzmw_jlc0000gn/T/ipykernel_8615/4199218956.py:42: FutureWarning: The frame.append method is deprecated and will be removed from pandas in a future version. Use pandas.concat instead.\n",
      "  df_all_pairs = df_all_pairs.append(pairs_iter, ignore_index=True)\n"
     ]
    },
    {
     "name": "stdout",
     "output_type": "stream",
     "text": [
      "Batch:  26   Length of pair:  1000   Total fected pairs:  27000\n",
      "             Start from timestamp:  1607971101\n"
     ]
    },
    {
     "name": "stderr",
     "output_type": "stream",
     "text": [
      "/var/folders/sn/bpd3y67s50v2b2bzrzmw_jlc0000gn/T/ipykernel_8615/4199218956.py:42: FutureWarning: The frame.append method is deprecated and will be removed from pandas in a future version. Use pandas.concat instead.\n",
      "  df_all_pairs = df_all_pairs.append(pairs_iter, ignore_index=True)\n"
     ]
    },
    {
     "name": "stdout",
     "output_type": "stream",
     "text": [
      "Batch:  27   Length of pair:  1000   Total fected pairs:  28000\n",
      "             Start from timestamp:  1608837863\n"
     ]
    },
    {
     "name": "stderr",
     "output_type": "stream",
     "text": [
      "/var/folders/sn/bpd3y67s50v2b2bzrzmw_jlc0000gn/T/ipykernel_8615/4199218956.py:42: FutureWarning: The frame.append method is deprecated and will be removed from pandas in a future version. Use pandas.concat instead.\n",
      "  df_all_pairs = df_all_pairs.append(pairs_iter, ignore_index=True)\n"
     ]
    },
    {
     "name": "stdout",
     "output_type": "stream",
     "text": [
      "Batch:  28   Length of pair:  1000   Total fected pairs:  29000\n",
      "             Start from timestamp:  1610182196\n"
     ]
    },
    {
     "name": "stderr",
     "output_type": "stream",
     "text": [
      "/var/folders/sn/bpd3y67s50v2b2bzrzmw_jlc0000gn/T/ipykernel_8615/4199218956.py:42: FutureWarning: The frame.append method is deprecated and will be removed from pandas in a future version. Use pandas.concat instead.\n",
      "  df_all_pairs = df_all_pairs.append(pairs_iter, ignore_index=True)\n"
     ]
    },
    {
     "name": "stdout",
     "output_type": "stream",
     "text": [
      "Batch:  29   Length of pair:  1000   Total fected pairs:  30000\n",
      "             Start from timestamp:  1611575443\n"
     ]
    },
    {
     "name": "stderr",
     "output_type": "stream",
     "text": [
      "/var/folders/sn/bpd3y67s50v2b2bzrzmw_jlc0000gn/T/ipykernel_8615/4199218956.py:42: FutureWarning: The frame.append method is deprecated and will be removed from pandas in a future version. Use pandas.concat instead.\n",
      "  df_all_pairs = df_all_pairs.append(pairs_iter, ignore_index=True)\n"
     ]
    },
    {
     "name": "stdout",
     "output_type": "stream",
     "text": [
      "Batch:  30   Length of pair:  1000   Total fected pairs:  31000\n",
      "             Start from timestamp:  1613348902\n"
     ]
    },
    {
     "name": "stderr",
     "output_type": "stream",
     "text": [
      "/var/folders/sn/bpd3y67s50v2b2bzrzmw_jlc0000gn/T/ipykernel_8615/4199218956.py:42: FutureWarning: The frame.append method is deprecated and will be removed from pandas in a future version. Use pandas.concat instead.\n",
      "  df_all_pairs = df_all_pairs.append(pairs_iter, ignore_index=True)\n"
     ]
    },
    {
     "name": "stdout",
     "output_type": "stream",
     "text": [
      "Batch:  31   Length of pair:  1000   Total fected pairs:  32000\n",
      "             Start from timestamp:  1616060601\n"
     ]
    },
    {
     "name": "stderr",
     "output_type": "stream",
     "text": [
      "/var/folders/sn/bpd3y67s50v2b2bzrzmw_jlc0000gn/T/ipykernel_8615/4199218956.py:42: FutureWarning: The frame.append method is deprecated and will be removed from pandas in a future version. Use pandas.concat instead.\n",
      "  df_all_pairs = df_all_pairs.append(pairs_iter, ignore_index=True)\n"
     ]
    },
    {
     "name": "stdout",
     "output_type": "stream",
     "text": [
      "Batch:  32   Length of pair:  1000   Total fected pairs:  33000\n",
      "             Start from timestamp:  1617322676\n"
     ]
    },
    {
     "name": "stderr",
     "output_type": "stream",
     "text": [
      "/var/folders/sn/bpd3y67s50v2b2bzrzmw_jlc0000gn/T/ipykernel_8615/4199218956.py:42: FutureWarning: The frame.append method is deprecated and will be removed from pandas in a future version. Use pandas.concat instead.\n",
      "  df_all_pairs = df_all_pairs.append(pairs_iter, ignore_index=True)\n"
     ]
    },
    {
     "name": "stdout",
     "output_type": "stream",
     "text": [
      "Batch:  33   Length of pair:  1000   Total fected pairs:  34000\n",
      "             Start from timestamp:  1618842657\n"
     ]
    },
    {
     "name": "stderr",
     "output_type": "stream",
     "text": [
      "/var/folders/sn/bpd3y67s50v2b2bzrzmw_jlc0000gn/T/ipykernel_8615/4199218956.py:42: FutureWarning: The frame.append method is deprecated and will be removed from pandas in a future version. Use pandas.concat instead.\n",
      "  df_all_pairs = df_all_pairs.append(pairs_iter, ignore_index=True)\n"
     ]
    },
    {
     "name": "stdout",
     "output_type": "stream",
     "text": [
      "Batch:  34   Length of pair:  1000   Total fected pairs:  35000\n",
      "             Start from timestamp:  1619359847\n"
     ]
    },
    {
     "name": "stderr",
     "output_type": "stream",
     "text": [
      "/var/folders/sn/bpd3y67s50v2b2bzrzmw_jlc0000gn/T/ipykernel_8615/4199218956.py:42: FutureWarning: The frame.append method is deprecated and will be removed from pandas in a future version. Use pandas.concat instead.\n",
      "  df_all_pairs = df_all_pairs.append(pairs_iter, ignore_index=True)\n"
     ]
    },
    {
     "name": "stdout",
     "output_type": "stream",
     "text": [
      "Batch:  35   Length of pair:  1000   Total fected pairs:  36000\n",
      "             Start from timestamp:  1619871041\n"
     ]
    },
    {
     "name": "stderr",
     "output_type": "stream",
     "text": [
      "/var/folders/sn/bpd3y67s50v2b2bzrzmw_jlc0000gn/T/ipykernel_8615/4199218956.py:42: FutureWarning: The frame.append method is deprecated and will be removed from pandas in a future version. Use pandas.concat instead.\n",
      "  df_all_pairs = df_all_pairs.append(pairs_iter, ignore_index=True)\n"
     ]
    },
    {
     "name": "stdout",
     "output_type": "stream",
     "text": [
      "Batch:  36   Length of pair:  1000   Total fected pairs:  37000\n",
      "             Start from timestamp:  1620845838\n"
     ]
    },
    {
     "name": "stderr",
     "output_type": "stream",
     "text": [
      "/var/folders/sn/bpd3y67s50v2b2bzrzmw_jlc0000gn/T/ipykernel_8615/4199218956.py:42: FutureWarning: The frame.append method is deprecated and will be removed from pandas in a future version. Use pandas.concat instead.\n",
      "  df_all_pairs = df_all_pairs.append(pairs_iter, ignore_index=True)\n"
     ]
    },
    {
     "name": "stdout",
     "output_type": "stream",
     "text": [
      "Batch:  37   Length of pair:  1000   Total fected pairs:  38000\n",
      "             Start from timestamp:  1621338102\n"
     ]
    },
    {
     "name": "stderr",
     "output_type": "stream",
     "text": [
      "/var/folders/sn/bpd3y67s50v2b2bzrzmw_jlc0000gn/T/ipykernel_8615/4199218956.py:42: FutureWarning: The frame.append method is deprecated and will be removed from pandas in a future version. Use pandas.concat instead.\n",
      "  df_all_pairs = df_all_pairs.append(pairs_iter, ignore_index=True)\n"
     ]
    },
    {
     "name": "stdout",
     "output_type": "stream",
     "text": [
      "Batch:  38   Length of pair:  1000   Total fected pairs:  39000\n",
      "             Start from timestamp:  1621967468\n"
     ]
    },
    {
     "name": "stderr",
     "output_type": "stream",
     "text": [
      "/var/folders/sn/bpd3y67s50v2b2bzrzmw_jlc0000gn/T/ipykernel_8615/4199218956.py:42: FutureWarning: The frame.append method is deprecated and will be removed from pandas in a future version. Use pandas.concat instead.\n",
      "  df_all_pairs = df_all_pairs.append(pairs_iter, ignore_index=True)\n"
     ]
    },
    {
     "name": "stdout",
     "output_type": "stream",
     "text": [
      "Batch:  39   Length of pair:  1000   Total fected pairs:  40000\n",
      "             Start from timestamp:  1622418194\n"
     ]
    },
    {
     "name": "stderr",
     "output_type": "stream",
     "text": [
      "/var/folders/sn/bpd3y67s50v2b2bzrzmw_jlc0000gn/T/ipykernel_8615/4199218956.py:42: FutureWarning: The frame.append method is deprecated and will be removed from pandas in a future version. Use pandas.concat instead.\n",
      "  df_all_pairs = df_all_pairs.append(pairs_iter, ignore_index=True)\n"
     ]
    },
    {
     "name": "stdout",
     "output_type": "stream",
     "text": [
      "Batch:  40   Length of pair:  1000   Total fected pairs:  41000\n",
      "             Start from timestamp:  1622751557\n"
     ]
    },
    {
     "name": "stderr",
     "output_type": "stream",
     "text": [
      "/var/folders/sn/bpd3y67s50v2b2bzrzmw_jlc0000gn/T/ipykernel_8615/4199218956.py:42: FutureWarning: The frame.append method is deprecated and will be removed from pandas in a future version. Use pandas.concat instead.\n",
      "  df_all_pairs = df_all_pairs.append(pairs_iter, ignore_index=True)\n"
     ]
    },
    {
     "name": "stdout",
     "output_type": "stream",
     "text": [
      "Batch:  41   Length of pair:  1000   Total fected pairs:  42000\n",
      "             Start from timestamp:  1623059920\n"
     ]
    },
    {
     "name": "stderr",
     "output_type": "stream",
     "text": [
      "/var/folders/sn/bpd3y67s50v2b2bzrzmw_jlc0000gn/T/ipykernel_8615/4199218956.py:42: FutureWarning: The frame.append method is deprecated and will be removed from pandas in a future version. Use pandas.concat instead.\n",
      "  df_all_pairs = df_all_pairs.append(pairs_iter, ignore_index=True)\n"
     ]
    },
    {
     "name": "stdout",
     "output_type": "stream",
     "text": [
      "Batch:  42   Length of pair:  1000   Total fected pairs:  43000\n",
      "             Start from timestamp:  1623371759\n"
     ]
    },
    {
     "name": "stderr",
     "output_type": "stream",
     "text": [
      "/var/folders/sn/bpd3y67s50v2b2bzrzmw_jlc0000gn/T/ipykernel_8615/4199218956.py:42: FutureWarning: The frame.append method is deprecated and will be removed from pandas in a future version. Use pandas.concat instead.\n",
      "  df_all_pairs = df_all_pairs.append(pairs_iter, ignore_index=True)\n"
     ]
    },
    {
     "name": "stdout",
     "output_type": "stream",
     "text": [
      "Batch:  43   Length of pair:  1000   Total fected pairs:  44000\n",
      "             Start from timestamp:  1623717125\n"
     ]
    },
    {
     "name": "stderr",
     "output_type": "stream",
     "text": [
      "/var/folders/sn/bpd3y67s50v2b2bzrzmw_jlc0000gn/T/ipykernel_8615/4199218956.py:42: FutureWarning: The frame.append method is deprecated and will be removed from pandas in a future version. Use pandas.concat instead.\n",
      "  df_all_pairs = df_all_pairs.append(pairs_iter, ignore_index=True)\n"
     ]
    },
    {
     "name": "stdout",
     "output_type": "stream",
     "text": [
      "Batch:  44   Length of pair:  1000   Total fected pairs:  45000\n",
      "             Start from timestamp:  1624180361\n"
     ]
    },
    {
     "name": "stderr",
     "output_type": "stream",
     "text": [
      "/var/folders/sn/bpd3y67s50v2b2bzrzmw_jlc0000gn/T/ipykernel_8615/4199218956.py:42: FutureWarning: The frame.append method is deprecated and will be removed from pandas in a future version. Use pandas.concat instead.\n",
      "  df_all_pairs = df_all_pairs.append(pairs_iter, ignore_index=True)\n"
     ]
    },
    {
     "name": "stdout",
     "output_type": "stream",
     "text": [
      "Batch:  45   Length of pair:  1000   Total fected pairs:  46000\n",
      "             Start from timestamp:  1624653996\n"
     ]
    },
    {
     "name": "stderr",
     "output_type": "stream",
     "text": [
      "/var/folders/sn/bpd3y67s50v2b2bzrzmw_jlc0000gn/T/ipykernel_8615/4199218956.py:42: FutureWarning: The frame.append method is deprecated and will be removed from pandas in a future version. Use pandas.concat instead.\n",
      "  df_all_pairs = df_all_pairs.append(pairs_iter, ignore_index=True)\n"
     ]
    },
    {
     "name": "stdout",
     "output_type": "stream",
     "text": [
      "Batch:  46   Length of pair:  1000   Total fected pairs:  47000\n",
      "             Start from timestamp:  1625120662\n"
     ]
    },
    {
     "name": "stderr",
     "output_type": "stream",
     "text": [
      "/var/folders/sn/bpd3y67s50v2b2bzrzmw_jlc0000gn/T/ipykernel_8615/4199218956.py:42: FutureWarning: The frame.append method is deprecated and will be removed from pandas in a future version. Use pandas.concat instead.\n",
      "  df_all_pairs = df_all_pairs.append(pairs_iter, ignore_index=True)\n"
     ]
    },
    {
     "name": "stdout",
     "output_type": "stream",
     "text": [
      "Batch:  47   Length of pair:  1000   Total fected pairs:  48000\n",
      "             Start from timestamp:  1625475218\n"
     ]
    },
    {
     "name": "stderr",
     "output_type": "stream",
     "text": [
      "/var/folders/sn/bpd3y67s50v2b2bzrzmw_jlc0000gn/T/ipykernel_8615/4199218956.py:42: FutureWarning: The frame.append method is deprecated and will be removed from pandas in a future version. Use pandas.concat instead.\n",
      "  df_all_pairs = df_all_pairs.append(pairs_iter, ignore_index=True)\n"
     ]
    },
    {
     "name": "stdout",
     "output_type": "stream",
     "text": [
      "Batch:  48   Length of pair:  1000   Total fected pairs:  49000\n",
      "             Start from timestamp:  1626035456\n"
     ]
    },
    {
     "name": "stderr",
     "output_type": "stream",
     "text": [
      "/var/folders/sn/bpd3y67s50v2b2bzrzmw_jlc0000gn/T/ipykernel_8615/4199218956.py:42: FutureWarning: The frame.append method is deprecated and will be removed from pandas in a future version. Use pandas.concat instead.\n",
      "  df_all_pairs = df_all_pairs.append(pairs_iter, ignore_index=True)\n"
     ]
    },
    {
     "name": "stdout",
     "output_type": "stream",
     "text": [
      "Batch:  49   Length of pair:  1000   Total fected pairs:  50000\n",
      "             Start from timestamp:  1626849897\n"
     ]
    },
    {
     "name": "stderr",
     "output_type": "stream",
     "text": [
      "/var/folders/sn/bpd3y67s50v2b2bzrzmw_jlc0000gn/T/ipykernel_8615/4199218956.py:42: FutureWarning: The frame.append method is deprecated and will be removed from pandas in a future version. Use pandas.concat instead.\n",
      "  df_all_pairs = df_all_pairs.append(pairs_iter, ignore_index=True)\n"
     ]
    },
    {
     "name": "stdout",
     "output_type": "stream",
     "text": [
      "Batch:  50   Length of pair:  1000   Total fected pairs:  51000\n",
      "             Start from timestamp:  1628023316\n"
     ]
    },
    {
     "name": "stderr",
     "output_type": "stream",
     "text": [
      "/var/folders/sn/bpd3y67s50v2b2bzrzmw_jlc0000gn/T/ipykernel_8615/4199218956.py:42: FutureWarning: The frame.append method is deprecated and will be removed from pandas in a future version. Use pandas.concat instead.\n",
      "  df_all_pairs = df_all_pairs.append(pairs_iter, ignore_index=True)\n"
     ]
    },
    {
     "name": "stdout",
     "output_type": "stream",
     "text": [
      "Batch:  51   Length of pair:  1000   Total fected pairs:  52000\n",
      "             Start from timestamp:  1629414238\n"
     ]
    },
    {
     "name": "stderr",
     "output_type": "stream",
     "text": [
      "/var/folders/sn/bpd3y67s50v2b2bzrzmw_jlc0000gn/T/ipykernel_8615/4199218956.py:42: FutureWarning: The frame.append method is deprecated and will be removed from pandas in a future version. Use pandas.concat instead.\n",
      "  df_all_pairs = df_all_pairs.append(pairs_iter, ignore_index=True)\n"
     ]
    },
    {
     "name": "stdout",
     "output_type": "stream",
     "text": [
      "Batch:  52   Length of pair:  1000   Total fected pairs:  53000\n",
      "             Start from timestamp:  1631868401\n"
     ]
    },
    {
     "name": "stderr",
     "output_type": "stream",
     "text": [
      "/var/folders/sn/bpd3y67s50v2b2bzrzmw_jlc0000gn/T/ipykernel_8615/4199218956.py:42: FutureWarning: The frame.append method is deprecated and will be removed from pandas in a future version. Use pandas.concat instead.\n",
      "  df_all_pairs = df_all_pairs.append(pairs_iter, ignore_index=True)\n"
     ]
    },
    {
     "name": "stdout",
     "output_type": "stream",
     "text": [
      "Batch:  53   Length of pair:  1000   Total fected pairs:  54000\n",
      "             Start from timestamp:  1633771208\n"
     ]
    },
    {
     "name": "stderr",
     "output_type": "stream",
     "text": [
      "/var/folders/sn/bpd3y67s50v2b2bzrzmw_jlc0000gn/T/ipykernel_8615/4199218956.py:42: FutureWarning: The frame.append method is deprecated and will be removed from pandas in a future version. Use pandas.concat instead.\n",
      "  df_all_pairs = df_all_pairs.append(pairs_iter, ignore_index=True)\n"
     ]
    },
    {
     "name": "stdout",
     "output_type": "stream",
     "text": [
      "Batch:  54   Length of pair:  1000   Total fected pairs:  55000\n",
      "             Start from timestamp:  1635153128\n"
     ]
    },
    {
     "name": "stderr",
     "output_type": "stream",
     "text": [
      "/var/folders/sn/bpd3y67s50v2b2bzrzmw_jlc0000gn/T/ipykernel_8615/4199218956.py:42: FutureWarning: The frame.append method is deprecated and will be removed from pandas in a future version. Use pandas.concat instead.\n",
      "  df_all_pairs = df_all_pairs.append(pairs_iter, ignore_index=True)\n"
     ]
    },
    {
     "name": "stdout",
     "output_type": "stream",
     "text": [
      "Batch:  55   Length of pair:  1000   Total fected pairs:  56000\n",
      "             Start from timestamp:  1635997901\n"
     ]
    },
    {
     "name": "stderr",
     "output_type": "stream",
     "text": [
      "/var/folders/sn/bpd3y67s50v2b2bzrzmw_jlc0000gn/T/ipykernel_8615/4199218956.py:42: FutureWarning: The frame.append method is deprecated and will be removed from pandas in a future version. Use pandas.concat instead.\n",
      "  df_all_pairs = df_all_pairs.append(pairs_iter, ignore_index=True)\n"
     ]
    },
    {
     "name": "stdout",
     "output_type": "stream",
     "text": [
      "Batch:  56   Length of pair:  1000   Total fected pairs:  57000\n",
      "             Start from timestamp:  1636689097\n"
     ]
    },
    {
     "name": "stderr",
     "output_type": "stream",
     "text": [
      "/var/folders/sn/bpd3y67s50v2b2bzrzmw_jlc0000gn/T/ipykernel_8615/4199218956.py:42: FutureWarning: The frame.append method is deprecated and will be removed from pandas in a future version. Use pandas.concat instead.\n",
      "  df_all_pairs = df_all_pairs.append(pairs_iter, ignore_index=True)\n"
     ]
    },
    {
     "name": "stdout",
     "output_type": "stream",
     "text": [
      "Batch:  57   Length of pair:  1000   Total fected pairs:  58000\n",
      "             Start from timestamp:  1637326515\n"
     ]
    },
    {
     "name": "stderr",
     "output_type": "stream",
     "text": [
      "/var/folders/sn/bpd3y67s50v2b2bzrzmw_jlc0000gn/T/ipykernel_8615/4199218956.py:42: FutureWarning: The frame.append method is deprecated and will be removed from pandas in a future version. Use pandas.concat instead.\n",
      "  df_all_pairs = df_all_pairs.append(pairs_iter, ignore_index=True)\n"
     ]
    },
    {
     "name": "stdout",
     "output_type": "stream",
     "text": [
      "Batch:  58   Length of pair:  1000   Total fected pairs:  59000\n",
      "             Start from timestamp:  1638195379\n"
     ]
    },
    {
     "name": "stderr",
     "output_type": "stream",
     "text": [
      "/var/folders/sn/bpd3y67s50v2b2bzrzmw_jlc0000gn/T/ipykernel_8615/4199218956.py:42: FutureWarning: The frame.append method is deprecated and will be removed from pandas in a future version. Use pandas.concat instead.\n",
      "  df_all_pairs = df_all_pairs.append(pairs_iter, ignore_index=True)\n"
     ]
    },
    {
     "name": "stdout",
     "output_type": "stream",
     "text": [
      "Batch:  59   Length of pair:  1000   Total fected pairs:  60000\n",
      "             Start from timestamp:  1639269806\n"
     ]
    },
    {
     "name": "stderr",
     "output_type": "stream",
     "text": [
      "/var/folders/sn/bpd3y67s50v2b2bzrzmw_jlc0000gn/T/ipykernel_8615/4199218956.py:42: FutureWarning: The frame.append method is deprecated and will be removed from pandas in a future version. Use pandas.concat instead.\n",
      "  df_all_pairs = df_all_pairs.append(pairs_iter, ignore_index=True)\n"
     ]
    },
    {
     "name": "stdout",
     "output_type": "stream",
     "text": [
      "Batch:  60   Length of pair:  1000   Total fected pairs:  61000\n",
      "             Start from timestamp:  1640192763\n"
     ]
    },
    {
     "name": "stderr",
     "output_type": "stream",
     "text": [
      "/var/folders/sn/bpd3y67s50v2b2bzrzmw_jlc0000gn/T/ipykernel_8615/4199218956.py:42: FutureWarning: The frame.append method is deprecated and will be removed from pandas in a future version. Use pandas.concat instead.\n",
      "  df_all_pairs = df_all_pairs.append(pairs_iter, ignore_index=True)\n"
     ]
    },
    {
     "name": "stdout",
     "output_type": "stream",
     "text": [
      "Batch:  61   Length of pair:  1000   Total fected pairs:  62000\n",
      "             Start from timestamp:  1641546066\n"
     ]
    },
    {
     "name": "stderr",
     "output_type": "stream",
     "text": [
      "/var/folders/sn/bpd3y67s50v2b2bzrzmw_jlc0000gn/T/ipykernel_8615/4199218956.py:42: FutureWarning: The frame.append method is deprecated and will be removed from pandas in a future version. Use pandas.concat instead.\n",
      "  df_all_pairs = df_all_pairs.append(pairs_iter, ignore_index=True)\n"
     ]
    },
    {
     "name": "stdout",
     "output_type": "stream",
     "text": [
      "Batch:  62   Length of pair:  1000   Total fected pairs:  63000\n",
      "             Start from timestamp:  1643568555\n"
     ]
    },
    {
     "name": "stderr",
     "output_type": "stream",
     "text": [
      "/var/folders/sn/bpd3y67s50v2b2bzrzmw_jlc0000gn/T/ipykernel_8615/4199218956.py:42: FutureWarning: The frame.append method is deprecated and will be removed from pandas in a future version. Use pandas.concat instead.\n",
      "  df_all_pairs = df_all_pairs.append(pairs_iter, ignore_index=True)\n"
     ]
    },
    {
     "name": "stdout",
     "output_type": "stream",
     "text": [
      "Batch:  63   Length of pair:  1000   Total fected pairs:  64000\n",
      "             Start from timestamp:  1644691972\n"
     ]
    },
    {
     "name": "stderr",
     "output_type": "stream",
     "text": [
      "/var/folders/sn/bpd3y67s50v2b2bzrzmw_jlc0000gn/T/ipykernel_8615/4199218956.py:42: FutureWarning: The frame.append method is deprecated and will be removed from pandas in a future version. Use pandas.concat instead.\n",
      "  df_all_pairs = df_all_pairs.append(pairs_iter, ignore_index=True)\n"
     ]
    },
    {
     "name": "stdout",
     "output_type": "stream",
     "text": [
      "Batch:  64   Length of pair:  1000   Total fected pairs:  65000\n",
      "             Start from timestamp:  1645620248\n"
     ]
    },
    {
     "name": "stderr",
     "output_type": "stream",
     "text": [
      "/var/folders/sn/bpd3y67s50v2b2bzrzmw_jlc0000gn/T/ipykernel_8615/4199218956.py:42: FutureWarning: The frame.append method is deprecated and will be removed from pandas in a future version. Use pandas.concat instead.\n",
      "  df_all_pairs = df_all_pairs.append(pairs_iter, ignore_index=True)\n"
     ]
    },
    {
     "name": "stdout",
     "output_type": "stream",
     "text": [
      "Batch:  65   Length of pair:  1000   Total fected pairs:  66000\n",
      "             Start from timestamp:  1646552583\n"
     ]
    },
    {
     "name": "stderr",
     "output_type": "stream",
     "text": [
      "/var/folders/sn/bpd3y67s50v2b2bzrzmw_jlc0000gn/T/ipykernel_8615/4199218956.py:42: FutureWarning: The frame.append method is deprecated and will be removed from pandas in a future version. Use pandas.concat instead.\n",
      "  df_all_pairs = df_all_pairs.append(pairs_iter, ignore_index=True)\n"
     ]
    },
    {
     "name": "stdout",
     "output_type": "stream",
     "text": [
      "Batch:  66   Length of pair:  1000   Total fected pairs:  67000\n",
      "             Start from timestamp:  1647234972\n"
     ]
    },
    {
     "name": "stderr",
     "output_type": "stream",
     "text": [
      "/var/folders/sn/bpd3y67s50v2b2bzrzmw_jlc0000gn/T/ipykernel_8615/4199218956.py:42: FutureWarning: The frame.append method is deprecated and will be removed from pandas in a future version. Use pandas.concat instead.\n",
      "  df_all_pairs = df_all_pairs.append(pairs_iter, ignore_index=True)\n"
     ]
    },
    {
     "name": "stdout",
     "output_type": "stream",
     "text": [
      "Batch:  67   Length of pair:  1000   Total fected pairs:  68000\n",
      "             Start from timestamp:  1647893654\n"
     ]
    },
    {
     "name": "stderr",
     "output_type": "stream",
     "text": [
      "/var/folders/sn/bpd3y67s50v2b2bzrzmw_jlc0000gn/T/ipykernel_8615/4199218956.py:42: FutureWarning: The frame.append method is deprecated and will be removed from pandas in a future version. Use pandas.concat instead.\n",
      "  df_all_pairs = df_all_pairs.append(pairs_iter, ignore_index=True)\n"
     ]
    },
    {
     "name": "stdout",
     "output_type": "stream",
     "text": [
      "Batch:  68   Length of pair:  1000   Total fected pairs:  69000\n",
      "             Start from timestamp:  1648566579\n"
     ]
    },
    {
     "name": "stderr",
     "output_type": "stream",
     "text": [
      "/var/folders/sn/bpd3y67s50v2b2bzrzmw_jlc0000gn/T/ipykernel_8615/4199218956.py:42: FutureWarning: The frame.append method is deprecated and will be removed from pandas in a future version. Use pandas.concat instead.\n",
      "  df_all_pairs = df_all_pairs.append(pairs_iter, ignore_index=True)\n"
     ]
    },
    {
     "name": "stdout",
     "output_type": "stream",
     "text": [
      "Batch:  69   Length of pair:  1000   Total fected pairs:  70000\n",
      "             Start from timestamp:  1649151597\n"
     ]
    },
    {
     "name": "stderr",
     "output_type": "stream",
     "text": [
      "/var/folders/sn/bpd3y67s50v2b2bzrzmw_jlc0000gn/T/ipykernel_8615/4199218956.py:42: FutureWarning: The frame.append method is deprecated and will be removed from pandas in a future version. Use pandas.concat instead.\n",
      "  df_all_pairs = df_all_pairs.append(pairs_iter, ignore_index=True)\n"
     ]
    },
    {
     "name": "stdout",
     "output_type": "stream",
     "text": [
      "Batch:  70   Length of pair:  1000   Total fected pairs:  71000\n",
      "             Start from timestamp:  1649763039\n"
     ]
    },
    {
     "name": "stderr",
     "output_type": "stream",
     "text": [
      "/var/folders/sn/bpd3y67s50v2b2bzrzmw_jlc0000gn/T/ipykernel_8615/4199218956.py:42: FutureWarning: The frame.append method is deprecated and will be removed from pandas in a future version. Use pandas.concat instead.\n",
      "  df_all_pairs = df_all_pairs.append(pairs_iter, ignore_index=True)\n"
     ]
    },
    {
     "name": "stdout",
     "output_type": "stream",
     "text": [
      "Batch:  71   Length of pair:  1000   Total fected pairs:  72000\n",
      "             Start from timestamp:  1650260447\n"
     ]
    },
    {
     "name": "stderr",
     "output_type": "stream",
     "text": [
      "/var/folders/sn/bpd3y67s50v2b2bzrzmw_jlc0000gn/T/ipykernel_8615/4199218956.py:42: FutureWarning: The frame.append method is deprecated and will be removed from pandas in a future version. Use pandas.concat instead.\n",
      "  df_all_pairs = df_all_pairs.append(pairs_iter, ignore_index=True)\n"
     ]
    },
    {
     "name": "stdout",
     "output_type": "stream",
     "text": [
      "Batch:  72   Length of pair:  1000   Total fected pairs:  73000\n",
      "             Start from timestamp:  1650786555\n"
     ]
    },
    {
     "name": "stderr",
     "output_type": "stream",
     "text": [
      "/var/folders/sn/bpd3y67s50v2b2bzrzmw_jlc0000gn/T/ipykernel_8615/4199218956.py:42: FutureWarning: The frame.append method is deprecated and will be removed from pandas in a future version. Use pandas.concat instead.\n",
      "  df_all_pairs = df_all_pairs.append(pairs_iter, ignore_index=True)\n"
     ]
    },
    {
     "name": "stdout",
     "output_type": "stream",
     "text": [
      "Batch:  73   Length of pair:  1000   Total fected pairs:  74000\n",
      "             Start from timestamp:  1651493896\n"
     ]
    },
    {
     "name": "stderr",
     "output_type": "stream",
     "text": [
      "/var/folders/sn/bpd3y67s50v2b2bzrzmw_jlc0000gn/T/ipykernel_8615/4199218956.py:42: FutureWarning: The frame.append method is deprecated and will be removed from pandas in a future version. Use pandas.concat instead.\n",
      "  df_all_pairs = df_all_pairs.append(pairs_iter, ignore_index=True)\n"
     ]
    },
    {
     "name": "stdout",
     "output_type": "stream",
     "text": [
      "Batch:  74   Length of pair:  1000   Total fected pairs:  75000\n",
      "             Start from timestamp:  1652669173\n"
     ]
    },
    {
     "name": "stderr",
     "output_type": "stream",
     "text": [
      "/var/folders/sn/bpd3y67s50v2b2bzrzmw_jlc0000gn/T/ipykernel_8615/4199218956.py:42: FutureWarning: The frame.append method is deprecated and will be removed from pandas in a future version. Use pandas.concat instead.\n",
      "  df_all_pairs = df_all_pairs.append(pairs_iter, ignore_index=True)\n"
     ]
    },
    {
     "name": "stdout",
     "output_type": "stream",
     "text": [
      "Batch:  75   Length of pair:  1000   Total fected pairs:  76000\n",
      "             Start from timestamp:  1653364307\n",
      "Batch:  76   Length of pair:  651   Total fected pairs:  76651\n",
      "             Start from timestamp:  1654127704\n",
      "---------------------------\n",
      "Amount of fetced pairs:  76651\n"
     ]
    },
    {
     "name": "stderr",
     "output_type": "stream",
     "text": [
      "/var/folders/sn/bpd3y67s50v2b2bzrzmw_jlc0000gn/T/ipykernel_8615/4199218956.py:42: FutureWarning: The frame.append method is deprecated and will be removed from pandas in a future version. Use pandas.concat instead.\n",
      "  df_all_pairs = df_all_pairs.append(pairs_iter, ignore_index=True)\n"
     ]
    }
   ],
   "source": [
    "# Do iteration to fetch all the pairs, skip the first 1000 in batch 0\n",
    "# Start from the last timestamp which is got by batch 0\n",
    "\n",
    "iter_count = 0\n",
    "pairs_iter = get_pairs_batch0['data']['pairs']  # Pair info list in each batch\n",
    "total_pair_amount = len(pairs_iter)  # Initial the total pair amount by 1000 (in batch 0)\n",
    "\n",
    "# Do loop until \n",
    "while len(pairs_iter) == 1000:\n",
    "  # The last timestamp in the previous query batch\n",
    "  last_gt = int(pairs_iter[-1]['createdAtTimestamp'])\n",
    "  params_gt = {\"createdAtTimestamp_gt\": last_gt}\n",
    "\n",
    "  # Query 1000 new pairs from the last timestamp\n",
    "  query_iter = \"\"\"\n",
    "  query pairs($createdAtTimestamp_gt: Int!) {\n",
    "    pairs(first: 1000, orderBy: createdAtTimestamp, orderDirection: asc\n",
    "    where: {createdAtTimestamp_gt: $createdAtTimestamp_gt }) \n",
    "    { \n",
    "      token0 {\n",
    "        id\n",
    "        symbol\n",
    "      }\n",
    "      token1 {\n",
    "        id\n",
    "        symbol\n",
    "      }\n",
    "      id\n",
    "      createdAtBlockNumber\n",
    "      createdAtTimestamp\n",
    "      totalSupply\n",
    "      txCount\n",
    "    }\n",
    "  }\n",
    "  \"\"\"\n",
    "  result_iter = run_query_var(query_iter, params_gt)\n",
    "\n",
    "  # List of pair info for this batch\n",
    "  pairs_iter = result_iter['data']['pairs']\n",
    "\n",
    "  # Add list of this batch to the dataframe\n",
    "  df_all_pairs = df_all_pairs.append(pairs_iter, ignore_index=True)\n",
    "\n",
    "  # Summary for this batch, and update iterator\n",
    "  iter_count = iter_count + 1\n",
    "  total_pair_amount = total_pair_amount+len(pairs_iter)\n",
    "  print('Batch: ', iter_count, '  Length of pair: ', len(pairs_iter), '  Total fected pairs: ', total_pair_amount)\n",
    "  print('             Start from timestamp: ', last_gt)\n",
    "\n",
    "print('---------------------------')\n",
    "print('Amount of fetced pairs: ', total_pair_amount)\n"
   ]
  },
  {
   "cell_type": "code",
   "execution_count": 7,
   "metadata": {
    "colab": {
     "base_uri": "https://localhost:8080/",
     "height": 661
    },
    "id": "UUKDttH3jc-x",
    "outputId": "d1e4fe86-5c3f-4888-f36e-3ed4d624cce4"
   },
   "outputs": [
    {
     "data": {
      "text/html": [
       "<div>\n",
       "<style scoped>\n",
       "    .dataframe tbody tr th:only-of-type {\n",
       "        vertical-align: middle;\n",
       "    }\n",
       "\n",
       "    .dataframe tbody tr th {\n",
       "        vertical-align: top;\n",
       "    }\n",
       "\n",
       "    .dataframe thead th {\n",
       "        text-align: right;\n",
       "    }\n",
       "</style>\n",
       "<table border=\"1\" class=\"dataframe\">\n",
       "  <thead>\n",
       "    <tr style=\"text-align: right;\">\n",
       "      <th></th>\n",
       "      <th>token0</th>\n",
       "      <th>token1</th>\n",
       "      <th>id</th>\n",
       "      <th>createdAtBlockNumber</th>\n",
       "      <th>createdAtTimestamp</th>\n",
       "      <th>totalSupply</th>\n",
       "      <th>txCount</th>\n",
       "    </tr>\n",
       "  </thead>\n",
       "  <tbody>\n",
       "    <tr>\n",
       "      <th>0</th>\n",
       "      <td>{'id': '0xa0b86991c6218b36c1d19d4a2e9eb0ce3606...</td>\n",
       "      <td>{'id': '0xc02aaa39b223fe8d0a0e5c4f27ead9083c75...</td>\n",
       "      <td>0xb4e16d0168e52d35cacd2c6185b44281ec28c9dc</td>\n",
       "      <td>10008355</td>\n",
       "      <td>1588710145</td>\n",
       "      <td>0.954093348165643525</td>\n",
       "      <td>3547598</td>\n",
       "    </tr>\n",
       "    <tr>\n",
       "      <th>1</th>\n",
       "      <td>{'id': '0x8e870d67f660d95d5be530380d0ec0bd3882...</td>\n",
       "      <td>{'id': '0xa0b86991c6218b36c1d19d4a2e9eb0ce3606...</td>\n",
       "      <td>0x3139ffc91b99aa94da8a2dc13f1fc36f9bdc98ee</td>\n",
       "      <td>10008500</td>\n",
       "      <td>1588712092</td>\n",
       "      <td>0.000000006379783</td>\n",
       "      <td>28</td>\n",
       "    </tr>\n",
       "    <tr>\n",
       "      <th>2</th>\n",
       "      <td>{'id': '0x06af07097c9eeb7fd685c692751d5c66db49...</td>\n",
       "      <td>{'id': '0xc02aaa39b223fe8d0a0e5c4f27ead9083c75...</td>\n",
       "      <td>0x12ede161c702d1494612d19f05992f43aa6a26fb</td>\n",
       "      <td>10014178</td>\n",
       "      <td>1588788074</td>\n",
       "      <td>14.429278541823799433</td>\n",
       "      <td>825</td>\n",
       "    </tr>\n",
       "    <tr>\n",
       "      <th>3</th>\n",
       "      <td>{'id': '0x6b175474e89094c44da98b954eedeac49527...</td>\n",
       "      <td>{'id': '0xc02aaa39b223fe8d0a0e5c4f27ead9083c75...</td>\n",
       "      <td>0xa478c2975ab1ea89e8196811f51a7b7ade33eb11</td>\n",
       "      <td>10042267</td>\n",
       "      <td>1589164213</td>\n",
       "      <td>120131.773005999243656921</td>\n",
       "      <td>1384154</td>\n",
       "    </tr>\n",
       "    <tr>\n",
       "      <th>4</th>\n",
       "      <td>{'id': '0x408e41876cccdc0f92210600ef5037265605...</td>\n",
       "      <td>{'id': '0xa0b86991c6218b36c1d19d4a2e9eb0ce3606...</td>\n",
       "      <td>0x07f068ca326a469fc1d87d85d448990c8cba7df9</td>\n",
       "      <td>10060679</td>\n",
       "      <td>1589411030</td>\n",
       "      <td>0.000360555127545398</td>\n",
       "      <td>1450</td>\n",
       "    </tr>\n",
       "    <tr>\n",
       "      <th>...</th>\n",
       "      <td>...</td>\n",
       "      <td>...</td>\n",
       "      <td>...</td>\n",
       "      <td>...</td>\n",
       "      <td>...</td>\n",
       "      <td>...</td>\n",
       "      <td>...</td>\n",
       "    </tr>\n",
       "    <tr>\n",
       "      <th>76646</th>\n",
       "      <td>{'id': '0xb35a419f98445b8aa2ba98bb4284d332b8b0...</td>\n",
       "      <td>{'id': '0xc02aaa39b223fe8d0a0e5c4f27ead9083c75...</td>\n",
       "      <td>0x81e53f16ef05b6e397b275fca0f54b696d9df665</td>\n",
       "      <td>14939186</td>\n",
       "      <td>1654874855</td>\n",
       "      <td>122.097403879067038627</td>\n",
       "      <td>40</td>\n",
       "    </tr>\n",
       "    <tr>\n",
       "      <th>76647</th>\n",
       "      <td>{'id': '0x672e0a50dca95083127a43cade6e8f4fd6db...</td>\n",
       "      <td>{'id': '0xc02aaa39b223fe8d0a0e5c4f27ead9083c75...</td>\n",
       "      <td>0xd98818d62cceef6b478c115e71e28cbb47dd2848</td>\n",
       "      <td>14939199</td>\n",
       "      <td>1654875004</td>\n",
       "      <td>799919.017366845924269339</td>\n",
       "      <td>142</td>\n",
       "    </tr>\n",
       "    <tr>\n",
       "      <th>76648</th>\n",
       "      <td>{'id': '0xc02aaa39b223fe8d0a0e5c4f27ead9083c75...</td>\n",
       "      <td>{'id': '0xe00e99280d24865c81a62caa865e89d34938...</td>\n",
       "      <td>0x0d3fc898d438837c1cfc96e1143f9e77574fa2a0</td>\n",
       "      <td>14939226</td>\n",
       "      <td>1654875327</td>\n",
       "      <td>34.465617474213164165</td>\n",
       "      <td>112</td>\n",
       "    </tr>\n",
       "    <tr>\n",
       "      <th>76649</th>\n",
       "      <td>{'id': '0x05ddd13a5d05dba84bb4e0fa333e80a5acbd...</td>\n",
       "      <td>{'id': '0xc02aaa39b223fe8d0a0e5c4f27ead9083c75...</td>\n",
       "      <td>0xde010722eeef0f3aae3524dbf094b4b1551acf06</td>\n",
       "      <td>14939401</td>\n",
       "      <td>1654877773</td>\n",
       "      <td>13.564659966250535278</td>\n",
       "      <td>87</td>\n",
       "    </tr>\n",
       "    <tr>\n",
       "      <th>76650</th>\n",
       "      <td>{'id': '0x592b34d7047bdd2eb9a79f373530351487ed...</td>\n",
       "      <td>{'id': '0xc02aaa39b223fe8d0a0e5c4f27ead9083c75...</td>\n",
       "      <td>0xd2823c7d90b26c2637812201ff83c07e3ecce7e9</td>\n",
       "      <td>14939452</td>\n",
       "      <td>1654878458</td>\n",
       "      <td>94868.329805051379958966</td>\n",
       "      <td>57</td>\n",
       "    </tr>\n",
       "  </tbody>\n",
       "</table>\n",
       "<p>76651 rows × 7 columns</p>\n",
       "</div>"
      ],
      "text/plain": [
       "                                                  token0  \\\n",
       "0      {'id': '0xa0b86991c6218b36c1d19d4a2e9eb0ce3606...   \n",
       "1      {'id': '0x8e870d67f660d95d5be530380d0ec0bd3882...   \n",
       "2      {'id': '0x06af07097c9eeb7fd685c692751d5c66db49...   \n",
       "3      {'id': '0x6b175474e89094c44da98b954eedeac49527...   \n",
       "4      {'id': '0x408e41876cccdc0f92210600ef5037265605...   \n",
       "...                                                  ...   \n",
       "76646  {'id': '0xb35a419f98445b8aa2ba98bb4284d332b8b0...   \n",
       "76647  {'id': '0x672e0a50dca95083127a43cade6e8f4fd6db...   \n",
       "76648  {'id': '0xc02aaa39b223fe8d0a0e5c4f27ead9083c75...   \n",
       "76649  {'id': '0x05ddd13a5d05dba84bb4e0fa333e80a5acbd...   \n",
       "76650  {'id': '0x592b34d7047bdd2eb9a79f373530351487ed...   \n",
       "\n",
       "                                                  token1  \\\n",
       "0      {'id': '0xc02aaa39b223fe8d0a0e5c4f27ead9083c75...   \n",
       "1      {'id': '0xa0b86991c6218b36c1d19d4a2e9eb0ce3606...   \n",
       "2      {'id': '0xc02aaa39b223fe8d0a0e5c4f27ead9083c75...   \n",
       "3      {'id': '0xc02aaa39b223fe8d0a0e5c4f27ead9083c75...   \n",
       "4      {'id': '0xa0b86991c6218b36c1d19d4a2e9eb0ce3606...   \n",
       "...                                                  ...   \n",
       "76646  {'id': '0xc02aaa39b223fe8d0a0e5c4f27ead9083c75...   \n",
       "76647  {'id': '0xc02aaa39b223fe8d0a0e5c4f27ead9083c75...   \n",
       "76648  {'id': '0xe00e99280d24865c81a62caa865e89d34938...   \n",
       "76649  {'id': '0xc02aaa39b223fe8d0a0e5c4f27ead9083c75...   \n",
       "76650  {'id': '0xc02aaa39b223fe8d0a0e5c4f27ead9083c75...   \n",
       "\n",
       "                                               id createdAtBlockNumber  \\\n",
       "0      0xb4e16d0168e52d35cacd2c6185b44281ec28c9dc             10008355   \n",
       "1      0x3139ffc91b99aa94da8a2dc13f1fc36f9bdc98ee             10008500   \n",
       "2      0x12ede161c702d1494612d19f05992f43aa6a26fb             10014178   \n",
       "3      0xa478c2975ab1ea89e8196811f51a7b7ade33eb11             10042267   \n",
       "4      0x07f068ca326a469fc1d87d85d448990c8cba7df9             10060679   \n",
       "...                                           ...                  ...   \n",
       "76646  0x81e53f16ef05b6e397b275fca0f54b696d9df665             14939186   \n",
       "76647  0xd98818d62cceef6b478c115e71e28cbb47dd2848             14939199   \n",
       "76648  0x0d3fc898d438837c1cfc96e1143f9e77574fa2a0             14939226   \n",
       "76649  0xde010722eeef0f3aae3524dbf094b4b1551acf06             14939401   \n",
       "76650  0xd2823c7d90b26c2637812201ff83c07e3ecce7e9             14939452   \n",
       "\n",
       "      createdAtTimestamp                totalSupply  txCount  \n",
       "0             1588710145       0.954093348165643525  3547598  \n",
       "1             1588712092          0.000000006379783       28  \n",
       "2             1588788074      14.429278541823799433      825  \n",
       "3             1589164213  120131.773005999243656921  1384154  \n",
       "4             1589411030       0.000360555127545398     1450  \n",
       "...                  ...                        ...      ...  \n",
       "76646         1654874855     122.097403879067038627       40  \n",
       "76647         1654875004  799919.017366845924269339      142  \n",
       "76648         1654875327      34.465617474213164165      112  \n",
       "76649         1654877773      13.564659966250535278       87  \n",
       "76650         1654878458   94868.329805051379958966       57  \n",
       "\n",
       "[76651 rows x 7 columns]"
      ]
     },
     "execution_count": 7,
     "metadata": {},
     "output_type": "execute_result"
    }
   ],
   "source": [
    "df_all_pairs"
   ]
  },
  {
   "cell_type": "code",
   "execution_count": null,
   "metadata": {
    "id": "h1SzWYUeiwhH"
   },
   "outputs": [],
   "source": [
    "# Write dataframe to csv\n",
    "# The information of all pairs on UNISWAP V2 until 10/06/2022 UTC 17:20\n",
    "df_all_pairs.to_csv(\"PoolDataV2/All_Pairs_Info_V2_20220610.csv\")"
   ]
  },
  {
   "cell_type": "markdown",
   "metadata": {},
   "source": [
    "## TODO: Try to label the untracked pair"
   ]
  },
  {
   "cell_type": "markdown",
   "metadata": {
    "id": "LJ_N1Jw0NumW"
   },
   "source": [
    "# Count Mints/Burns Transactions (Incomplete)"
   ]
  },
  {
   "cell_type": "code",
   "execution_count": 10,
   "metadata": {
    "colab": {
     "base_uri": "https://localhost:8080/"
    },
    "id": "icHSsIW_N1tK",
    "outputId": "c5798918-d288-4bc2-e3ab-8df4901f0393"
   },
   "outputs": [
    {
     "name": "stdout",
     "output_type": "stream",
     "text": [
      "{'data': {'mints': [{'amount0': '499.7',\n",
      "                     'amount1': '500.323928',\n",
      "                     'amountUSD': '999.2019265940661032058999889692367',\n",
      "                     'liquidity': '0.000444144308078184',\n",
      "                     'to': '0xd2911a916d6c8ce109d2fb7c7e38f10ffd1f4dcc',\n",
      "                     'transaction': {'id': '0x9e9e281309ca604795cc177ee273082c8a82b09464373b4574e05816a32d64cf',\n",
      "                                     'timestamp': '1654700992'}},\n",
      "                    {'amount0': '4.999474616458787883',\n",
      "                     'amount1': '0.002752486511869076',\n",
      "                     'amountUSD': '10.02812481062376138788770791438522',\n",
      "                     'liquidity': '0.069863367895800931',\n",
      "                     'to': '0x8fe952be73de98f3e364149f80174df6739ceed2',\n",
      "                     'transaction': {'id': '0x666899c773a26a8d81001a988c4e3fb442f1cef1dc8bf1bfac5c9e7e5287d866',\n",
      "                                     'timestamp': '1654652158'}},\n",
      "                    {'amount0': '20917.612421378506229795',\n",
      "                     'amount1': '11.996883604053411427',\n",
      "                     'amountUSD': '42119.13928067889754061696505107397',\n",
      "                     'liquidity': '298.420730358101761339',\n",
      "                     'to': '0x6d9893fa101cd2b1f8d1a12de3189ff7b80fdc10',\n",
      "                     'transaction': {'id': '0xa1eaff753ecc8cb534032a8decabe9374f8ea62c6d247a7f4ceeb3daa0a33f14',\n",
      "                                     'timestamp': '1654583776'}},\n",
      "                    {'amount0': '1431086.920205154521392811',\n",
      "                     'amount1': '1432237.745324',\n",
      "                     'amountUSD': '2864417.136023481484046488768673554',\n",
      "                     'liquidity': '1.271718317255244619',\n",
      "                     'to': '0x0a827de54f4c6c2ae24bf52c5a278a045300e224',\n",
      "                     'transaction': {'id': '0x86fcd975478ab7a53e7b2f3b0a5afeb2be2ce2f107c3215590321e9d0c4dc617',\n",
      "                                     'timestamp': '1654560221'}},\n",
      "                    {'amount0': '4998055.013039',\n",
      "                     'amount1': '5001944.986961',\n",
      "                     'amountUSD': '10005427.49021486905702131645554425',\n",
      "                     'liquidity': '4.441405510308135286',\n",
      "                     'to': '0x6ff10de70db14ce0ea5e2454a4aebf5eacdfff26',\n",
      "                     'transaction': {'id': '0xe410fe6f8f7e34c7bc00d0f2fcd86ea0f5fd5aff25fce515dadac0019b8dbd91',\n",
      "                                     'timestamp': '1654549932'}},\n",
      "                    {'amount0': '5002665.734732',\n",
      "                     'amount1': '4997334.265268',\n",
      "                     'amountUSD': '9997613.96384780463711635916390198',\n",
      "                     'liquidity': '4.441424561804305134',\n",
      "                     'to': '0x6ff10de70db14ce0ea5e2454a4aebf5eacdfff26',\n",
      "                     'transaction': {'id': '0x92797ceecdb8a1225532a85953cd1dbdbbc72fed5f0fc0b1ea84b3ca0f9f41c4',\n",
      "                                     'timestamp': '1654520687'}},\n",
      "                    {'amount0': '100',\n",
      "                     'amount1': '0.052975717868102416',\n",
      "                     'amountUSD': '200.5472423589036588285022681668715',\n",
      "                     'liquidity': '1.371839582453224193',\n",
      "                     'to': '0x38abcf7e59adf3b918362ee455786d55bb7c1d88',\n",
      "                     'transaction': {'id': '0x8593ad1e7f7aa104b29a03f16d1dc5d0ef68fe202532327ec1e20a19c390e44a',\n",
      "                                     'timestamp': '1654502938'}},\n",
      "                    {'amount0': '995322.163108644',\n",
      "                     'amount1': '994233.372193',\n",
      "                     'amountUSD': '1991576.830049627506283833256251642',\n",
      "                     'liquidity': '0.883648381057490001',\n",
      "                     'to': '0xa20ef8a9a21cb318f0d396ba0134698e472e38dd',\n",
      "                     'transaction': {'id': '0xace23b5a9c14aa36aa186ac89cdd12419db10bff4078164c65f155610a7ff1ef',\n",
      "                                     'timestamp': '1654493680'}},\n",
      "                    {'amount0': '69.999676408782258825',\n",
      "                     'amount1': '70.080366',\n",
      "                     'amountUSD': '140.0328132567647820849546848708813',\n",
      "                     'liquidity': '0.000062217907485747',\n",
      "                     'to': '0x08555ed358364e1ca9c4f8a9fb45221566296ad7',\n",
      "                     'transaction': {'id': '0x01e8fbd414a814a7dc48510f2aaa3f95e33c2c047f929f9053934a4e8691f74e',\n",
      "                                     'timestamp': '1654462104'}},\n",
      "                    {'amount0': '845451.192196979566704408',\n",
      "                     'amount1': '846848.24364',\n",
      "                     'amountUSD': '1693556.552961084344367644651347416',\n",
      "                     'liquidity': '0.751651865891137597',\n",
      "                     'to': '0xcfab322f8665595dc7e0cb96a02131e8dffe80d9',\n",
      "                     'transaction': {'id': '0x3091d8312e43c82914bb049c19addbdfba00363c22c0ce23510bb9cb8afce82c',\n",
      "                                     'timestamp': '1654443727'}},\n",
      "                    {'amount0': '301.170609495183831766',\n",
      "                     'amount1': '0.17',\n",
      "                     'amountUSD': '603.5614654121709541586956331008701',\n",
      "                     'liquidity': '4.266448229803271369',\n",
      "                     'to': '0x4c8d9a0d37ec89a2378dd65ac2ded98d94287ee8',\n",
      "                     'transaction': {'id': '0x1d8d9e012982f00ce298ce1b92c334841cee6ce76e30b968771ed5b0a7d05e11',\n",
      "                                     'timestamp': '1654352951'}},\n",
      "                    {'amount0': '211.171539087378160847',\n",
      "                     'amount1': '0.119999999999999999',\n",
      "                     'amountUSD': '422.5435493314564009834660677739534',\n",
      "                     'liquidity': '3.001554476427803555',\n",
      "                     'to': '0x4c8d9a0d37ec89a2378dd65ac2ded98d94287ee8',\n",
      "                     'transaction': {'id': '0x1243d6b6624890573e939f065c0e69ed5064bf2babff0920f23104cbbe373da3',\n",
      "                                     'timestamp': '1654352355'}},\n",
      "                    {'amount0': '4920102.962845114685356062',\n",
      "                     'amount1': '4917432',\n",
      "                     'amountUSD': '9839352.024165631864519216686509881',\n",
      "                     'liquidity': '4.369508004328925644',\n",
      "                     'to': '0xbee1dee31365272bc6e5021c8ac66bede8bed641',\n",
      "                     'transaction': {'id': '0x37c2fa55fb928b8ca7da49d0cc7eb25d6f29d85fe80117b2196c14bd7bcbe904',\n",
      "                                     'timestamp': '1654316286'}},\n",
      "                    {'amount0': '90',\n",
      "                     'amount1': '0.045418440785520664',\n",
      "                     'amountUSD': '179.78779355766201226354040457441',\n",
      "                     'liquidity': '1.206784187278551754',\n",
      "                     'to': '0x9e7f1f2c3322bd291a336b5cb1f1e3bdb95eb2e9',\n",
      "                     'transaction': {'id': '0x7b315cd347a2ce8bc3bd902a59af9a28d34ffdcf4a937c1610a22393bd5903a9',\n",
      "                                     'timestamp': '1653976676'}},\n",
      "                    {'amount0': '107.546904969614619573',\n",
      "                     'amount1': '0.054273464586582196',\n",
      "                     'amountUSD': '215.3331821236740760998710601886103',\n",
      "                     'liquidity': '1.442162320852404796',\n",
      "                     'to': '0x0238d43e5dbc413554da397936b7c82d3a81d6b0',\n",
      "                     'transaction': {'id': '0xb02e240d054c64c308302d12ad10ad48698fa01bdd8a656dbba7efafb6f317cf',\n",
      "                                     'timestamp': '1653945705'}},\n",
      "                    {'amount0': '8.960763151651301668',\n",
      "                     'amount1': '0.004985005234455302',\n",
      "                     'amountUSD': '17.94989542552770229140461539860471',\n",
      "                     'liquidity': '0.12621425220023316',\n",
      "                     'to': '0x502c28f523636251beeff8bcd5023ecd1bbb8b3a',\n",
      "                     'transaction': {'id': '0x7e059b29c7223f3764731af83b402d3708bdeb41c3e054c7bcf89e3b91013c51',\n",
      "                                     'timestamp': '1653861881'}},\n",
      "                    {'amount0': '152.164728466090123356',\n",
      "                     'amount1': '0.085828699133967442',\n",
      "                     'amountUSD': '303.7014022911946057676688710095012',\n",
      "                     'liquidity': '2.158584016478085381',\n",
      "                     'to': '0x6794acf437ff25d0283bdeef026010cd1790875f',\n",
      "                     'transaction': {'id': '0x16d7ed3ee3e33f128eaffa9f06ed282e93774b90332168c121b2be81e2d140f2',\n",
      "                                     'timestamp': '1653721067'}},\n",
      "                    {'amount0': '68041.112504199239547214',\n",
      "                     'amount1': '67925.798859',\n",
      "                     'amountUSD': '136011.322548094679428064175779603',\n",
      "                     'liquidity': '0.060398306268259135',\n",
      "                     'to': '0x2d1f24c8837a94e28e0c2a5e723e190a333b00b9',\n",
      "                     'transaction': {'id': '0xb3876253048f6c9ac3bac1142007b6238acd6f4304dab31d2077f628332c3db5',\n",
      "                                     'timestamp': '1653700284'}},\n",
      "                    {'amount0': '35.73652785075630991',\n",
      "                     'amount1': '0.02059797116556912',\n",
      "                     'amountUSD': '71.50140481909732777810436333359016',\n",
      "                     'liquidity': '0.512538051530942795',\n",
      "                     'to': '0xd8dcbfca81aeb743e14b3c235df95abf56ff5f37',\n",
      "                     'transaction': {'id': '0x87ecba9685e3c8e08e9a35023b2f283308551094ed2cd692bad961ec6057f198',\n",
      "                                     'timestamp': '1653673029'}},\n",
      "                    {'amount0': '514.896996254579617174',\n",
      "                     'amount1': '0.294',\n",
      "                     'amountUSD': '1029.789243766614919046638341632623',\n",
      "                     'liquidity': '7.350206630335006897',\n",
      "                     'to': '0xcd8aa390e6eabbd2169b3580c1f7ce854675fd03',\n",
      "                     'transaction': {'id': '0x5ebdaefb5076bb99ded74d7d86d19d6f30d5559c584413457ef1f46f41b79e1d',\n",
      "                                     'timestamp': '1653669672'}},\n",
      "                    {'amount0': '15966.246338733778409392',\n",
      "                     'amount1': '15969.889068',\n",
      "                     'amountUSD': '31935.23511604852121369181197233388',\n",
      "                     'liquidity': '0.014186487364165593',\n",
      "                     'to': '0xd10fcd8e8085bf01896290f6cb097eefc1a95634',\n",
      "                     'transaction': {'id': '0xa04c5cd7e97de2450d552543223f92d3b9fd7a6abb9d7a6340504819d1d9238d',\n",
      "                                     'timestamp': '1653663593'}},\n",
      "                    {'amount0': '22416.313122634549740537',\n",
      "                     'amount1': '22414.979495',\n",
      "                     'amountUSD': '44866.79679675955777135684245340371',\n",
      "                     'liquidity': '0.019914856366633665',\n",
      "                     'to': '0xc1847f9c449293da64e4a87d969390511d49f724',\n",
      "                     'transaction': {'id': '0x4f95b913148dc944318993a0330def47dc98482edfb4a9a8cd1a003a93d52e43',\n",
      "                                     'timestamp': '1653518400'}},\n",
      "                    {'amount0': '10028.503113146830772231',\n",
      "                     'amount1': '10000',\n",
      "                     'amountUSD': '20031.1756813997102126352571964186',\n",
      "                     'liquidity': '0.008897150526070644',\n",
      "                     'to': '0x59daa74f2d15c87aac435ec18cb559f92490c100',\n",
      "                     'transaction': {'id': '0x344d17c6c82651acdc88d276666246f3b097d0926c2cebea2b1d99b4aa2c4aff',\n",
      "                                     'timestamp': '1653391809'}},\n",
      "                    {'amount0': '197.693124886360645028',\n",
      "                     'amount1': '0.099999999999999999',\n",
      "                     'amountUSD': '394.9339656948980405974129106668888',\n",
      "                     'liquidity': '2.66122570825122266',\n",
      "                     'to': '0xe7588398d9cf83fa8626ccce945f2d19dc91481e',\n",
      "                     'transaction': {'id': '0xb31ec7ce3b0b5f409a675a22447669599e7941dab97841a7db2cad4b1db6f983',\n",
      "                                     'timestamp': '1653207905'}},\n",
      "                    {'amount0': '39.61664227364994757',\n",
      "                     'amount1': '0.019999999999999999',\n",
      "                     'amountUSD': '79.28476707135761480750766355008656',\n",
      "                     'liquidity': '0.532780062737864984',\n",
      "                     'to': '0xa0f3bcc17f435fef64335c463f78d06c7d085cca',\n",
      "                     'transaction': {'id': '0x400cb4a6096ae7f380bdc35baace666dcd593a8516c80f481b6206fe92829d69',\n",
      "                                     'timestamp': '1653152148'}},\n",
      "                    {'amount0': '230.23385712547351298',\n",
      "                     'amount1': '0.116598713606595106',\n",
      "                     'amountUSD': '461.1615080830496717529835638072449',\n",
      "                     'liquidity': '3.101271193991726296',\n",
      "                     'to': '0xcd8aa390e6eabbd2169b3580c1f7ce854675fd03',\n",
      "                     'transaction': {'id': '0x6c80aaafa7ae1263c6d86bb62654eb3acb1319bd1357fad3a57e9c90d5ee8d28',\n",
      "                                     'timestamp': '1653120026'}},\n",
      "                    {'amount0': '19.297153702813783513',\n",
      "                     'amount1': '0.009841106134619619',\n",
      "                     'amountUSD': '38.61814377881776483146194258264234',\n",
      "                     'liquidity': '0.260843705762001019',\n",
      "                     'to': '0x4d59fbc8eabcc028bbc35064e20a1b60e8f0cd91',\n",
      "                     'transaction': {'id': '0xde53ce593d8b8daaafe491b5fa8785235128e57ebd9890392e188b31d269c7af',\n",
      "                                     'timestamp': '1653109987'}},\n",
      "                    {'amount0': '3050',\n",
      "                     'amount1': '1.564340796503793493',\n",
      "                     'amountUSD': '6116.277187044718571091196349181601',\n",
      "                     'liquidity': '41.372214535997274551',\n",
      "                     'to': '0x7c39d57b97c7e3ed305484f5513ccfc2089cde90',\n",
      "                     'transaction': {'id': '0x6c6e05e4db762d0701bb6bf357dd8cdf1537b0faa4988b3c4dbaac35e679666a',\n",
      "                                     'timestamp': '1652898025'}},\n",
      "                    {'amount0': '14.999841095010998056',\n",
      "                     'amount1': '0.007687845',\n",
      "                     'amountUSD': '30.01705900305720405763820190755566',\n",
      "                     'liquidity': '0.20340204300463166',\n",
      "                     'to': '0xd8dcbfca81aeb743e14b3c235df95abf56ff5f37',\n",
      "                     'transaction': {'id': '0xd46197a799c963eac6b285e9f42f6ed065062a7b6e308328fa10e9066d990279',\n",
      "                                     'timestamp': '1652889713'}},\n",
      "                    {'amount0': '76.409662805499877169',\n",
      "                     'amount1': '0.036918205711073531',\n",
      "                     'amountUSD': '152.779839856180840399253338025298',\n",
      "                     'liquidity': '1.006746209792079728',\n",
      "                     'to': '0x6794acf437ff25d0283bdeef026010cd1790875f',\n",
      "                     'transaction': {'id': '0xaae29d85093677b0d276ca2f208fd82076ee186ac0887f6ef16526041389b0f3',\n",
      "                                     'timestamp': '1652839323'}}]}}\n"
     ]
    }
   ],
   "source": [
    "# # Mint: Add Liquidity to pool,  Burn: Remove Liquidity to the pool\n",
    "# # See example of Add ETH and RND to pair: ETH/RND 0x5449bd1a97296125252db2d9cf23d5d6e30ca3c1\n",
    "# mint_transaction_query = \"\"\"\n",
    "# {\n",
    "#  mints(first: 30, where: { pair: \"0x5449bd1a97296125252db2d9cf23d5d6e30ca3c1\" }, orderBy: timestamp, orderDirection: desc) {\n",
    "#    transaction {\n",
    "#      id\n",
    "#      timestamp\n",
    "#    }\n",
    "#    to\n",
    "#    liquidity\n",
    "#    amount0\n",
    "#    amount1\n",
    "#    amountUSD\n",
    "#  }\n",
    "# }\n",
    "# \"\"\"\n",
    "# mint_transaction = run_query(mint_transaction_query)\n",
    "\n",
    "# pprint(mint_transaction)\n",
    "\n",
    "candidatePairs = [\n",
    " \"0xa478c2975ab1ea89e8196811f51a7b7ade33eb11\",\n",
    " \"0xae461ca67b15dc8dc81ce7615e0320da1a9ab8d5\"\n",
    "]\n",
    "params_candidate_pairs = {\"candidatePairs\": candidatePairs}\n",
    "mint_transaction_query = \"\"\"\n",
    "query($candidatePairs: [String!]) {\n",
    " mints(first: 30, where: { pair_in: $candidatePairs }, orderBy: timestamp, orderDirection: desc) {\n",
    "   transaction {\n",
    "     id\n",
    "     timestamp\n",
    "   }\n",
    "   to\n",
    "   liquidity\n",
    "   amount0\n",
    "   amount1\n",
    "   amountUSD\n",
    " }\n",
    "}\n",
    "\"\"\"\n",
    "mint_transaction = run_query_var(mint_transaction_query, params_candidate_pairs)\n",
    "\n",
    "pprint(mint_transaction)"
   ]
  },
  {
   "cell_type": "markdown",
   "metadata": {
    "id": "TKuOFDjH694e"
   },
   "source": [
    "# Compute Volume (Incomplete)"
   ]
  },
  {
   "cell_type": "code",
   "execution_count": 11,
   "metadata": {
    "colab": {
     "base_uri": "https://localhost:8080/"
    },
    "id": "Va93WF9uJQ1R",
    "outputId": "2752279b-20e4-4917-dabb-69206bee73c3"
   },
   "outputs": [
    {
     "name": "stdout",
     "output_type": "stream",
     "text": [
      "{'data': {'bundle': {'ethPrice': '1679.054792895824716182178552301571'}}}\n"
     ]
    }
   ],
   "source": [
    "# query current USD price of ETH in Uniswap based on a weighted average of stablecoins.\n",
    "eth_price_query = \"\"\"\n",
    "{\n",
    " bundle(id: \"1\") {\n",
    "   ethPrice\n",
    " }\n",
    "}\n",
    "\"\"\"\n",
    "eth_price = run_query(eth_price_query)\n",
    "\n",
    "pprint(eth_price)"
   ]
  },
  {
   "cell_type": "code",
   "execution_count": 12,
   "metadata": {
    "colab": {
     "base_uri": "https://localhost:8080/"
    },
    "id": "dZUxWWz8LFZu",
    "outputId": "c1e97a4f-fcfd-4cdb-a28b-996be79753b1"
   },
   "outputs": [
    {
     "name": "stdout",
     "output_type": "stream",
     "text": [
      "{'data': {'swaps': [{'amount0In': '539.626088',\n",
      "                     'amount0Out': '0',\n",
      "                     'amount1In': '0',\n",
      "                     'amount1Out': '0.284165115514204348',\n",
      "                     'amountUSD': '538.676591762887036143561404921746',\n",
      "                     'transaction': {'id': '0xea9d52361194f848356746a2182965d0419138ff170e67fea13a2803fc464fef',\n",
      "                                     'timestamp': '1654503529'}}]}}\n",
      "ETH PRICE IS:  1898.9878015939155\n"
     ]
    }
   ],
   "source": [
    "# query current USD price of ETH in Uniswap based on a weighted average of stablecoins.\n",
    "eth_price_pairs = [\n",
    " \"0xb4e16d0168e52d35cacd2c6185b44281ec28c9dc\"\n",
    "]\n",
    "params_eth_price_pairs = {\"eth_price_pairs\": eth_price_pairs}\n",
    "eth_price_byvolume_query = \"\"\"\n",
    "query($eth_price_pairs: [String!]) {\n",
    " swaps(first: 1, \n",
    "  where: { pair_in: $eth_price_pairs, timestamp_gt: 1654503528 }, orderBy: timestamp, orderDirection: asc) {\n",
    "   transaction {\n",
    "     id\n",
    "     timestamp\n",
    "   }\n",
    "   amount0In\n",
    "   amount1In\n",
    "   amount0Out\n",
    "   amount1Out\n",
    "   amountUSD\n",
    " }\n",
    "}\n",
    "\"\"\"\n",
    "eth_price_byvolume = run_query_var(eth_price_byvolume_query, params_eth_price_pairs)\n",
    "\n",
    "pprint(eth_price_byvolume)\n",
    "\n",
    "if float(eth_price_byvolume['data']['swaps'][0]['amount0In']) != 0:\n",
    "  eth_price_byvolume_result = float(eth_price_byvolume['data']['swaps'][0]['amount0In'])/float(eth_price_byvolume['data']['swaps'][0]['amount1Out'])\n",
    "else:\n",
    "  eth_price_byvolume_result = float(eth_price_byvolume['data']['swaps'][0]['amount0Out'])/float(eth_price_byvolume['data']['swaps'][0]['amount1In'])\n",
    "\n",
    "print('ETH PRICE IS: ', eth_price_byvolume_result)"
   ]
  },
  {
   "cell_type": "code",
   "execution_count": 13,
   "metadata": {
    "colab": {
     "base_uri": "https://localhost:8080/"
    },
    "id": "NH3OkD8-VWov",
    "outputId": "3584e12c-343f-4b7e-a4ed-17913e7aad76"
   },
   "outputs": [
    {
     "name": "stdout",
     "output_type": "stream",
     "text": [
      "1789.0399681838337\n",
      "1788.9343346431656\n",
      "30.383804825502647\n"
     ]
    }
   ],
   "source": [
    "print(2634.665349/1.472669921217362735)\n",
    "print(167.37499/0.093561282132463456)\n",
    "\n",
    "print(1898.9878015939155*0.016)"
   ]
  },
  {
   "cell_type": "code",
   "execution_count": 14,
   "metadata": {
    "colab": {
     "base_uri": "https://localhost:8080/"
    },
    "id": "W-E0bwkW69I0",
    "outputId": "054b4e7c-ddb3-4ee5-bd03-7e4a98bc532c"
   },
   "outputs": [
    {
     "name": "stdout",
     "output_type": "stream",
     "text": [
      "{'data': {'swaps': [{'amount0In': '0',\n",
      "                     'amount0Out': '954.10490882867114783',\n",
      "                     'amount1In': '0.087109307299713778',\n",
      "                     'amount1Out': '0',\n",
      "                     'amountUSD': '162.3017323177359330773202940380697',\n",
      "                     'id': '0xe976f2ebd70135153e8522c3aaa3c9d489717ef621d69b9e00a9f215d0474918-8',\n",
      "                     'pair': {'token0': {'symbol': 'LSS'},\n",
      "                              'token1': {'symbol': 'WETH'}},\n",
      "                     'to': '0x62e3c242b5e903071458ad90a160493d84911c77',\n",
      "                     'transaction': {'id': '0xe976f2ebd70135153e8522c3aaa3c9d489717ef621d69b9e00a9f215d0474918',\n",
      "                                     'timestamp': '1654768688'}},\n",
      "                    {'amount0In': '649.3506494',\n",
      "                     'amount0Out': '0',\n",
      "                     'amount1In': '0',\n",
      "                     'amount1Out': '0.057907220009412727',\n",
      "                     'amountUSD': '102.5315103855514293805263468787294',\n",
      "                     'id': '0x812b27ebe764b8d599ae92e65b0e125b4a3c8efd7645d0330ab2673e5ef61e3d-0',\n",
      "                     'pair': {'token0': {'symbol': 'LSS'},\n",
      "                              'token1': {'symbol': 'WETH'}},\n",
      "                     'to': '0x7a250d5630b4cf539739df2c5dacb4c659f2488d',\n",
      "                     'transaction': {'id': '0x812b27ebe764b8d599ae92e65b0e125b4a3c8efd7645d0330ab2673e5ef61e3d',\n",
      "                                     'timestamp': '1654755831'}},\n",
      "                    {'amount0In': '0',\n",
      "                     'amount0Out': '494.41978556179542839',\n",
      "                     'amount1In': '0.04483130355662775',\n",
      "                     'amount1Out': '0',\n",
      "                     'amountUSD': '82.13605599611898386855610954376218',\n",
      "                     'id': '0xd569062b05080e43f943090bbc2543d45c13755277be6483b0188987512aa2a4-1',\n",
      "                     'pair': {'token0': {'symbol': 'LSS'},\n",
      "                              'token1': {'symbol': 'WETH'}},\n",
      "                     'to': '0x74de5d4fcbf63e00296fd95d33236b9794016631',\n",
      "                     'transaction': {'id': '0xd569062b05080e43f943090bbc2543d45c13755277be6483b0188987512aa2a4',\n",
      "                                     'timestamp': '1654668383'}},\n",
      "                    {'amount0In': '0',\n",
      "                     'amount0Out': '182.70045888568811605',\n",
      "                     'amount1In': '0.016',\n",
      "                     'amount1Out': '0',\n",
      "                     'amountUSD': '30.38030441659072739208787732415776',\n",
      "                     'id': '0xedd667aeaeb8c682cd13aec146261a6074c467193876a4e406fc62f3a5e19155-0',\n",
      "                     'pair': {'token0': {'symbol': 'LSS'},\n",
      "                              'token1': {'symbol': 'WETH'}},\n",
      "                     'to': '0xf98cc4b710944e3c72c8f206a09421ec102dca08',\n",
      "                     'transaction': {'id': '0xedd667aeaeb8c682cd13aec146261a6074c467193876a4e406fc62f3a5e19155',\n",
      "                                     'timestamp': '1654503529'}},\n",
      "                    {'amount0In': '0',\n",
      "                     'amount0Out': '967.114166263594600874',\n",
      "                     'amount1In': '0.08',\n",
      "                     'amount1Out': '0',\n",
      "                     'amountUSD': '154.535053911155236598054656800558',\n",
      "                     'id': '0xc74ad91c874359bce3270c06ea26460b174ef4082a72f4ba2b00c676c6eade62-0',\n",
      "                     'pair': {'token0': {'symbol': 'LSS'},\n",
      "                              'token1': {'symbol': 'WETH'}},\n",
      "                     'to': '0x62e3c242b5e903071458ad90a160493d84911c77',\n",
      "                     'transaction': {'id': '0xc74ad91c874359bce3270c06ea26460b174ef4082a72f4ba2b00c676c6eade62',\n",
      "                                     'timestamp': '1654499251'}},\n",
      "                    {'amount0In': '1298.7012988',\n",
      "                     'amount0Out': '0',\n",
      "                     'amount1In': '0',\n",
      "                     'amount1Out': '0.108601907364179194',\n",
      "                     'amountUSD': '197.2975293986977797244059632304813',\n",
      "                     'id': '0xf39d57e6cce5ff8df55cb803c2de426cdb90d50832b8df936055a660309ce985-0',\n",
      "                     'pair': {'token0': {'symbol': 'LSS'},\n",
      "                              'token1': {'symbol': 'WETH'}},\n",
      "                     'to': '0x1111111254fb6c44bac0bed2854e76f90643097d',\n",
      "                     'transaction': {'id': '0xf39d57e6cce5ff8df55cb803c2de426cdb90d50832b8df936055a660309ce985',\n",
      "                                     'timestamp': '1654496274'}},\n",
      "                    {'amount0In': '19463.370736369887785458',\n",
      "                     'amount0Out': '0',\n",
      "                     'amount1In': '0',\n",
      "                     'amount1Out': '1157.675179861647564381',\n",
      "                     'amountUSD': '1035732.883693670619952829921900157',\n",
      "                     'id': '0x9da5620c7803123849f8f65029a6e73dfd5e7922bf8815bbbc495f7313865880-1',\n",
      "                     'pair': {'token0': {'symbol': 'LSS'},\n",
      "                              'token1': {'symbol': 'WETH'}},\n",
      "                     'to': '0x000000000035b5e5ad9019092c665357240f594e',\n",
      "                     'transaction': {'id': '0x9da5620c7803123849f8f65029a6e73dfd5e7922bf8815bbbc495f7313865880',\n",
      "                                     'timestamp': '1654432756'}},\n",
      "                    {'amount0In': '0',\n",
      "                     'amount0Out': '19167.809153296665628187',\n",
      "                     'amount1In': '1157.658926297668445986',\n",
      "                     'amount1Out': '0',\n",
      "                     'amountUSD': '2068207.090312683960461532632688075',\n",
      "                     'id': '0x7702696cb62039a295ad77b6e5a9684c64c9f2c5cc3cf447c713313f9bf54181-0',\n",
      "                     'pair': {'token0': {'symbol': 'LSS'},\n",
      "                              'token1': {'symbol': 'WETH'}},\n",
      "                     'to': '0x62e3c242b5e903071458ad90a160493d84911c77',\n",
      "                     'transaction': {'id': '0x7702696cb62039a295ad77b6e5a9684c64c9f2c5cc3cf447c713313f9bf54181',\n",
      "                                     'timestamp': '1654432756'}},\n",
      "                    {'amount0In': '0',\n",
      "                     'amount0Out': '384.915147460101858337',\n",
      "                     'amount1In': '0.03469375',\n",
      "                     'amount1Out': '0',\n",
      "                     'amountUSD': '62.32797447381097606245121727947374',\n",
      "                     'id': '0xa3a509d48b4c9c6432ffd0c46cac6e6d1fad5395a4cf1dcaa0fb6dd98d1a7b82-0',\n",
      "                     'pair': {'token0': {'symbol': 'LSS'},\n",
      "                              'token1': {'symbol': 'WETH'}},\n",
      "                     'to': '0x74de5d4fcbf63e00296fd95d33236b9794016631',\n",
      "                     'transaction': {'id': '0xa3a509d48b4c9c6432ffd0c46cac6e6d1fad5395a4cf1dcaa0fb6dd98d1a7b82',\n",
      "                                     'timestamp': '1654426696'}},\n",
      "                    {'amount0In': '874.358028061008428415',\n",
      "                     'amount0Out': '0',\n",
      "                     'amount1In': '0',\n",
      "                     'amount1Out': '0.080380204908462933',\n",
      "                     'amountUSD': '140.9912911183920638860407598128405',\n",
      "                     'id': '0x6a8031402df1401112a7b5a17654673c708d111912946ac1beb169a13d506f59-5',\n",
      "                     'pair': {'token0': {'symbol': 'LSS'},\n",
      "                              'token1': {'symbol': 'WETH'}},\n",
      "                     'to': '0xf6465aa892574e159dd1b4ab92ce12a3dbe47774',\n",
      "                     'transaction': {'id': '0x6a8031402df1401112a7b5a17654673c708d111912946ac1beb169a13d506f59',\n",
      "                                     'timestamp': '1654417560'}},\n",
      "                    {'amount0In': '0',\n",
      "                     'amount0Out': '1423.835841740742334025',\n",
      "                     'amount1In': '0.128050033997107593',\n",
      "                     'amount1Out': '0',\n",
      "                     'amountUSD': '235.927223254465913385978437799856',\n",
      "                     'id': '0xd4cb845cfc3515e7a1c2f2ddfc816a710bff9070e4956a105b536d6a5410a10e-0',\n",
      "                     'pair': {'token0': {'symbol': 'LSS'},\n",
      "                              'token1': {'symbol': 'WETH'}},\n",
      "                     'to': '0x62e3c242b5e903071458ad90a160493d84911c77',\n",
      "                     'transaction': {'id': '0xd4cb845cfc3515e7a1c2f2ddfc816a710bff9070e4956a105b536d6a5410a10e',\n",
      "                                     'timestamp': '1654368221'}},\n",
      "                    {'amount0In': '649.3506494',\n",
      "                     'amount0Out': '0',\n",
      "                     'amount1In': '0',\n",
      "                     'amount1Out': '0.055744419541839009',\n",
      "                     'amountUSD': '97.74343227385096792009322612203958',\n",
      "                     'id': '0xdab8a338685086f3a649c806f143d714bb57bcfdb4bba65714a3792d4d1ff61f-0',\n",
      "                     'pair': {'token0': {'symbol': 'LSS'},\n",
      "                              'token1': {'symbol': 'WETH'}},\n",
      "                     'to': '0x1111111254fb6c44bac0bed2854e76f90643097d',\n",
      "                     'transaction': {'id': '0xdab8a338685086f3a649c806f143d714bb57bcfdb4bba65714a3792d4d1ff61f',\n",
      "                                     'timestamp': '1654355955'}},\n",
      "                    {'amount0In': '649.3506494',\n",
      "                     'amount0Out': '0',\n",
      "                     'amount1In': '0',\n",
      "                     'amount1Out': '0.059576286529611879',\n",
      "                     'amountUSD': '103.9266376047320051222919560688396',\n",
      "                     'id': '0xf9151901ab58da0e8785f5ddd6cff1330300ef3295e5b16289ed7d3697ed7bb8-0',\n",
      "                     'pair': {'token0': {'symbol': 'LSS'},\n",
      "                              'token1': {'symbol': 'WETH'}},\n",
      "                     'to': '0x74de5d4fcbf63e00296fd95d33236b9794016631',\n",
      "                     'transaction': {'id': '0xf9151901ab58da0e8785f5ddd6cff1330300ef3295e5b16289ed7d3697ed7bb8',\n",
      "                                     'timestamp': '1654331694'}},\n",
      "                    {'amount0In': '795.971169044984265937',\n",
      "                     'amount0Out': '0',\n",
      "                     'amount1In': '0',\n",
      "                     'amount1Out': '0.078862053404149897',\n",
      "                     'amountUSD': '136.3305398378179535983766948651003',\n",
      "                     'id': '0x63cebc89e8574f8c96339779bb31068979cbcb4f4366c21631c014375415a239-1',\n",
      "                     'pair': {'token0': {'symbol': 'LSS'},\n",
      "                              'token1': {'symbol': 'WETH'}},\n",
      "                     'to': '0xdfee68a9adb981cd08699891a11cabe10f25ec44',\n",
      "                     'transaction': {'id': '0x63cebc89e8574f8c96339779bb31068979cbcb4f4366c21631c014375415a239',\n",
      "                                     'timestamp': '1654320314'}},\n",
      "                    {'amount0In': '0',\n",
      "                     'amount0Out': '660.630532492903679132',\n",
      "                     'amount1In': '0.06630785691288',\n",
      "                     'amount1Out': '0',\n",
      "                     'amountUSD': '118.8908060508276740601290076538775',\n",
      "                     'id': '0x53e33f42a7ced90c83cede83b7ea9bbf202acebbdb8ca3ad66fce8a2ab895bdb-0',\n",
      "                     'pair': {'token0': {'symbol': 'LSS'},\n",
      "                              'token1': {'symbol': 'WETH'}},\n",
      "                     'to': '0x1111111254fb6c44bac0bed2854e76f90643097d',\n",
      "                     'transaction': {'id': '0x53e33f42a7ced90c83cede83b7ea9bbf202acebbdb8ca3ad66fce8a2ab895bdb',\n",
      "                                     'timestamp': '1654319503'}},\n",
      "                    {'amount0In': '649.3506494',\n",
      "                     'amount0Out': '0',\n",
      "                     'amount1In': '0',\n",
      "                     'amount1Out': '0.064744802358038793',\n",
      "                     'amountUSD': '112.1308276472676306164493837938778',\n",
      "                     'id': '0xbed174bf7dc6c709589ed72a42f18a8b00b3d6352e98a384d8b0a0245fa4a6cd-0',\n",
      "                     'pair': {'token0': {'symbol': 'LSS'},\n",
      "                              'token1': {'symbol': 'WETH'}},\n",
      "                     'to': '0x0d4a11d5eeaac28ec3f61d100daf4d40471f1852',\n",
      "                     'transaction': {'id': '0xbed174bf7dc6c709589ed72a42f18a8b00b3d6352e98a384d8b0a0245fa4a6cd',\n",
      "                                     'timestamp': '1654315850'}},\n",
      "                    {'amount0In': '0',\n",
      "                     'amount0Out': '796.981149662969058611',\n",
      "                     'amount1In': '0.0793',\n",
      "                     'amount1Out': '0',\n",
      "                     'amountUSD': '156.4588332495983036468669903795499',\n",
      "                     'id': '0x31e9a0957a1ecb151db8020690479b505604da7dd87edb7372514b9972cfa89f-0',\n",
      "                     'pair': {'token0': {'symbol': 'LSS'},\n",
      "                              'token1': {'symbol': 'WETH'}},\n",
      "                     'to': '0x74de5d4fcbf63e00296fd95d33236b9794016631',\n",
      "                     'transaction': {'id': '0x31e9a0957a1ecb151db8020690479b505604da7dd87edb7372514b9972cfa89f',\n",
      "                                     'timestamp': '1654093228'}},\n",
      "                    {'amount0In': '71',\n",
      "                     'amount0Out': '0',\n",
      "                     'amount1In': '0',\n",
      "                     'amount1Out': '0.006751125431928191',\n",
      "                     'amountUSD': '13.35254543361124762806648622181167',\n",
      "                     'id': '0xe90025e58f52c651efbb3065aac615e4fd2e73027ac78fda2c0134842488217d-0',\n",
      "                     'pair': {'token0': {'symbol': 'LSS'},\n",
      "                              'token1': {'symbol': 'WETH'}},\n",
      "                     'to': '0xdef1c0ded9bec7f1a1670819833240f027b25eff',\n",
      "                     'transaction': {'id': '0xe90025e58f52c651efbb3065aac615e4fd2e73027ac78fda2c0134842488217d',\n",
      "                                     'timestamp': '1653998122'}},\n",
      "                    {'amount0In': '101.092963215313855836',\n",
      "                     'amount0Out': '0',\n",
      "                     'amount1In': '0',\n",
      "                     'amount1Out': '0.009700883586962019',\n",
      "                     'amountUSD': '19.15961668481354238347161927548402',\n",
      "                     'id': '0x81cf42d0fe00e5ae8b0623c212180daa3fb4f097296cdd93617593983a164c5e-0',\n",
      "                     'pair': {'token0': {'symbol': 'LSS'},\n",
      "                              'token1': {'symbol': 'WETH'}},\n",
      "                     'to': '0xb154256024041e3011c8024874e698b69a2081b3',\n",
      "                     'transaction': {'id': '0x81cf42d0fe00e5ae8b0623c212180daa3fb4f097296cdd93617593983a164c5e',\n",
      "                                     'timestamp': '1653947473'}},\n",
      "                    {'amount0In': '223.9882349613959754',\n",
      "                     'amount0Out': '0',\n",
      "                     'amount1In': '0',\n",
      "                     'amount1Out': '0.021871646346402171',\n",
      "                     'amountUSD': '41.29240151776651434062848762870909',\n",
      "                     'id': '0xe5a14f2506f39d1491be6bbff76aa6d9b011e829850e875af341ac652e15aa83-0',\n",
      "                     'pair': {'token0': {'symbol': 'LSS'},\n",
      "                              'token1': {'symbol': 'WETH'}},\n",
      "                     'to': '0x819f3450da6f110ba6ea52195b3beafa246062de',\n",
      "                     'transaction': {'id': '0xe5a14f2506f39d1491be6bbff76aa6d9b011e829850e875af341ac652e15aa83',\n",
      "                                     'timestamp': '1653906554'}},\n",
      "                    {'amount0In': '0',\n",
      "                     'amount0Out': '150.775743998681667518',\n",
      "                     'amount1In': '0.01486875',\n",
      "                     'amount1Out': '0',\n",
      "                     'amountUSD': '26.61577370979348202031932776566078',\n",
      "                     'id': '0x23039564064839251d932df1ff66c8f39c27d28e2452813e5e09a1032b1edb7e-0',\n",
      "                     'pair': {'token0': {'symbol': 'LSS'},\n",
      "                              'token1': {'symbol': 'WETH'}},\n",
      "                     'to': '0x74de5d4fcbf63e00296fd95d33236b9794016631',\n",
      "                     'transaction': {'id': '0x23039564064839251d932df1ff66c8f39c27d28e2452813e5e09a1032b1edb7e',\n",
      "                                     'timestamp': '1653743440'}},\n",
      "                    {'amount0In': '500',\n",
      "                     'amount0Out': '0',\n",
      "                     'amount1In': '0',\n",
      "                     'amount1Out': '0.049956097060730434',\n",
      "                     'amountUSD': '86.86245729672972480444830868981839',\n",
      "                     'id': '0xbe0b34e7843270a47c10f69ada1dcbfce9cce1defbae08785b4500385253d57e-0',\n",
      "                     'pair': {'token0': {'symbol': 'LSS'},\n",
      "                              'token1': {'symbol': 'WETH'}},\n",
      "                     'to': '0x68b3465833fb72a70ecdf485e0e4c7bd8665fc45',\n",
      "                     'transaction': {'id': '0xbe0b34e7843270a47c10f69ada1dcbfce9cce1defbae08785b4500385253d57e',\n",
      "                                     'timestamp': '1653715524'}},\n",
      "                    {'amount0In': '0',\n",
      "                     'amount0Out': '54.715846844171226931',\n",
      "                     'amount1In': '0.005633882968885601',\n",
      "                     'amount1Out': '0',\n",
      "                     'amountUSD': '9.90789953078218290559802966516132',\n",
      "                     'id': '0xf7964edc00f1f646a62471f564eb3a72fca63c7cd1cbaae04402a0939793bb6f-0',\n",
      "                     'pair': {'token0': {'symbol': 'LSS'},\n",
      "                              'token1': {'symbol': 'WETH'}},\n",
      "                     'to': '0xe66b31678d6c16e9ebf358268a790b763c133750',\n",
      "                     'transaction': {'id': '0xf7964edc00f1f646a62471f564eb3a72fca63c7cd1cbaae04402a0939793bb6f',\n",
      "                                     'timestamp': '1653711224'}},\n",
      "                    {'amount0In': '0',\n",
      "                     'amount0Out': '598.482964540643444813',\n",
      "                     'amount1In': '0.059475',\n",
      "                     'amount1Out': '0',\n",
      "                     'amountUSD': '104.4741263914959095834138361822416',\n",
      "                     'id': '0xab20091427be1590b1dd7a914e1c67edd8f76403494a6e9ccdc6d11487f1a612-0',\n",
      "                     'pair': {'token0': {'symbol': 'LSS'},\n",
      "                              'token1': {'symbol': 'WETH'}},\n",
      "                     'to': '0x74de5d4fcbf63e00296fd95d33236b9794016631',\n",
      "                     'transaction': {'id': '0xab20091427be1590b1dd7a914e1c67edd8f76403494a6e9ccdc6d11487f1a612',\n",
      "                                     'timestamp': '1653674349'}},\n",
      "                    {'amount0In': '703.17899180649277243',\n",
      "                     'amount0Out': '0',\n",
      "                     'amount1In': '0',\n",
      "                     'amount1Out': '0.069862843054163821',\n",
      "                     'amountUSD': '120.3826242302718475094707230400238',\n",
      "                     'id': '0x768643e907ff1de780fcd772e9017db4a4195d47f0cce716ccc3d42bc92bb0d7-3',\n",
      "                     'pair': {'token0': {'symbol': 'LSS'},\n",
      "                              'token1': {'symbol': 'WETH'}},\n",
      "                     'to': '0xf6465aa892574e159dd1b4ab92ce12a3dbe47774',\n",
      "                     'transaction': {'id': '0x768643e907ff1de780fcd772e9017db4a4195d47f0cce716ccc3d42bc92bb0d7',\n",
      "                                     'timestamp': '1653618664'}},\n",
      "                    {'amount0In': '0',\n",
      "                     'amount0Out': '900.000000000000004801',\n",
      "                     'amount1In': '0.089001046044215919',\n",
      "                     'amount1Out': '0',\n",
      "                     'amountUSD': '165.3071079891740611363967643834836',\n",
      "                     'id': '0xb20ba309a5ac6d41e185ee8dce96f2006202f0b97459370a476a7eb448036ea0-0',\n",
      "                     'pair': {'token0': {'symbol': 'LSS'},\n",
      "                              'token1': {'symbol': 'WETH'}},\n",
      "                     'to': '0x01ebd1d4329a976069bc05307fce9829b7b563bb',\n",
      "                     'transaction': {'id': '0xb20ba309a5ac6d41e185ee8dce96f2006202f0b97459370a476a7eb448036ea0',\n",
      "                                     'timestamp': '1653566298'}},\n",
      "                    {'amount0In': '0',\n",
      "                     'amount0Out': '151.693275750750221856',\n",
      "                     'amount1In': '0.014176066657326759',\n",
      "                     'amount1Out': '0',\n",
      "                     'amountUSD': '27.70854344606504728447939803219594',\n",
      "                     'id': '0x914ba1fea118b2c8dabb46a5d09af54c2c0bf717c6b4fa8f9c07e5ee08b1dddf-1',\n",
      "                     'pair': {'token0': {'symbol': 'LSS'},\n",
      "                              'token1': {'symbol': 'WETH'}},\n",
      "                     'to': '0xe66b31678d6c16e9ebf358268a790b763c133750',\n",
      "                     'transaction': {'id': '0x914ba1fea118b2c8dabb46a5d09af54c2c0bf717c6b4fa8f9c07e5ee08b1dddf',\n",
      "                                     'timestamp': '1653534018'}},\n",
      "                    {'amount0In': '418.873312728538298099',\n",
      "                     'amount0Out': '0',\n",
      "                     'amount1In': '0',\n",
      "                     'amount1Out': '0.039465613604327486',\n",
      "                     'amountUSD': '76.75636328953282346800539064014253',\n",
      "                     'id': '0x5b62825667c0a0df08c0a9e6e731f2b25c1305cd4226cc1ad7e59734e1ab06b0-0',\n",
      "                     'pair': {'token0': {'symbol': 'LSS'},\n",
      "                              'token1': {'symbol': 'WETH'}},\n",
      "                     'to': '0x55d5c232d921b9eaa6b37b5845e439acd04b4dba',\n",
      "                     'transaction': {'id': '0x5b62825667c0a0df08c0a9e6e731f2b25c1305cd4226cc1ad7e59734e1ab06b0',\n",
      "                                     'timestamp': '1653508196'}},\n",
      "                    {'amount0In': '0',\n",
      "                     'amount0Out': '97.275419748220968481',\n",
      "                     'amount1In': '0.009377249264915275',\n",
      "                     'amount1Out': '0',\n",
      "                     'amountUSD': '18.46310679725671039832136281218507',\n",
      "                     'id': '0xd922555722b72a5dc3cd3c93de3c8b7d2067b13ebb572182d4920fe64c7d62f3-0',\n",
      "                     'pair': {'token0': {'symbol': 'LSS'},\n",
      "                              'token1': {'symbol': 'WETH'}},\n",
      "                     'to': '0x4ade08995a53f1dc34c83e5b1fcf5e4482c56c52',\n",
      "                     'transaction': {'id': '0xd922555722b72a5dc3cd3c93de3c8b7d2067b13ebb572182d4920fe64c7d62f3',\n",
      "                                     'timestamp': '1653393766'}},\n",
      "                    {'amount0In': '0',\n",
      "                     'amount0Out': '389.791325814514170169',\n",
      "                     'amount1In': '0.0366201',\n",
      "                     'amount1Out': '0',\n",
      "                     'amountUSD': '72.64839058718377630798711262532944',\n",
      "                     'id': '0x7a9c1bec0d1a291063ec1ee35ee510504e0e29d5bb7e86c55fc00718642dced3-0',\n",
      "                     'pair': {'token0': {'symbol': 'LSS'},\n",
      "                              'token1': {'symbol': 'WETH'}},\n",
      "                     'to': '0xe66b31678d6c16e9ebf358268a790b763c133750',\n",
      "                     'transaction': {'id': '0x7a9c1bec0d1a291063ec1ee35ee510504e0e29d5bb7e86c55fc00718642dced3',\n",
      "                                     'timestamp': '1653386577'}},\n",
      "                    {'amount0In': '556.21655059015302902',\n",
      "                     'amount0Out': '0',\n",
      "                     'amount1In': '0',\n",
      "                     'amount1Out': '0.052405977924032618',\n",
      "                     'amountUSD': '102.7380272814817697386993905341531',\n",
      "                     'id': '0xd7d25938d8c9fae73082bf722093ddecbc9d81c099a4b92fc076606dcaa7ec4a-0',\n",
      "                     'pair': {'token0': {'symbol': 'LSS'},\n",
      "                              'token1': {'symbol': 'WETH'}},\n",
      "                     'to': '0x1111111254fb6c44bac0bed2854e76f90643097d',\n",
      "                     'transaction': {'id': '0xd7d25938d8c9fae73082bf722093ddecbc9d81c099a4b92fc076606dcaa7ec4a',\n",
      "                                     'timestamp': '1653368329'}},\n",
      "                    {'amount0In': '0',\n",
      "                     'amount0Out': '205.357009764956948526',\n",
      "                     'amount1In': '0.019825',\n",
      "                     'amount1Out': '0',\n",
      "                     'amountUSD': '39.97875220677179423994164465268367',\n",
      "                     'id': '0x76c24f8c36f561b6837ef2804e06ffdc17a95fc38c9b72e754f7bd5964986d89-0',\n",
      "                     'pair': {'token0': {'symbol': 'LSS'},\n",
      "                              'token1': {'symbol': 'WETH'}},\n",
      "                     'to': '0x74de5d4fcbf63e00296fd95d33236b9794016631',\n",
      "                     'transaction': {'id': '0x76c24f8c36f561b6837ef2804e06ffdc17a95fc38c9b72e754f7bd5964986d89',\n",
      "                                     'timestamp': '1653253704'}},\n",
      "                    {'amount0In': '0',\n",
      "                     'amount0Out': '59.589248573242921344',\n",
      "                     'amount1In': '0.005672044741446481',\n",
      "                     'amount1Out': '0',\n",
      "                     'amountUSD': '11.46369991987454336002841329534455',\n",
      "                     'id': '0xb81b2a7078484a6f7d990f6f9cead650caa2b8f7f9f52cb45b4dd27fc42ceb33-0',\n",
      "                     'pair': {'token0': {'symbol': 'LSS'},\n",
      "                              'token1': {'symbol': 'WETH'}},\n",
      "                     'to': '0x74de5d4fcbf63e00296fd95d33236b9794016631',\n",
      "                     'transaction': {'id': '0xb81b2a7078484a6f7d990f6f9cead650caa2b8f7f9f52cb45b4dd27fc42ceb33',\n",
      "                                     'timestamp': '1653230952'}},\n",
      "                    {'amount0In': '0',\n",
      "                     'amount0Out': '318.700972138232260149',\n",
      "                     'amount1In': '0.0297375',\n",
      "                     'amount1Out': '0',\n",
      "                     'amountUSD': '60.80112631516524084772941276387626',\n",
      "                     'id': '0x7fab2fc7db3479e8785ad98ab575270cb5175d7e00b42eccdc70ea3b2f6e0114-0',\n",
      "                     'pair': {'token0': {'symbol': 'LSS'},\n",
      "                              'token1': {'symbol': 'WETH'}},\n",
      "                     'to': '0x74de5d4fcbf63e00296fd95d33236b9794016631',\n",
      "                     'transaction': {'id': '0x7fab2fc7db3479e8785ad98ab575270cb5175d7e00b42eccdc70ea3b2f6e0114',\n",
      "                                     'timestamp': '1653218193'}},\n",
      "                    {'amount0In': '649.3506494',\n",
      "                     'amount0Out': '0',\n",
      "                     'amount1In': '0',\n",
      "                     'amount1Out': '0.061298742444851194',\n",
      "                     'amountUSD': '119.2952097314607460778951414175391',\n",
      "                     'id': '0x76ada75f8b6cbbd418fd9cefb72d0c45292a66502cc871a4d9a8dec3b68eae1b-0',\n",
      "                     'pair': {'token0': {'symbol': 'LSS'},\n",
      "                              'token1': {'symbol': 'WETH'}},\n",
      "                     'to': '0x7a250d5630b4cf539739df2c5dacb4c659f2488d',\n",
      "                     'transaction': {'id': '0x76ada75f8b6cbbd418fd9cefb72d0c45292a66502cc871a4d9a8dec3b68eae1b',\n",
      "                                     'timestamp': '1653181504'}},\n",
      "                    {'amount0In': '0',\n",
      "                     'amount0Out': '25.607531942939440449',\n",
      "                     'amount1In': '0.002513187889988374',\n",
      "                     'amount1Out': '0',\n",
      "                     'amountUSD': '4.948225177421160701789194637112181',\n",
      "                     'id': '0x9102df1e85901b0e017e9ebb51e034e9877c044eb5e7febf9a53569112f34f88-0',\n",
      "                     'pair': {'token0': {'symbol': 'LSS'},\n",
      "                              'token1': {'symbol': 'WETH'}},\n",
      "                     'to': '0xe66b31678d6c16e9ebf358268a790b763c133750',\n",
      "                     'transaction': {'id': '0x9102df1e85901b0e017e9ebb51e034e9877c044eb5e7febf9a53569112f34f88',\n",
      "                                     'timestamp': '1653172001'}},\n",
      "                    {'amount0In': '0',\n",
      "                     'amount0Out': '42.285050046616232002',\n",
      "                     'amount1In': '0.004134824089633718',\n",
      "                     'amount1Out': '0',\n",
      "                     'amountUSD': '8.1460452032564680119049027756164',\n",
      "                     'id': '0x2b2b50ae4398a9797d6a33c987d0053e848e7f89eaf6561079998278174a9fa2-0',\n",
      "                     'pair': {'token0': {'symbol': 'LSS'},\n",
      "                              'token1': {'symbol': 'WETH'}},\n",
      "                     'to': '0xe66b31678d6c16e9ebf358268a790b763c133750',\n",
      "                     'transaction': {'id': '0x2b2b50ae4398a9797d6a33c987d0053e848e7f89eaf6561079998278174a9fa2',\n",
      "                                     'timestamp': '1653126408'}},\n",
      "                    {'amount0In': '0',\n",
      "                     'amount0Out': '207.281714235711557169',\n",
      "                     'amount1In': '0.02',\n",
      "                     'amount1Out': '0',\n",
      "                     'amountUSD': '39.34238836694502153678662459749689',\n",
      "                     'id': '0xce6647fbdd918de4492f3c156ba1211f6fd639b6729059c6a853cab0903de7d1-0',\n",
      "                     'pair': {'token0': {'symbol': 'LSS'},\n",
      "                              'token1': {'symbol': 'WETH'}},\n",
      "                     'to': '0xd27c58742093bc66b7cc2525d6a4cb0bd51e4e9a',\n",
      "                     'transaction': {'id': '0xce6647fbdd918de4492f3c156ba1211f6fd639b6729059c6a853cab0903de7d1',\n",
      "                                     'timestamp': '1653091556'}},\n",
      "                    {'amount0In': '515.898144177136454023',\n",
      "                     'amount0Out': '0',\n",
      "                     'amount1In': '0',\n",
      "                     'amount1Out': '0.050311933873345891',\n",
      "                     'amountUSD': '97.49796824769974128529797537221046',\n",
      "                     'id': '0xd5fd44b3116296f85c6c06e12465cdb3438a671e5e871b166151b21372b4d8b7-3',\n",
      "                     'pair': {'token0': {'symbol': 'LSS'},\n",
      "                              'token1': {'symbol': 'WETH'}},\n",
      "                     'to': '0xf6465aa892574e159dd1b4ab92ce12a3dbe47774',\n",
      "                     'transaction': {'id': '0xd5fd44b3116296f85c6c06e12465cdb3438a671e5e871b166151b21372b4d8b7',\n",
      "                                     'timestamp': '1653085104'}},\n",
      "                    {'amount0In': '0',\n",
      "                     'amount0Out': '370.603981263082818552',\n",
      "                     'amount1In': '0.036637420676258145',\n",
      "                     'amount1Out': '0',\n",
      "                     'amountUSD': '74.30850609833499209582744714867835',\n",
      "                     'id': '0x10ad8a2f51ad8d9666312e6d0b769c49b282485f4f2c8794659ae678fa6f47b3-0',\n",
      "                     'pair': {'token0': {'symbol': 'LSS'},\n",
      "                              'token1': {'symbol': 'WETH'}},\n",
      "                     'to': '0x61e9f3f3491dfd96e12798bdccee8d5ed5fbdf82',\n",
      "                     'transaction': {'id': '0x10ad8a2f51ad8d9666312e6d0b769c49b282485f4f2c8794659ae678fa6f47b3',\n",
      "                                     'timestamp': '1652986248'}},\n",
      "                    {'amount0In': '0',\n",
      "                     'amount0Out': '104.634469113938430328',\n",
      "                     'amount1In': '0.010082570138788106',\n",
      "                     'amount1Out': '0',\n",
      "                     'amountUSD': '19.82806608172378186140267997758479',\n",
      "                     'id': '0x7e0f95d59368651aebd2be04c6c6b22e512e5af4f0c66653b4cb58212e9210c5-0',\n",
      "                     'pair': {'token0': {'symbol': 'LSS'},\n",
      "                              'token1': {'symbol': 'WETH'}},\n",
      "                     'to': '0xe66b31678d6c16e9ebf358268a790b763c133750',\n",
      "                     'transaction': {'id': '0x7e0f95d59368651aebd2be04c6c6b22e512e5af4f0c66653b4cb58212e9210c5',\n",
      "                                     'timestamp': '1652944570'}},\n",
      "                    {'amount0In': '126.75994189882278656',\n",
      "                     'amount0Out': '0',\n",
      "                     'amount1In': '0',\n",
      "                     'amount1Out': '0.012155776795158677',\n",
      "                     'amountUSD': '23.23050349599830136628082854992079',\n",
      "                     'id': '0x5dbff96761cfdc9ede6a862f8fddd57d8c2b9f8f0da9d8f7fba126af2ae62727-0',\n",
      "                     'pair': {'token0': {'symbol': 'LSS'},\n",
      "                              'token1': {'symbol': 'WETH'}},\n",
      "                     'to': '0x1ffc57cada109985ad896a69fbcebd565db4290e',\n",
      "                     'transaction': {'id': '0x5dbff96761cfdc9ede6a862f8fddd57d8c2b9f8f0da9d8f7fba126af2ae62727',\n",
      "                                     'timestamp': '1652927670'}},\n",
      "                    {'amount0In': '0',\n",
      "                     'amount0Out': '616.933230393575273764',\n",
      "                     'amount1In': '0.058',\n",
      "                     'amount1Out': '0',\n",
      "                     'amountUSD': '116.0844329547510405967665698122467',\n",
      "                     'id': '0x9456f3cd6a1c3544a5d9908d51a0952c409dcacd23cbc306f3d55d6e55922223-0',\n",
      "                     'pair': {'token0': {'symbol': 'LSS'},\n",
      "                              'token1': {'symbol': 'WETH'}},\n",
      "                     'to': '0xf98cc4b710944e3c72c8f206a09421ec102dca08',\n",
      "                     'transaction': {'id': '0x9456f3cd6a1c3544a5d9908d51a0952c409dcacd23cbc306f3d55d6e55922223',\n",
      "                                     'timestamp': '1652893203'}},\n",
      "                    {'amount0In': '0',\n",
      "                     'amount0Out': '18692.444878206688719986',\n",
      "                     'amount1In': '275.378678278361256229',\n",
      "                     'amount1Out': '0',\n",
      "                     'amountUSD': '542567.4691634595645457724714387508',\n",
      "                     'id': '0x3f56893c8054435f938a9a616e497e34abcf7cd112b502edca6aca6e8b705580-0',\n",
      "                     'pair': {'token0': {'symbol': 'LSS'},\n",
      "                              'token1': {'symbol': 'WETH'}},\n",
      "                     'to': '0x62e3c242b5e903071458ad90a160493d84911c77',\n",
      "                     'transaction': {'id': '0x3f56893c8054435f938a9a616e497e34abcf7cd112b502edca6aca6e8b705580',\n",
      "                                     'timestamp': '1652885941'}},\n",
      "                    {'amount0In': '19182.65694268854537956',\n",
      "                     'amount0Out': '0',\n",
      "                     'amount1In': '0',\n",
      "                     'amount1Out': '275.413618359960249096',\n",
      "                     'amountUSD': '273032.8278084397591811986813123268',\n",
      "                     'id': '0x0a8d3374ea8e014d52cffe1787c70f111a7d01ae96a95c11f12a15940b8b413a-1',\n",
      "                     'pair': {'token0': {'symbol': 'LSS'},\n",
      "                              'token1': {'symbol': 'WETH'}},\n",
      "                     'to': '0x00000000726422a6fecb4759b44d47e48cf746aa',\n",
      "                     'transaction': {'id': '0x0a8d3374ea8e014d52cffe1787c70f111a7d01ae96a95c11f12a15940b8b413a',\n",
      "                                     'timestamp': '1652885941'}},\n",
      "                    {'amount0In': '627.205169610126771273',\n",
      "                     'amount0Out': '0',\n",
      "                     'amount1In': '0',\n",
      "                     'amount1Out': '0.061426743567081832',\n",
      "                     'amountUSD': '123.4231188452494240621322613782524',\n",
      "                     'id': '0x038c1cc5f323c9d2773740d5c05ef6ebf542ffd719b56f496d8b4f423769f8ee-3',\n",
      "                     'pair': {'token0': {'symbol': 'LSS'},\n",
      "                              'token1': {'symbol': 'WETH'}},\n",
      "                     'to': '0xa1006d0051a35b0000f961a8000000009ea8d2db',\n",
      "                     'transaction': {'id': '0x038c1cc5f323c9d2773740d5c05ef6ebf542ffd719b56f496d8b4f423769f8ee',\n",
      "                                     'timestamp': '1652870419'}},\n",
      "                    {'amount0In': '0',\n",
      "                     'amount0Out': '288.678817230594819051',\n",
      "                     'amount1In': '0.02895970509528258',\n",
      "                     'amount1Out': '0',\n",
      "                     'amountUSD': '59.46862283771720439746519357363852',\n",
      "                     'id': '0x1cd79911798e261254be845fe2fb795e313bc2fffcdacc04d61edacb1f0535a3-1',\n",
      "                     'pair': {'token0': {'symbol': 'LSS'},\n",
      "                              'token1': {'symbol': 'WETH'}},\n",
      "                     'to': '0x74de5d4fcbf63e00296fd95d33236b9794016631',\n",
      "                     'transaction': {'id': '0x1cd79911798e261254be845fe2fb795e313bc2fffcdacc04d61edacb1f0535a3',\n",
      "                                     'timestamp': '1652870204'}},\n",
      "                    {'amount0In': '679.050895210267619277',\n",
      "                     'amount0Out': '0',\n",
      "                     'amount1In': '0',\n",
      "                     'amount1Out': '0.069198275792168017',\n",
      "                     'amountUSD': '138.6338869571110569477045199189995',\n",
      "                     'id': '0xacc6357c73595c532b6d3559ea0eb86d48c22992a6d19bac892aefea6aedf941-3',\n",
      "                     'pair': {'token0': {'symbol': 'LSS'},\n",
      "                              'token1': {'symbol': 'WETH'}},\n",
      "                     'to': '0xf6465aa892574e159dd1b4ab92ce12a3dbe47774',\n",
      "                     'transaction': {'id': '0xacc6357c73595c532b6d3559ea0eb86d48c22992a6d19bac892aefea6aedf941',\n",
      "                                     'timestamp': '1652848559'}},\n",
      "                    {'amount0In': '168.35052291060731083',\n",
      "                     'amount0Out': '0',\n",
      "                     'amount1In': '0',\n",
      "                     'amount1Out': '0.01797836526728861',\n",
      "                     'amountUSD': '37.08531881445753994342303271682596',\n",
      "                     'id': '0x43e22c5c32e17e5c00b10a3977ddf0f9f45f0fa045fd30c6975f0af6c85aef1c-0',\n",
      "                     'pair': {'token0': {'symbol': 'LSS'},\n",
      "                              'token1': {'symbol': 'WETH'}},\n",
      "                     'to': '0xdef1c0ded9bec7f1a1670819833240f027b25eff',\n",
      "                     'transaction': {'id': '0x43e22c5c32e17e5c00b10a3977ddf0f9f45f0fa045fd30c6975f0af6c85aef1c',\n",
      "                                     'timestamp': '1652839453'}},\n",
      "                    {'amount0In': '0',\n",
      "                     'amount0Out': '131.15283031947390349',\n",
      "                     'amount1In': '0.01411919068989123',\n",
      "                     'amount1Out': '0',\n",
      "                     'amountUSD': '29.72074769225896876706676739164722',\n",
      "                     'id': '0x13c9b792c3b991a01dd2368db2cb477ef4e67ee2b65ea07e7b9114862ea5eaf4-0',\n",
      "                     'pair': {'token0': {'symbol': 'LSS'},\n",
      "                              'token1': {'symbol': 'WETH'}},\n",
      "                     'to': '0xe66b31678d6c16e9ebf358268a790b763c133750',\n",
      "                     'transaction': {'id': '0x13c9b792c3b991a01dd2368db2cb477ef4e67ee2b65ea07e7b9114862ea5eaf4',\n",
      "                                     'timestamp': '1652834485'}},\n",
      "                    {'amount0In': '0',\n",
      "                     'amount0Out': '330.73157159793856884',\n",
      "                     'amount1In': '0.03469375',\n",
      "                     'amount1Out': '0',\n",
      "                     'amountUSD': '71.8333308304662989466495164010633',\n",
      "                     'id': '0x3ee87abedcb42edcffa6f7041dd17e94fe5f33b0889548b7e4dc6ebd4b550b54-0',\n",
      "                     'pair': {'token0': {'symbol': 'LSS'},\n",
      "                              'token1': {'symbol': 'WETH'}},\n",
      "                     'to': '0x74de5d4fcbf63e00296fd95d33236b9794016631',\n",
      "                     'transaction': {'id': '0x3ee87abedcb42edcffa6f7041dd17e94fe5f33b0889548b7e4dc6ebd4b550b54',\n",
      "                                     'timestamp': '1652807178'}},\n",
      "                    {'amount0In': '0',\n",
      "                     'amount0Out': '188.785579074807866185',\n",
      "                     'amount1In': '0.019240159460109465',\n",
      "                     'amount1Out': '0',\n",
      "                     'amountUSD': '39.65846373638904449569044206381727',\n",
      "                     'id': '0x3097556601a421da41d175f06277b0ffe0f251f102bdc7c1172529702a8e3f39-0',\n",
      "                     'pair': {'token0': {'symbol': 'LSS'},\n",
      "                              'token1': {'symbol': 'WETH'}},\n",
      "                     'to': '0xe66b31678d6c16e9ebf358268a790b763c133750',\n",
      "                     'transaction': {'id': '0x3097556601a421da41d175f06277b0ffe0f251f102bdc7c1172529702a8e3f39',\n",
      "                                     'timestamp': '1652806560'}},\n",
      "                    {'amount0In': '0',\n",
      "                     'amount0Out': '11.308874130298954117',\n",
      "                     'amount1In': '0.0011399375',\n",
      "                     'amount1Out': '0',\n",
      "                     'amountUSD': '2.373616817067755877457703867204902',\n",
      "                     'id': '0x5bc0a950c9fa46db52f9beaf6179e0a4b8e14698eb3c8fe6021714e5a8d1dad5-0',\n",
      "                     'pair': {'token0': {'symbol': 'LSS'},\n",
      "                              'token1': {'symbol': 'WETH'}},\n",
      "                     'to': '0x74de5d4fcbf63e00296fd95d33236b9794016631',\n",
      "                     'transaction': {'id': '0x5bc0a950c9fa46db52f9beaf6179e0a4b8e14698eb3c8fe6021714e5a8d1dad5',\n",
      "                                     'timestamp': '1652784357'}},\n",
      "                    {'amount0In': '0',\n",
      "                     'amount0Out': '25.520976703930518827',\n",
      "                     'amount1In': '0.0025673375',\n",
      "                     'amount1Out': '0',\n",
      "                     'amountUSD': '5.349068445802699981680005473848307',\n",
      "                     'id': '0xab7a066dd4b0841f250b22a3b435ca0b28c4db99a426b208131fc29b6309751f-0',\n",
      "                     'pair': {'token0': {'symbol': 'LSS'},\n",
      "                              'token1': {'symbol': 'WETH'}},\n",
      "                     'to': '0x74de5d4fcbf63e00296fd95d33236b9794016631',\n",
      "                     'transaction': {'id': '0xab7a066dd4b0841f250b22a3b435ca0b28c4db99a426b208131fc29b6309751f',\n",
      "                                     'timestamp': '1652784257'}},\n",
      "                    {'amount0In': '0',\n",
      "                     'amount0Out': '44.511572634686882482',\n",
      "                     'amount1In': '0.004460625',\n",
      "                     'amount1Out': '0',\n",
      "                     'amountUSD': '9.300427425712127567667836066857025',\n",
      "                     'id': '0x2b50848ca8349e330f56154311ca4346b568a520a584f47fa2ac8973a137500b-0',\n",
      "                     'pair': {'token0': {'symbol': 'LSS'},\n",
      "                              'token1': {'symbol': 'WETH'}},\n",
      "                     'to': '0x74de5d4fcbf63e00296fd95d33236b9794016631',\n",
      "                     'transaction': {'id': '0x2b50848ca8349e330f56154311ca4346b568a520a584f47fa2ac8973a137500b',\n",
      "                                     'timestamp': '1652784116'}},\n",
      "                    {'amount0In': '0',\n",
      "                     'amount0Out': '486.746034133416775165',\n",
      "                     'amount1In': '0.047399491532727194',\n",
      "                     'amount1Out': '0',\n",
      "                     'amountUSD': '100.1837720763021337472267533668592',\n",
      "                     'id': '0x6e950d1ba6c1d75892103aa1d1c033d6d12e352937ed71aa843f2b4ae39d6a9f-0',\n",
      "                     'pair': {'token0': {'symbol': 'LSS'},\n",
      "                              'token1': {'symbol': 'WETH'}},\n",
      "                     'to': '0xe66b31678d6c16e9ebf358268a790b763c133750',\n",
      "                     'transaction': {'id': '0x6e950d1ba6c1d75892103aa1d1c033d6d12e352937ed71aa843f2b4ae39d6a9f',\n",
      "                                     'timestamp': '1652779583'}},\n",
      "                    {'amount0In': '0',\n",
      "                     'amount0Out': '929.90059524904197795',\n",
      "                     'amount1In': '0.084055598069770157',\n",
      "                     'amount1Out': '0',\n",
      "                     'amountUSD': '178.2077150443207835198187607542576',\n",
      "                     'id': '0x3946c6536a5f675a801475bfcb2baeab6a4ea18e7d0b3cb4ed2e4db4f583eea0-0',\n",
      "                     'pair': {'token0': {'symbol': 'LSS'},\n",
      "                              'token1': {'symbol': 'WETH'}},\n",
      "                     'to': '0x62e3c242b5e903071458ad90a160493d84911c77',\n",
      "                     'transaction': {'id': '0x3946c6536a5f675a801475bfcb2baeab6a4ea18e7d0b3cb4ed2e4db4f583eea0',\n",
      "                                     'timestamp': '1652762826'}},\n",
      "                    {'amount0In': '533.617183172747171018',\n",
      "                     'amount0Out': '0',\n",
      "                     'amount1In': '0',\n",
      "                     'amount1Out': '0.046958395580407852',\n",
      "                     'amountUSD': '93.99945580155159008928880776103574',\n",
      "                     'id': '0xb2b187dc7c3eaa1eeb74ef6c6a409107bdee8599b46f44c8a4ee8b18afd30b5a-0',\n",
      "                     'pair': {'token0': {'symbol': 'LSS'},\n",
      "                              'token1': {'symbol': 'WETH'}},\n",
      "                     'to': '0x1111111254fb6c44bac0bed2854e76f90643097d',\n",
      "                     'transaction': {'id': '0xb2b187dc7c3eaa1eeb74ef6c6a409107bdee8599b46f44c8a4ee8b18afd30b5a',\n",
      "                                     'timestamp': '1652744143'}},\n",
      "                    {'amount0In': '259.74',\n",
      "                     'amount0Out': '0',\n",
      "                     'amount1In': '0',\n",
      "                     'amount1Out': '0.02381048052983233',\n",
      "                     'amountUSD': '47.90862019713482044970862144477098',\n",
      "                     'id': '0x0975b8a31d5bbd0c3407e168ac5b9376fc8a657e87e6391db55caa1cc473dc16-0',\n",
      "                     'pair': {'token0': {'symbol': 'LSS'},\n",
      "                              'token1': {'symbol': 'WETH'}},\n",
      "                     'to': '0x7a250d5630b4cf539739df2c5dacb4c659f2488d',\n",
      "                     'transaction': {'id': '0x0975b8a31d5bbd0c3407e168ac5b9376fc8a657e87e6391db55caa1cc473dc16',\n",
      "                                     'timestamp': '1652702711'}},\n",
      "                    {'amount0In': '0',\n",
      "                     'amount0Out': '221.735868333528235098',\n",
      "                     'amount1In': '0.020488060013277892',\n",
      "                     'amount1Out': '0',\n",
      "                     'amountUSD': '43.04799777405848648412189031461974',\n",
      "                     'id': '0x76337069bda6288e3bd05b3f9ada22c68f4df2e2d0af331603cabdf803e3070f-0',\n",
      "                     'pair': {'token0': {'symbol': 'LSS'},\n",
      "                              'token1': {'symbol': 'WETH'}},\n",
      "                     'to': '0xd24f2adbf5c7c2450396e41c008653e526120b6e',\n",
      "                     'transaction': {'id': '0x76337069bda6288e3bd05b3f9ada22c68f4df2e2d0af331603cabdf803e3070f',\n",
      "                                     'timestamp': '1652666041'}},\n",
      "                    {'amount0In': '0',\n",
      "                     'amount0Out': '520.599202709585909149',\n",
      "                     'amount1In': '0.046288674478371661',\n",
      "                     'amount1Out': '0',\n",
      "                     'amountUSD': '99.94545185768196261961822288289048',\n",
      "                     'id': '0x694ee510b3addb8d5ce5364b7dd503f791b4bf76a4f9a2764db5e41fc9a260e1-1',\n",
      "                     'pair': {'token0': {'symbol': 'LSS'},\n",
      "                              'token1': {'symbol': 'WETH'}},\n",
      "                     'to': '0xe66b31678d6c16e9ebf358268a790b763c133750',\n",
      "                     'transaction': {'id': '0x694ee510b3addb8d5ce5364b7dd503f791b4bf76a4f9a2764db5e41fc9a260e1',\n",
      "                                     'timestamp': '1652655859'}},\n",
      "                    {'amount0In': '0',\n",
      "                     'amount0Out': '290.493045275557759896',\n",
      "                     'amount1In': '0.02478125',\n",
      "                     'amount1Out': '0',\n",
      "                     'amountUSD': '51.69366114052601919962908217829121',\n",
      "                     'id': '0x8375b602f2c4e60e1cbb4c0062ba603c7eb4fac18eda5c02eae2935acbefb3e3-0',\n",
      "                     'pair': {'token0': {'symbol': 'LSS'},\n",
      "                              'token1': {'symbol': 'WETH'}},\n",
      "                     'to': '0x74de5d4fcbf63e00296fd95d33236b9794016631',\n",
      "                     'transaction': {'id': '0x8375b602f2c4e60e1cbb4c0062ba603c7eb4fac18eda5c02eae2935acbefb3e3',\n",
      "                                     'timestamp': '1652627732'}},\n",
      "                    {'amount0In': '0',\n",
      "                     'amount0Out': '146.004399889359738109',\n",
      "                     'amount1In': '0.012185365253246354',\n",
      "                     'amount1Out': '0',\n",
      "                     'amountUSD': '24.78931453280784094602853375953707',\n",
      "                     'id': '0xf3d819dd141872cf1f6b7dc237f52407fc5fa88dbeadfc3d3ff59bd814a6e4b4-0',\n",
      "                     'pair': {'token0': {'symbol': 'LSS'},\n",
      "                              'token1': {'symbol': 'WETH'}},\n",
      "                     'to': '0xe66b31678d6c16e9ebf358268a790b763c133750',\n",
      "                     'transaction': {'id': '0xf3d819dd141872cf1f6b7dc237f52407fc5fa88dbeadfc3d3ff59bd814a6e4b4',\n",
      "                                     'timestamp': '1652581484'}},\n",
      "                    {'amount0In': '0',\n",
      "                     'amount0Out': '657.933559320217829066',\n",
      "                     'amount1In': '0.05278511210438',\n",
      "                     'amount1Out': '0',\n",
      "                     'amountUSD': '105.7806202044895236869040156194122',\n",
      "                     'id': '0x3545560236c4ba337f9b0adf60eb7ede51835bca08023169b05dc3009bf010f1-0',\n",
      "                     'pair': {'token0': {'symbol': 'LSS'},\n",
      "                              'token1': {'symbol': 'WETH'}},\n",
      "                     'to': '0x1111111254fb6c44bac0bed2854e76f90643097d',\n",
      "                     'transaction': {'id': '0x3545560236c4ba337f9b0adf60eb7ede51835bca08023169b05dc3009bf010f1',\n",
      "                                     'timestamp': '1652528924'}},\n",
      "                    {'amount0In': '1436.312628138937715658',\n",
      "                     'amount0Out': '0',\n",
      "                     'amount1In': '0',\n",
      "                     'amount1Out': '0.119142624263596926',\n",
      "                     'amountUSD': '235.6305027523074933351440816310328',\n",
      "                     'id': '0x639b958d0aea2007919d27c83fb3c7adc1ccf4a57b0c28c9e59aa1f438d46e8f-3',\n",
      "                     'pair': {'token0': {'symbol': 'LSS'},\n",
      "                              'token1': {'symbol': 'WETH'}},\n",
      "                     'to': '0xa75af537fb853bb432f6a51d47d70e349fffc6ba',\n",
      "                     'transaction': {'id': '0x639b958d0aea2007919d27c83fb3c7adc1ccf4a57b0c28c9e59aa1f438d46e8f',\n",
      "                                     'timestamp': '1652499523'}},\n",
      "                    {'amount0In': '0',\n",
      "                     'amount0Out': '126.75994189882278656',\n",
      "                     'amount1In': '0.011285601518872696',\n",
      "                     'amount1Out': '0',\n",
      "                     'amountUSD': '23.14119438340354073913938829165089',\n",
      "                     'id': '0x1442c724b44bc7cd7c64622b58f5f4e0d9f362b296f4e743d9a94ef15b1bec53-0',\n",
      "                     'pair': {'token0': {'symbol': 'LSS'},\n",
      "                              'token1': {'symbol': 'WETH'}},\n",
      "                     'to': '0xf53e0b6b80b562c161cf6a382c961ba49bed4a0b',\n",
      "                     'transaction': {'id': '0x1442c724b44bc7cd7c64622b58f5f4e0d9f362b296f4e743d9a94ef15b1bec53',\n",
      "                                     'timestamp': '1652497474'}},\n",
      "                    {'amount0In': '0',\n",
      "                     'amount0Out': '56.692029655463165408',\n",
      "                     'amount1In': '0.005',\n",
      "                     'amount1Out': '0',\n",
      "                     'amountUSD': '10.26375381568244878710445868674303',\n",
      "                     'id': '0x01b82575e7077f5e55c5c84d3e90265093f0e17cf534a653c5cb512c88561ea1-0',\n",
      "                     'pair': {'token0': {'symbol': 'LSS'},\n",
      "                              'token1': {'symbol': 'WETH'}},\n",
      "                     'to': '0xd27c58742093bc66b7cc2525d6a4cb0bd51e4e9a',\n",
      "                     'transaction': {'id': '0x01b82575e7077f5e55c5c84d3e90265093f0e17cf534a653c5cb512c88561ea1',\n",
      "                                     'timestamp': '1652491842'}},\n",
      "                    {'amount0In': '0',\n",
      "                     'amount0Out': '172.074781861844674845',\n",
      "                     'amount1In': '0.015',\n",
      "                     'amount1Out': '0',\n",
      "                     'amountUSD': '30.68638644829672774791470709646958',\n",
      "                     'id': '0xcf05ca2d9f9a87cb5d5bbd0e8732ae1d6a41952a6f364b98941bc50e37c82b2d-0',\n",
      "                     'pair': {'token0': {'symbol': 'LSS'},\n",
      "                              'token1': {'symbol': 'WETH'}},\n",
      "                     'to': '0xd27c58742093bc66b7cc2525d6a4cb0bd51e4e9a',\n",
      "                     'transaction': {'id': '0xcf05ca2d9f9a87cb5d5bbd0e8732ae1d6a41952a6f364b98941bc50e37c82b2d',\n",
      "                                     'timestamp': '1652490958'}},\n",
      "                    {'amount0In': '1146.398023614041523034',\n",
      "                     'amount0Out': '0',\n",
      "                     'amount1In': '0',\n",
      "                     'amount1Out': '0.104539805618774827',\n",
      "                     'amountUSD': '208.8918477342973914747829128852568',\n",
      "                     'id': '0xe1c8d1d7a4fb4e9b0a972b0020c0da2548ff8dc43134e8449c9a7f41c6067095-1',\n",
      "                     'pair': {'token0': {'symbol': 'LSS'},\n",
      "                              'token1': {'symbol': 'WETH'}},\n",
      "                     'to': '0xec001d0000004536cad29291f4000000d029abb2',\n",
      "                     'transaction': {'id': '0xe1c8d1d7a4fb4e9b0a972b0020c0da2548ff8dc43134e8449c9a7f41c6067095',\n",
      "                                     'timestamp': '1652466069'}},\n",
      "                    {'amount0In': '0',\n",
      "                     'amount0Out': '626.35306795953526881',\n",
      "                     'amount1In': '0.059',\n",
      "                     'amount1Out': '0',\n",
      "                     'amountUSD': '123.3162035177685808469271210328348',\n",
      "                     'id': '0x4afc45f1206af6347d71a721d59c9fa8610c83d69cefe65f207ddee3490f7256-0',\n",
      "                     'pair': {'token0': {'symbol': 'LSS'},\n",
      "                              'token1': {'symbol': 'WETH'}},\n",
      "                     'to': '0xf98cc4b710944e3c72c8f206a09421ec102dca08',\n",
      "                     'transaction': {'id': '0x4afc45f1206af6347d71a721d59c9fa8610c83d69cefe65f207ddee3490f7256',\n",
      "                                     'timestamp': '1652464798'}},\n",
      "                    {'amount0In': '0',\n",
      "                     'amount0Out': '219.635294211794399462',\n",
      "                     'amount1In': '0.01978773160640403',\n",
      "                     'amount1Out': '0',\n",
      "                     'amountUSD': '41.2818899794043317908666487012739',\n",
      "                     'id': '0x069de31e69694db83059d3bad0d024980604c00482d7c1a02d043283de2abbcb-0',\n",
      "                     'pair': {'token0': {'symbol': 'LSS'},\n",
      "                              'token1': {'symbol': 'WETH'}},\n",
      "                     'to': '0xe66b31678d6c16e9ebf358268a790b763c133750',\n",
      "                     'transaction': {'id': '0x069de31e69694db83059d3bad0d024980604c00482d7c1a02d043283de2abbcb',\n",
      "                                     'timestamp': '1652427545'}},\n",
      "                    {'amount0In': '0',\n",
      "                     'amount0Out': '827.651588131567742049',\n",
      "                     'amount1In': '0.070704185116411941',\n",
      "                     'amount1Out': '0',\n",
      "                     'amountUSD': '151.6851269688989419445286523626769',\n",
      "                     'id': '0x6635fc62ef0de1aa6d20de6ef27bac752bde0b1fb5e7a7309955ba18e644536a-0',\n",
      "                     'pair': {'token0': {'symbol': 'LSS'},\n",
      "                              'token1': {'symbol': 'WETH'}},\n",
      "                     'to': '0xe66b31678d6c16e9ebf358268a790b763c133750',\n",
      "                     'transaction': {'id': '0x6635fc62ef0de1aa6d20de6ef27bac752bde0b1fb5e7a7309955ba18e644536a',\n",
      "                                     'timestamp': '1652422867'}},\n",
      "                    {'amount0In': '0',\n",
      "                     'amount0Out': '487.447291236109888152',\n",
      "                     'amount1In': '0.039',\n",
      "                     'amount1Out': '0',\n",
      "                     'amountUSD': '82.90864844104418271861178833749412',\n",
      "                     'id': '0x9e9c7b90e8a48ca69e6509785a567f654f9a67c12e1bbc19caa8fce3737cd398-0',\n",
      "                     'pair': {'token0': {'symbol': 'LSS'},\n",
      "                              'token1': {'symbol': 'WETH'}},\n",
      "                     'to': '0x9419708ff545d2bcd119f994c55824f230ee8790',\n",
      "                     'transaction': {'id': '0x9e9c7b90e8a48ca69e6509785a567f654f9a67c12e1bbc19caa8fce3737cd398',\n",
      "                                     'timestamp': '1652422848'}},\n",
      "                    {'amount0In': '0',\n",
      "                     'amount0Out': '524.959335039952266996',\n",
      "                     'amount1In': '0.04',\n",
      "                     'amount1Out': '0',\n",
      "                     'amountUSD': '84.42564830124998723565026399304981',\n",
      "                     'id': '0x52ebb6ab6548d0991f2de512032183af5ec788534bfffa1f499bee84223f1ae5-0',\n",
      "                     'pair': {'token0': {'symbol': 'LSS'},\n",
      "                              'token1': {'symbol': 'WETH'}},\n",
      "                     'to': '0x6359aefc2f9919fa561b126bef0041c2361b88c1',\n",
      "                     'transaction': {'id': '0x52ebb6ab6548d0991f2de512032183af5ec788534bfffa1f499bee84223f1ae5',\n",
      "                                     'timestamp': '1652412860'}},\n",
      "                    {'amount0In': '0',\n",
      "                     'amount0Out': '839.591423772080153953',\n",
      "                     'amount1In': '0.060020280467865677',\n",
      "                     'amount1Out': '0',\n",
      "                     'amountUSD': '116.1722742244101606390101831535016',\n",
      "                     'id': '0xf7cce0c82b411f0767d4e48fb0b31f98a62d5f2d5bb33525dd71a2824285daa7-0',\n",
      "                     'pair': {'token0': {'symbol': 'LSS'},\n",
      "                              'token1': {'symbol': 'WETH'}},\n",
      "                     'to': '0xe66b31678d6c16e9ebf358268a790b763c133750',\n",
      "                     'transaction': {'id': '0xf7cce0c82b411f0767d4e48fb0b31f98a62d5f2d5bb33525dd71a2824285daa7',\n",
      "                                     'timestamp': '1652394775'}},\n",
      "                    {'amount0In': '0',\n",
      "                     'amount0Out': '520.935705157117102785',\n",
      "                     'amount1In': '0.035',\n",
      "                     'amount1Out': '0',\n",
      "                     'amountUSD': '68.76300785486216582128423366962861',\n",
      "                     'id': '0xeaa6ba03a35d872355cd72e59317ab9c8ab3b3fddd3a876082b3f62bee7e832e-0',\n",
      "                     'pair': {'token0': {'symbol': 'LSS'},\n",
      "                              'token1': {'symbol': 'WETH'}},\n",
      "                     'to': '0x082ed7cdf12e19e6155b2f4fe753fb4e7407942e',\n",
      "                     'transaction': {'id': '0xeaa6ba03a35d872355cd72e59317ab9c8ab3b3fddd3a876082b3f62bee7e832e',\n",
      "                                     'timestamp': '1652388407'}},\n",
      "                    {'amount0In': '1832.171384425930829795',\n",
      "                     'amount0Out': '0',\n",
      "                     'amount1In': '0',\n",
      "                     'amount1Out': '0.130071098199198468',\n",
      "                     'amountUSD': '242.3773053225131217464782010796113',\n",
      "                     'id': '0x9c878faa71b581b0185c4a37e841383b059a2f0128c59296436683a0f3093a05-3',\n",
      "                     'pair': {'token0': {'symbol': 'LSS'},\n",
      "                              'token1': {'symbol': 'WETH'}},\n",
      "                     'to': '0x5f62593c70069abb35dfe2b63db969e8906609d6',\n",
      "                     'transaction': {'id': '0x9c878faa71b581b0185c4a37e841383b059a2f0128c59296436683a0f3093a05',\n",
      "                                     'timestamp': '1652387913'}},\n",
      "                    {'amount0In': '0',\n",
      "                     'amount0Out': '555.069806223246519996',\n",
      "                     'amount1In': '0.042',\n",
      "                     'amount1Out': '0',\n",
      "                     'amountUSD': '84.4495444826107368228890787761611',\n",
      "                     'id': '0x1891e95709b0bf4d90428e222c6ebb345ae1a9c76b94d63fbeb48c4fd464f4b0-0',\n",
      "                     'pair': {'token0': {'symbol': 'LSS'},\n",
      "                              'token1': {'symbol': 'WETH'}},\n",
      "                     'to': '0xf98cc4b710944e3c72c8f206a09421ec102dca08',\n",
      "                     'transaction': {'id': '0x1891e95709b0bf4d90428e222c6ebb345ae1a9c76b94d63fbeb48c4fd464f4b0',\n",
      "                                     'timestamp': '1652376438'}},\n",
      "                    {'amount0In': '0',\n",
      "                     'amount0Out': '10838.008196884404399926',\n",
      "                     'amount1In': '1.891163897415837796',\n",
      "                     'amount1Out': '0',\n",
      "                     'amountUSD': '6095.949871932714342080312609259112',\n",
      "                     'id': '0x632826ff56368fd1e6dc9798eb20b56c2635f10a1f10a48c03980d0631f9532b-0',\n",
      "                     'pair': {'token0': {'symbol': 'LSS'},\n",
      "                              'token1': {'symbol': 'WETH'}},\n",
      "                     'to': '0x62e3c242b5e903071458ad90a160493d84911c77',\n",
      "                     'transaction': {'id': '0x632826ff56368fd1e6dc9798eb20b56c2635f10a1f10a48c03980d0631f9532b',\n",
      "                                     'timestamp': '1652323544'}},\n",
      "                    {'amount0In': '11899.165351203049061935',\n",
      "                     'amount0Out': '0',\n",
      "                     'amount1In': '0',\n",
      "                     'amount1Out': '1.967807535894888324',\n",
      "                     'amountUSD': '2915.521056782760169942922370095665',\n",
      "                     'id': '0x1a5b4ee08eb278c263273467eecbc736b5de289cf65992081046ab050390da14-1',\n",
      "                     'pair': {'token0': {'symbol': 'LSS'},\n",
      "                              'token1': {'symbol': 'WETH'}},\n",
      "                     'to': '0x000000000035b5e5ad9019092c665357240f594e',\n",
      "                     'transaction': {'id': '0x1a5b4ee08eb278c263273467eecbc736b5de289cf65992081046ab050390da14',\n",
      "                                     'timestamp': '1652323544'}},\n",
      "                    {'amount0In': '1425.577349061672531912',\n",
      "                     'amount0Out': '0',\n",
      "                     'amount1In': '0',\n",
      "                     'amount1Out': '0.123965415776619219',\n",
      "                     'amountUSD': '252.6155641628274532593768463579549',\n",
      "                     'id': '0x0032345207d9677d346eaee3cc178bf2083701f10f84b745de962b69388c2dfc-1',\n",
      "                     'pair': {'token0': {'symbol': 'LSS'},\n",
      "                              'token1': {'symbol': 'WETH'}},\n",
      "                     'to': '0x5aa3393e361c2eb342408559309b3e873cd876d6',\n",
      "                     'transaction': {'id': '0x0032345207d9677d346eaee3cc178bf2083701f10f84b745de962b69388c2dfc',\n",
      "                                     'timestamp': '1652321913'}},\n",
      "                    {'amount0In': '0',\n",
      "                     'amount0Out': '509.455724060569642362',\n",
      "                     'amount1In': '0.04666100000000004',\n",
      "                     'amount1Out': '0',\n",
      "                     'amountUSD': '100.2019787559753634475101183436764',\n",
      "                     'id': '0x2bdd75c5ef5f326df46c78977b81e23605a7c061c053a9408bf3c2cd481d50b1-0',\n",
      "                     'pair': {'token0': {'symbol': 'LSS'},\n",
      "                              'token1': {'symbol': 'WETH'}},\n",
      "                     'to': '0xf058025c9c6b0a2318ec203062cd78bd4e538a6d',\n",
      "                     'transaction': {'id': '0x2bdd75c5ef5f326df46c78977b81e23605a7c061c053a9408bf3c2cd481d50b1',\n",
      "                                     'timestamp': '1652319029'}},\n",
      "                    {'amount0In': '1566.829356591870977118',\n",
      "                     'amount0Out': '0',\n",
      "                     'amount1In': '0',\n",
      "                     'amount1Out': '0.151110858450463034',\n",
      "                     'amountUSD': '351.2618118810157393057061702267294',\n",
      "                     'id': '0xe83d9b0a5f8edffeb2d3476bbdf07aac33830f476a0f4f6354bd8066d8a46092-1',\n",
      "                     'pair': {'token0': {'symbol': 'LSS'},\n",
      "                              'token1': {'symbol': 'WETH'}},\n",
      "                     'to': '0xdfee68a9adb981cd08699891a11cabe10f25ec44',\n",
      "                     'transaction': {'id': '0xe83d9b0a5f8edffeb2d3476bbdf07aac33830f476a0f4f6354bd8066d8a46092',\n",
      "                                     'timestamp': '1652267237'}},\n",
      "                    {'amount0In': '1396.102429176982774731',\n",
      "                     'amount0Out': '0',\n",
      "                     'amount1In': '0',\n",
      "                     'amount1Out': '0.158899662252646075',\n",
      "                     'amountUSD': '361.723419875179185273808399497013',\n",
      "                     'id': '0xd2a4647667d0b46e7a24767a46ff4f680f4c22a348249d8f3184a4bcfad26bee-1',\n",
      "                     'pair': {'token0': {'symbol': 'LSS'},\n",
      "                              'token1': {'symbol': 'WETH'}},\n",
      "                     'to': '0x5aa3393e361c2eb342408559309b3e873cd876d6',\n",
      "                     'transaction': {'id': '0xd2a4647667d0b46e7a24767a46ff4f680f4c22a348249d8f3184a4bcfad26bee',\n",
      "                                     'timestamp': '1652251042'}},\n",
      "                    {'amount0In': '0',\n",
      "                     'amount0Out': '170.051033243037687707',\n",
      "                     'amount1In': '0.020904510728870607',\n",
      "                     'amount1Out': '0',\n",
      "                     'amountUSD': '49.65292487883848938980732442551671',\n",
      "                     'id': '0xbc0164545663fe942323ceb03a8d55da68e445a58e1cbe5a02ccdc321c2ba53c-0',\n",
      "                     'pair': {'token0': {'symbol': 'LSS'},\n",
      "                              'token1': {'symbol': 'WETH'}},\n",
      "                     'to': '0xe66b31678d6c16e9ebf358268a790b763c133750',\n",
      "                     'transaction': {'id': '0xbc0164545663fe942323ceb03a8d55da68e445a58e1cbe5a02ccdc321c2ba53c',\n",
      "                                     'timestamp': '1652237374'}},\n",
      "                    {'amount0In': '0',\n",
      "                     'amount0Out': '460.909085742904791453',\n",
      "                     'amount1In': '0.054559105687285731',\n",
      "                     'amount1Out': '0',\n",
      "                     'amountUSD': '131.1322861842310729044209641526621',\n",
      "                     'id': '0x1c2da24e97dc2a8a911ef930d49b3ae0683f21b0d4fed1fe66278e91695cb93e-0',\n",
      "                     'pair': {'token0': {'symbol': 'LSS'},\n",
      "                              'token1': {'symbol': 'WETH'}},\n",
      "                     'to': '0xe66b31678d6c16e9ebf358268a790b763c133750',\n",
      "                     'transaction': {'id': '0x1c2da24e97dc2a8a911ef930d49b3ae0683f21b0d4fed1fe66278e91695cb93e',\n",
      "                                     'timestamp': '1652229340'}},\n",
      "                    {'amount0In': '680.000000050593446088',\n",
      "                     'amount0Out': '0',\n",
      "                     'amount1In': '0',\n",
      "                     'amount1Out': '0.081081910008688226',\n",
      "                     'amountUSD': '185.5079129720953091399018031447727',\n",
      "                     'id': '0x2170d9c5fd6fb4fd7574ca6f7b73515d25e563bd4340953bac05608766887448-0',\n",
      "                     'pair': {'token0': {'symbol': 'LSS'},\n",
      "                              'token1': {'symbol': 'WETH'}},\n",
      "                     'to': '0x68b3465833fb72a70ecdf485e0e4c7bd8665fc45',\n",
      "                     'transaction': {'id': '0x2170d9c5fd6fb4fd7574ca6f7b73515d25e563bd4340953bac05608766887448',\n",
      "                                     'timestamp': '1652216556'}},\n",
      "                    {'amount0In': '0',\n",
      "                     'amount0Out': '273.558208422859930094',\n",
      "                     'amount1In': '0.033610675583761753',\n",
      "                     'amount1Out': '0',\n",
      "                     'amountUSD': '81.76485754472574781726258501324084',\n",
      "                     'id': '0x0f9bfcc27c49c58a0fd1540a18a248df739201164fc2d0fa1ca253d11ffb63e7-0',\n",
      "                     'pair': {'token0': {'symbol': 'LSS'},\n",
      "                              'token1': {'symbol': 'WETH'}},\n",
      "                     'to': '0xee3c1e1dad1381277b94e018df2685ae1d7a00f4',\n",
      "                     'transaction': {'id': '0x0f9bfcc27c49c58a0fd1540a18a248df739201164fc2d0fa1ca253d11ffb63e7',\n",
      "                                     'timestamp': '1652186086'}},\n",
      "                    {'amount0In': '397.800859782027741247',\n",
      "                     'amount0Out': '0',\n",
      "                     'amount1In': '0',\n",
      "                     'amount1Out': '0.048954383107361595',\n",
      "                     'amountUSD': '115.6562099679722727390287785680349',\n",
      "                     'id': '0x6af258d44d2d3342697df703a9675711db2bfb85f30e75ca424d3c7788d29ecc-0',\n",
      "                     'pair': {'token0': {'symbol': 'LSS'},\n",
      "                              'token1': {'symbol': 'WETH'}},\n",
      "                     'to': '0xd12bcdfb9a39be79da3bdf02557efdcd5ca59e77',\n",
      "                     'transaction': {'id': '0x6af258d44d2d3342697df703a9675711db2bfb85f30e75ca424d3c7788d29ecc',\n",
      "                                     'timestamp': '1652173580'}},\n",
      "                    {'amount0In': '0',\n",
      "                     'amount0Out': '305.268858851477054608',\n",
      "                     'amount1In': '0.038',\n",
      "                     'amount1Out': '0',\n",
      "                     'amountUSD': '91.43935922009675463374258422594292',\n",
      "                     'id': '0x1c3bc35acee6a156e2eafed94615ab03b94490b8ba34057d73b3c1d41528f20e-0',\n",
      "                     'pair': {'token0': {'symbol': 'LSS'},\n",
      "                              'token1': {'symbol': 'WETH'}},\n",
      "                     'to': '0x9419708ff545d2bcd119f994c55824f230ee8790',\n",
      "                     'transaction': {'id': '0x1c3bc35acee6a156e2eafed94615ab03b94490b8ba34057d73b3c1d41528f20e',\n",
      "                                     'timestamp': '1652173522'}},\n",
      "                    {'amount0In': '0',\n",
      "                     'amount0Out': '331.016365601651872213',\n",
      "                     'amount1In': '0.03965',\n",
      "                     'amount1Out': '0',\n",
      "                     'amountUSD': '91.09863707152447482773847912219382',\n",
      "                     'id': '0x9e95c18d088723cb0b2e5367e7b1e4205b046a3d60036427a645ffb67af2cf02-0',\n",
      "                     'pair': {'token0': {'symbol': 'LSS'},\n",
      "                              'token1': {'symbol': 'WETH'}},\n",
      "                     'to': '0x74de5d4fcbf63e00296fd95d33236b9794016631',\n",
      "                     'transaction': {'id': '0x9e95c18d088723cb0b2e5367e7b1e4205b046a3d60036427a645ffb67af2cf02',\n",
      "                                     'timestamp': '1652138372'}},\n",
      "                    {'amount0In': '0',\n",
      "                     'amount0Out': '257.093681241380785462',\n",
      "                     'amount1In': '0.0297375',\n",
      "                     'amount1Out': '0',\n",
      "                     'amountUSD': '71.65268176610977406618686773106456',\n",
      "                     'id': '0xaf0b106054a4be948ad8f3399b2eb2b4f28ea2e46b568aa5b6bba1f9522a149e-0',\n",
      "                     'pair': {'token0': {'symbol': 'LSS'},\n",
      "                              'token1': {'symbol': 'WETH'}},\n",
      "                     'to': '0x74de5d4fcbf63e00296fd95d33236b9794016631',\n",
      "                     'transaction': {'id': '0xaf0b106054a4be948ad8f3399b2eb2b4f28ea2e46b568aa5b6bba1f9522a149e',\n",
      "                                     'timestamp': '1652106531'}},\n",
      "                    {'amount0In': '612.806515249387856091',\n",
      "                     'amount0Out': '0',\n",
      "                     'amount1In': '0',\n",
      "                     'amount1Out': '0.071973648470196094',\n",
      "                     'amountUSD': '173.2728188655689151545900591032812',\n",
      "                     'id': '0x6904fc8aca95776c2c4cb044ab30fb74f8c53d5eba798a62170aeb9e53279f33-2',\n",
      "                     'pair': {'token0': {'symbol': 'LSS'},\n",
      "                              'token1': {'symbol': 'WETH'}},\n",
      "                     'to': '0x1891201d52f3ca63a5a9e771bd81477a65e01d7a',\n",
      "                     'transaction': {'id': '0x6904fc8aca95776c2c4cb044ab30fb74f8c53d5eba798a62170aeb9e53279f33',\n",
      "                                     'timestamp': '1652089630'}},\n",
      "                    {'amount0In': '7182.010934763535749292',\n",
      "                     'amount0Out': '0',\n",
      "                     'amount1In': '0',\n",
      "                     'amount1Out': '1.546757152143000989',\n",
      "                     'amountUSD': '2967.22580453005691710137237350413',\n",
      "                     'id': '0xe76ef82586a0fbfe220fb06406b8185074b59d0d51136192f410a7dd2c4c0657-1',\n",
      "                     'pair': {'token0': {'symbol': 'LSS'},\n",
      "                              'token1': {'symbol': 'WETH'}},\n",
      "                     'to': '0x000000000035b5e5ad9019092c665357240f594e',\n",
      "                     'transaction': {'id': '0xe76ef82586a0fbfe220fb06406b8185074b59d0d51136192f410a7dd2c4c0657',\n",
      "                                     'timestamp': '1652084031'}},\n",
      "                    {'amount0In': '0',\n",
      "                     'amount0Out': '7032.798528828514937517',\n",
      "                     'amount1In': '1.533645323585409314',\n",
      "                     'amount1Out': '0',\n",
      "                     'amountUSD': '5161.305300558532036114819484067072',\n",
      "                     'id': '0x30b9a1b5a5e1e38cb22c4d49a5f87d3be07ef87031a14980415cba66abc57f86-0',\n",
      "                     'pair': {'token0': {'symbol': 'LSS'},\n",
      "                              'token1': {'symbol': 'WETH'}},\n",
      "                     'to': '0x62e3c242b5e903071458ad90a160493d84911c77',\n",
      "                     'transaction': {'id': '0x30b9a1b5a5e1e38cb22c4d49a5f87d3be07ef87031a14980415cba66abc57f86',\n",
      "                                     'timestamp': '1652084031'}},\n",
      "                    {'amount0In': '16336.648215393301557225',\n",
      "                     'amount0Out': '0',\n",
      "                     'amount1In': '0',\n",
      "                     'amount1Out': '757.05916842088402764',\n",
      "                     'amountUSD': '933439.2270655026655884534438882541',\n",
      "                     'id': '0xe6322f57131a5dfdbfd797d0dd9d66617e09faf959b78971da6a7769085c746a-1',\n",
      "                     'pair': {'token0': {'symbol': 'LSS'},\n",
      "                              'token1': {'symbol': 'WETH'}},\n",
      "                     'to': '0xe8c060f8052e07423f71d445277c61ac5138a2e5',\n",
      "                     'transaction': {'id': '0xe6322f57131a5dfdbfd797d0dd9d66617e09faf959b78971da6a7769085c746a',\n",
      "                                     'timestamp': '1652069552'}},\n",
      "                    {'amount0In': '0',\n",
      "                     'amount0Out': '16070.875671491588732973',\n",
      "                     'amount1In': '757.037993358098694144',\n",
      "                     'amount1Out': '0',\n",
      "                     'amountUSD': '1861841.492953290588120826899917219',\n",
      "                     'id': '0xaeb49969b040120ace392755316c2c68676b240589f1c355005d710ba853fc47-0',\n",
      "                     'pair': {'token0': {'symbol': 'LSS'},\n",
      "                              'token1': {'symbol': 'WETH'}},\n",
      "                     'to': '0x62e3c242b5e903071458ad90a160493d84911c77',\n",
      "                     'transaction': {'id': '0xaeb49969b040120ace392755316c2c68676b240589f1c355005d710ba853fc47',\n",
      "                                     'timestamp': '1652069552'}},\n",
      "                    {'amount0In': '0',\n",
      "                     'amount0Out': '118.221794960791859458',\n",
      "                     'amount1In': '0.015',\n",
      "                     'amount1Out': '0',\n",
      "                     'amountUSD': '37.85338634403999955335925868873631',\n",
      "                     'id': '0xb61a8082d724d6f20110128a1e052e4b388a51d7820ff1a69ecd850432b7f6f0-0',\n",
      "                     'pair': {'token0': {'symbol': 'LSS'},\n",
      "                              'token1': {'symbol': 'WETH'}},\n",
      "                     'to': '0xd27c58742093bc66b7cc2525d6a4cb0bd51e4e9a',\n",
      "                     'transaction': {'id': '0xb61a8082d724d6f20110128a1e052e4b388a51d7820ff1a69ecd850432b7f6f0',\n",
      "                                     'timestamp': '1652060411'}},\n",
      "                    {'amount0In': '456.940652094707774775',\n",
      "                     'amount0Out': '0',\n",
      "                     'amount1In': '0',\n",
      "                     'amount1Out': '0.058866705136819562',\n",
      "                     'amountUSD': '147.5064961694887395702870907595362',\n",
      "                     'id': '0xd04367f48a4be6678a20d3a47c6b487f99e62e55639358a9d0fc73407f7e38ff-2',\n",
      "                     'pair': {'token0': {'symbol': 'LSS'},\n",
      "                              'token1': {'symbol': 'WETH'}},\n",
      "                     'to': '0x5f62593c70069abb35dfe2b63db969e8906609d6',\n",
      "                     'transaction': {'id': '0xd04367f48a4be6678a20d3a47c6b487f99e62e55639358a9d0fc73407f7e38ff',\n",
      "                                     'timestamp': '1652034438'}},\n",
      "                    {'amount0In': '0',\n",
      "                     'amount0Out': '226.215763882132372434',\n",
      "                     'amount1In': '0.0297375',\n",
      "                     'amount1Out': '0',\n",
      "                     'amountUSD': '75.85572266567433400495074241900324',\n",
      "                     'id': '0x5e976f9b9123f990f3d61e08b450d5a03fa8acedba97c395def7aa80cbcbf273-0',\n",
      "                     'pair': {'token0': {'symbol': 'LSS'},\n",
      "                              'token1': {'symbol': 'WETH'}},\n",
      "                     'to': '0x74de5d4fcbf63e00296fd95d33236b9794016631',\n",
      "                     'transaction': {'id': '0x5e976f9b9123f990f3d61e08b450d5a03fa8acedba97c395def7aa80cbcbf273',\n",
      "                                     'timestamp': '1651989321'}}]}}\n"
     ]
    }
   ],
   "source": [
    "# Type 1: trade against WETH\n",
    "pair_daily_volume_query = \"\"\"\n",
    "{\n",
    "swaps(orderBy: timestamp, orderDirection: desc, where:\n",
    " { pair: \"0xc9919a9eb691f571e41db417f911135b4ac46fe7\" }\n",
    ") {\n",
    "     transaction {\n",
    "        id\n",
    "        timestamp\n",
    "      }\n",
    "     pair {\n",
    "       token0 {\n",
    "         symbol\n",
    "       }\n",
    "       token1 {\n",
    "         symbol\n",
    "       }\n",
    "     }\n",
    "     id\n",
    "     transaction\n",
    "     amount0In\n",
    "     amount0Out\n",
    "     amount1In\n",
    "     amount1Out\n",
    "     amountUSD\n",
    "     to\n",
    " }\n",
    "}\n",
    "\"\"\"\n",
    "pair_daily_volume = run_query(pair_daily_volume_query)\n",
    "\n",
    "pprint(pair_daily_volume)"
   ]
  },
  {
   "cell_type": "markdown",
   "metadata": {
    "id": "O-O9mB_7xryY"
   },
   "source": [
    "# Top 50 most volume pairs (undirectional)"
   ]
  },
  {
   "cell_type": "code",
   "execution_count": 15,
   "metadata": {
    "colab": {
     "base_uri": "https://localhost:8080/"
    },
    "id": "smTYAGzhxz7F",
    "outputId": "f953634d-31a5-439f-d151-bb23a30e2ab6"
   },
   "outputs": [],
   "source": [
    "# Take example of 2022/06/05 0:00:00 (GMT+0)  timestamp: 1654387200\n",
    "most_volume_pairs_query = \"\"\"\n",
    "{\n",
    " pairDayDatas(first: 50, orderBy: dailyVolumeUSD, orderDirection: desc,\n",
    "   where: {\n",
    "     date: 1654387200\n",
    "   }\n",
    " ) {\n",
    "     pairAddress\n",
    "     token0\n",
    "     token1\n",
    "     reserve0\n",
    "     reserve1\n",
    "     reserveUSD\n",
    "     totalSupply\n",
    "     dailyTxns\n",
    "     dailyVolumeToken0\n",
    "     dailyVolumeToken1\n",
    "     dailyVolumeUSD\n",
    " }\n",
    "}\n",
    "\"\"\"\n",
    "most_volume_pairs = run_query(most_volume_pairs_query)\n"
   ]
  },
  {
   "cell_type": "code",
   "execution_count": 16,
   "metadata": {
    "colab": {
     "base_uri": "https://localhost:8080/",
     "height": 1000
    },
    "id": "R1F1PSjC7Lud",
    "outputId": "d1e2506f-4941-462c-fa99-958bf1e1e88d"
   },
   "outputs": [
    {
     "data": {
      "text/html": [
       "<div>\n",
       "<style scoped>\n",
       "    .dataframe tbody tr th:only-of-type {\n",
       "        vertical-align: middle;\n",
       "    }\n",
       "\n",
       "    .dataframe tbody tr th {\n",
       "        vertical-align: top;\n",
       "    }\n",
       "\n",
       "    .dataframe thead th {\n",
       "        text-align: right;\n",
       "    }\n",
       "</style>\n",
       "<table border=\"1\" class=\"dataframe\">\n",
       "  <thead>\n",
       "    <tr style=\"text-align: right;\">\n",
       "      <th></th>\n",
       "      <th>pairAddress</th>\n",
       "      <th>reserve0</th>\n",
       "      <th>reserve1</th>\n",
       "      <th>reserveUSD</th>\n",
       "      <th>totalSupply</th>\n",
       "      <th>dailyTxns</th>\n",
       "      <th>dailyVolumeToken0</th>\n",
       "      <th>dailyVolumeToken1</th>\n",
       "      <th>dailyVolumeUSD</th>\n",
       "    </tr>\n",
       "  </thead>\n",
       "  <tbody>\n",
       "    <tr>\n",
       "      <th>0</th>\n",
       "      <td>0x26b1c843b41ab3ac6146f859d31dcb2031f5992b</td>\n",
       "      <td>1.767872165974808497</td>\n",
       "      <td>0.103575127241738334</td>\n",
       "      <td>185.007627282511291050410476253084</td>\n",
       "      <td>0.397489622506046319</td>\n",
       "      <td>66</td>\n",
       "      <td>75.590458431395684271</td>\n",
       "      <td>20391.289551617179340048</td>\n",
       "      <td>18044577.16616131095138411684391161</td>\n",
       "    </tr>\n",
       "    <tr>\n",
       "      <th>1</th>\n",
       "      <td>0x9112d1761124d4ec7aca02014d6e215970f87e33</td>\n",
       "      <td>16350613868.3869050774532976</td>\n",
       "      <td>0.519906171224847849</td>\n",
       "      <td>939.5606044999527414057226528192348</td>\n",
       "      <td>76481.596984279553163924</td>\n",
       "      <td>568</td>\n",
       "      <td>1419137291173.507923209293317101</td>\n",
       "      <td>13969.023979241586925419</td>\n",
       "      <td>12330161.8603183632501027905931409</td>\n",
       "    </tr>\n",
       "    <tr>\n",
       "      <th>2</th>\n",
       "      <td>0x7a809081f991ecfe0ab2727c7e90d2ad7c2e411e</td>\n",
       "      <td>7278284.442263</td>\n",
       "      <td>53711361613298.579569450654648315</td>\n",
       "      <td>14562523.79614463010296044124735658</td>\n",
       "      <td>17000.372001445604539439</td>\n",
       "      <td>1130</td>\n",
       "      <td>9352341.202544</td>\n",
       "      <td>70352106872638.631096732439854899</td>\n",
       "      <td>9356068.767914834418701521183459145</td>\n",
       "    </tr>\n",
       "    <tr>\n",
       "      <th>3</th>\n",
       "      <td>0xb4e16d0168e52d35cacd2c6185b44281ec28c9dc</td>\n",
       "      <td>79053219.45668</td>\n",
       "      <td>43762.070870754729340122</td>\n",
       "      <td>158171118.2947124454132655087211276</td>\n",
       "      <td>0.949291097224270471</td>\n",
       "      <td>2352</td>\n",
       "      <td>7944060.293021</td>\n",
       "      <td>4416.753923820066502526</td>\n",
       "      <td>7946290.543183526065581561379215337</td>\n",
       "    </tr>\n",
       "    <tr>\n",
       "      <th>4</th>\n",
       "      <td>0x0d4a11d5eeaac28ec3f61d100daf4d40471f1852</td>\n",
       "      <td>17150.6216251843007197</td>\n",
       "      <td>31025675.01265</td>\n",
       "      <td>61986741.93124518014117041922362383</td>\n",
       "      <td>0.358735792422925442</td>\n",
       "      <td>988</td>\n",
       "      <td>1985.069246836202839412</td>\n",
       "      <td>3568632.914985</td>\n",
       "      <td>3567514.616175831645067170006679848</td>\n",
       "    </tr>\n",
       "    <tr>\n",
       "      <th>5</th>\n",
       "      <td>0x6033368e4a402605294c91cf5c03d72bd96e7d8d</td>\n",
       "      <td>12923069.47957958366364951</td>\n",
       "      <td>1700.778808333284489473</td>\n",
       "      <td>6150046.731936887471116457848148126</td>\n",
       "      <td>122495.841175114799947429</td>\n",
       "      <td>339</td>\n",
       "      <td>13267781.010060489687022394</td>\n",
       "      <td>1890.06115884505521772</td>\n",
       "      <td>3406788.640697228554984176713442879</td>\n",
       "    </tr>\n",
       "    <tr>\n",
       "      <th>6</th>\n",
       "      <td>0x5fc5b2a2a84e577e8eb3ddd00d6b18cdfc976645</td>\n",
       "      <td>1.405332611560299561</td>\n",
       "      <td>4879.509395835</td>\n",
       "      <td>2540.637390630996495380319988943423</td>\n",
       "      <td>0.000000001693876534</td>\n",
       "      <td>52</td>\n",
       "      <td>2370.283509828503112744</td>\n",
       "      <td>29395.18460405</td>\n",
       "      <td>2117245.547362322563131098884959673</td>\n",
       "    </tr>\n",
       "    <tr>\n",
       "      <th>7</th>\n",
       "      <td>0xc9919a9eb691f571e41db417f911135b4ac46fe7</td>\n",
       "      <td>19492.596085670694340666</td>\n",
       "      <td>1.743545235299297085</td>\n",
       "      <td>6230.195069012601572355339755270908</td>\n",
       "      <td>134.786530428602600527</td>\n",
       "      <td>5</td>\n",
       "      <td>39890.453065187663700397</td>\n",
       "      <td>2315.4491801142244733</td>\n",
       "      <td>2068207.090312683960461532632688075</td>\n",
       "    </tr>\n",
       "    <tr>\n",
       "      <th>8</th>\n",
       "      <td>0x55d5c232d921b9eaa6b37b5845e439acd04b4dba</td>\n",
       "      <td>9561300.85832576</td>\n",
       "      <td>262.860789083706771544</td>\n",
       "      <td>950046.2579647230507226365979986013</td>\n",
       "      <td>0.141939588833336829</td>\n",
       "      <td>1084</td>\n",
       "      <td>31687521.75123634</td>\n",
       "      <td>921.849962520731810018</td>\n",
       "      <td>1656077.459784708517237385640827616</td>\n",
       "    </tr>\n",
       "    <tr>\n",
       "      <th>9</th>\n",
       "      <td>0x5281e311734869c64ca60ef047fd87759397efe6</td>\n",
       "      <td>1590.131078037393753415</td>\n",
       "      <td>194274555743.182871721195811459</td>\n",
       "      <td>5747440.852724872320382470833962709</td>\n",
       "      <td>13027895.889162734975983901</td>\n",
       "      <td>354</td>\n",
       "      <td>693.44156563152035369</td>\n",
       "      <td>84402864787.057603459657130526</td>\n",
       "      <td>1242412.424525914084718022581442596</td>\n",
       "    </tr>\n",
       "    <tr>\n",
       "      <th>10</th>\n",
       "      <td>0xf6dcdce0ac3001b2f67f750bc64ea5beb37b5824</td>\n",
       "      <td>6580678.00712234</td>\n",
       "      <td>328934.681051</td>\n",
       "      <td>658294.8540617761718797970861978751</td>\n",
       "      <td>0.000007647112982819</td>\n",
       "      <td>283</td>\n",
       "      <td>21761174.39386819</td>\n",
       "      <td>1141723.997216</td>\n",
       "      <td>1141946.302832015773314469740411698</td>\n",
       "    </tr>\n",
       "    <tr>\n",
       "      <th>11</th>\n",
       "      <td>0x9cbfb60a09a9a33a10312da0f39977cbdb7fde23</td>\n",
       "      <td>621396432191831.238906482</td>\n",
       "      <td>1971.111819425798635669</td>\n",
       "      <td>7124074.173003478151163110000239229</td>\n",
       "      <td>14313.458893646941440285</td>\n",
       "      <td>849</td>\n",
       "      <td>205004098504744.69545259</td>\n",
       "      <td>625.000632860529770145</td>\n",
       "      <td>1127677.624600125186797023647220326</td>\n",
       "    </tr>\n",
       "    <tr>\n",
       "      <th>12</th>\n",
       "      <td>0x7ba9b94127d434182287de708643932ec036d365</td>\n",
       "      <td>12265921.026925799452795658</td>\n",
       "      <td>114.678912348143895411</td>\n",
       "      <td>414488.9827418657326611333329020109</td>\n",
       "      <td>21179.822885938282064551</td>\n",
       "      <td>466</td>\n",
       "      <td>50451718.885052442779591628</td>\n",
       "      <td>568.469556179638284252</td>\n",
       "      <td>1020903.380253957921149317802689005</td>\n",
       "    </tr>\n",
       "    <tr>\n",
       "      <th>13</th>\n",
       "      <td>0x8c1c499b1796d7f3c2521ac37186b52de024e58c</td>\n",
       "      <td>939931.639182685426251764</td>\n",
       "      <td>1995580.757769</td>\n",
       "      <td>4117252.487900125806857966340931903</td>\n",
       "      <td>1.198797283990609674</td>\n",
       "      <td>165</td>\n",
       "      <td>452539.384559022218196543</td>\n",
       "      <td>1000185.20555</td>\n",
       "      <td>1000414.578905017001373359548662319</td>\n",
       "    </tr>\n",
       "    <tr>\n",
       "      <th>14</th>\n",
       "      <td>0xdd39323c337c33d0285c1d4228a1a46a8502c79f</td>\n",
       "      <td>66440650727706.597227107208443003</td>\n",
       "      <td>729831.256612</td>\n",
       "      <td>1460602.248501550373469062332659775</td>\n",
       "      <td>6454.97224367901523102</td>\n",
       "      <td>372</td>\n",
       "      <td>92419897650656.793742528860750703</td>\n",
       "      <td>972386.174524</td>\n",
       "      <td>972807.8660929728883561858897073178</td>\n",
       "    </tr>\n",
       "    <tr>\n",
       "      <th>15</th>\n",
       "      <td>0x811beed0119b4afce20d2583eb608c6f7af1954f</td>\n",
       "      <td>137381972568.773146419202652462</td>\n",
       "      <td>822.136772437380008014</td>\n",
       "      <td>2971496.62124627629670831423373769</td>\n",
       "      <td>1125625.850366704550157845</td>\n",
       "      <td>189</td>\n",
       "      <td>84646754467.221376030947367188</td>\n",
       "      <td>520.441181634235465487</td>\n",
       "      <td>938455.3880912685442083272437158236</td>\n",
       "    </tr>\n",
       "    <tr>\n",
       "      <th>16</th>\n",
       "      <td>0x8ef79d6c328c25da633559c20c75f638a4863462</td>\n",
       "      <td>21725602182353.934683799217710177</td>\n",
       "      <td>1137.136209677640706871</td>\n",
       "      <td>4111702.928814411972202289726909645</td>\n",
       "      <td>139647708.508189323870899468</td>\n",
       "      <td>177</td>\n",
       "      <td>9561915390847.339276168274858309</td>\n",
       "      <td>515.441684534327388364</td>\n",
       "      <td>923244.5849077709315492435114446155</td>\n",
       "    </tr>\n",
       "    <tr>\n",
       "      <th>17</th>\n",
       "      <td>0xa478c2975ab1ea89e8196811f51a7b7ade33eb11</td>\n",
       "      <td>8591150.320398136877379623</td>\n",
       "      <td>4755.060737156789330057</td>\n",
       "      <td>17192573.26610398253434779770749409</td>\n",
       "      <td>120489.530322838968077415</td>\n",
       "      <td>318</td>\n",
       "      <td>794092.120520714100584656</td>\n",
       "      <td>441.181810416300041517</td>\n",
       "      <td>794589.9530639120679491447181043045</td>\n",
       "    </tr>\n",
       "    <tr>\n",
       "      <th>18</th>\n",
       "      <td>0x5449bd1a97296125252db2d9cf23d5d6e30ca3c1</td>\n",
       "      <td>19890659431.580916082411827834</td>\n",
       "      <td>1.220377361665848388</td>\n",
       "      <td>4442.016832213092521660059518703806</td>\n",
       "      <td>54507.190418790743185676</td>\n",
       "      <td>10</td>\n",
       "      <td>47353916932.972929711078731104</td>\n",
       "      <td>800.698544354827209003</td>\n",
       "      <td>717412.5609100488321279566232410223</td>\n",
       "    </tr>\n",
       "    <tr>\n",
       "      <th>19</th>\n",
       "      <td>0x3041cbd36888becc7bbcbc0045e3b1f144466f5f</td>\n",
       "      <td>9106086.793727</td>\n",
       "      <td>9132369.990284</td>\n",
       "      <td>18232737.66482572193503387894012748</td>\n",
       "      <td>0.000007420131494547</td>\n",
       "      <td>295</td>\n",
       "      <td>705256.279543</td>\n",
       "      <td>707349.331073</td>\n",
       "      <td>706022.1662539794276232565442365313</td>\n",
       "    </tr>\n",
       "    <tr>\n",
       "      <th>20</th>\n",
       "      <td>0x9af0f334f9f451ce9e650278e56fec212f35cec1</td>\n",
       "      <td>536616583937593.558487380650563307</td>\n",
       "      <td>653.86451536340931939</td>\n",
       "      <td>2366934.978902323035295376884397494</td>\n",
       "      <td>566951006.881031847765641544</td>\n",
       "      <td>172</td>\n",
       "      <td>265201762695055.421318903211127996</td>\n",
       "      <td>369.855778710977314265</td>\n",
       "      <td>662910.1840669022149382039863127992</td>\n",
       "    </tr>\n",
       "    <tr>\n",
       "      <th>21</th>\n",
       "      <td>0xccb63225a7b19dcf66717e4d40c9a72b39331d61</td>\n",
       "      <td>13766263.614604763922039235</td>\n",
       "      <td>7943.210870859215357369</td>\n",
       "      <td>28785339.38354955009593616336191422</td>\n",
       "      <td>291284.195794547355478078</td>\n",
       "      <td>36</td>\n",
       "      <td>509919.986530725327347912</td>\n",
       "      <td>287.275517169842785181</td>\n",
       "      <td>521788.9388986266222824195211770962</td>\n",
       "    </tr>\n",
       "    <tr>\n",
       "      <th>22</th>\n",
       "      <td>0xec54859519293b8784bc5bf28144166f313618af</td>\n",
       "      <td>1924354.109783361057458964</td>\n",
       "      <td>58295701886.65165421900029295</td>\n",
       "      <td>3839822.27940769797571362708996319</td>\n",
       "      <td>325808749.640185294185952083</td>\n",
       "      <td>139</td>\n",
       "      <td>474309.102551927143326741</td>\n",
       "      <td>14131364602.649493153802788569</td>\n",
       "      <td>475123.3572190850248976189100219231</td>\n",
       "    </tr>\n",
       "    <tr>\n",
       "      <th>23</th>\n",
       "      <td>0x25647e01bd0967c1b9599fa3521939871d1d0888</td>\n",
       "      <td>2284.890572088574137991</td>\n",
       "      <td>20407126.311975629489047856</td>\n",
       "      <td>8291338.796641625957808056278246011</td>\n",
       "      <td>121731.08924170948409475</td>\n",
       "      <td>84</td>\n",
       "      <td>255.006873482091398925</td>\n",
       "      <td>2236795.737443610251705446</td>\n",
       "      <td>457092.6792283447659923741637482616</td>\n",
       "    </tr>\n",
       "    <tr>\n",
       "      <th>24</th>\n",
       "      <td>0xfe903a12359496b932e24c5e9b78f1b9060a6342</td>\n",
       "      <td>5647121.410417897889275038</td>\n",
       "      <td>513.685997006544624288</td>\n",
       "      <td>1860850.392284447274426869340175987</td>\n",
       "      <td>39649.700799300767846856</td>\n",
       "      <td>81</td>\n",
       "      <td>2279121.040471189378786016</td>\n",
       "      <td>223.705435118572743245</td>\n",
       "      <td>401132.014982953442539759006945614</td>\n",
       "    </tr>\n",
       "    <tr>\n",
       "      <th>25</th>\n",
       "      <td>0x80b4d4e9d88d9f78198c56c5a27f3bacb9a685c5</td>\n",
       "      <td>198.708552432583439</td>\n",
       "      <td>1137251.373527926393614571</td>\n",
       "      <td>720076.0464424662924287152377555322</td>\n",
       "      <td>4183.981538330340248622</td>\n",
       "      <td>129</td>\n",
       "      <td>197.558150497802706864</td>\n",
       "      <td>1104909.804949734328581674</td>\n",
       "      <td>355723.2199580434919554878277184594</td>\n",
       "    </tr>\n",
       "    <tr>\n",
       "      <th>26</th>\n",
       "      <td>0xd3d2e2692501a5c9ca623199d38826e513033a17</td>\n",
       "      <td>2059475.388957455041170434</td>\n",
       "      <td>5808.820902665764206961</td>\n",
       "      <td>21051234.21344266850172887786952301</td>\n",
       "      <td>50333.469152680636372157</td>\n",
       "      <td>54</td>\n",
       "      <td>65274.41043465587675697</td>\n",
       "      <td>183.497196130439292747</td>\n",
       "      <td>330669.6431795926209296191489907534</td>\n",
       "    </tr>\n",
       "    <tr>\n",
       "      <th>27</th>\n",
       "      <td>0xc5be99a02c6857f9eac67bbce58df5572498f40c</td>\n",
       "      <td>1155.658011005733238112</td>\n",
       "      <td>2009608.963082036</td>\n",
       "      <td>4185594.101355138079295993726453647</td>\n",
       "      <td>0.590203775593088159</td>\n",
       "      <td>35</td>\n",
       "      <td>179.590396793646258473</td>\n",
       "      <td>309542.351765391</td>\n",
       "      <td>326027.5825562088718791411121399064</td>\n",
       "    </tr>\n",
       "    <tr>\n",
       "      <th>28</th>\n",
       "      <td>0x97e1fcb93ae7267dbafad23f7b9afaa08264cfd8</td>\n",
       "      <td>1320884908191.363025577282367675</td>\n",
       "      <td>1283.352551768714664088</td>\n",
       "      <td>4638549.031785302139046530126469253</td>\n",
       "      <td>30089863.56945984556809423</td>\n",
       "      <td>86</td>\n",
       "      <td>175333730486.137895991584185493</td>\n",
       "      <td>172.333179235231648018</td>\n",
       "      <td>309920.7920643432177160316935834347</td>\n",
       "    </tr>\n",
       "    <tr>\n",
       "      <th>29</th>\n",
       "      <td>0x4d5ef58aac27d99935e5b6b4a6778ff292059991</td>\n",
       "      <td>10186.768546395581616137</td>\n",
       "      <td>523.973942204222378448</td>\n",
       "      <td>1893819.372541258790365693020749</td>\n",
       "      <td>1961.016490314040703401</td>\n",
       "      <td>92</td>\n",
       "      <td>3176.699729313654723961</td>\n",
       "      <td>163.946646514987831098</td>\n",
       "      <td>295207.7698447054653156771004847922</td>\n",
       "    </tr>\n",
       "    <tr>\n",
       "      <th>30</th>\n",
       "      <td>0x6591c4bcd6d7a1eb4e537da8b78676c1576ba244</td>\n",
       "      <td>896042.514845790218472498</td>\n",
       "      <td>3159246.500619</td>\n",
       "      <td>6310794.011512777604533924737375742</td>\n",
       "      <td>1.387052280056787128</td>\n",
       "      <td>38</td>\n",
       "      <td>76619.54822631853021057</td>\n",
       "      <td>275068.789012</td>\n",
       "      <td>275128.7817010708823908177053054361</td>\n",
       "    </tr>\n",
       "    <tr>\n",
       "      <th>31</th>\n",
       "      <td>0x4a7d4be868e0b811ea804faf0d3a325c3a29a9ad</td>\n",
       "      <td>5640884.275107329944359084</td>\n",
       "      <td>382.491227003902476866</td>\n",
       "      <td>1382949.410618594943300222064139593</td>\n",
       "      <td>32637.643933661235050835</td>\n",
       "      <td>53</td>\n",
       "      <td>2032287.659868379420015882</td>\n",
       "      <td>144.383692210190203376</td>\n",
       "      <td>262378.7414691136421676783671892933</td>\n",
       "    </tr>\n",
       "    <tr>\n",
       "      <th>32</th>\n",
       "      <td>0x271544af1f703ac3deb3f12790de83b3b987aa2b</td>\n",
       "      <td>42038340.798716851511800564</td>\n",
       "      <td>362.978959426626748939</td>\n",
       "      <td>1312511.089020321668621330165401321</td>\n",
       "      <td>117479.597850185334658016</td>\n",
       "      <td>62</td>\n",
       "      <td>16717057.462484383845161707</td>\n",
       "      <td>141.740383635366585659</td>\n",
       "      <td>255884.5081831715751729480217166994</td>\n",
       "    </tr>\n",
       "    <tr>\n",
       "      <th>33</th>\n",
       "      <td>0x4028daac072e492d34a3afdbef0ba7e35d8b55c4</td>\n",
       "      <td>985.272383536476294022</td>\n",
       "      <td>960.81590363530080552</td>\n",
       "      <td>3472772.679174635800967311890497636</td>\n",
       "      <td>797.237011389308801073</td>\n",
       "      <td>81</td>\n",
       "      <td>140.586508671714227945</td>\n",
       "      <td>135.584889522569013659</td>\n",
       "      <td>244395.5344746080005968642410562708</td>\n",
       "    </tr>\n",
       "    <tr>\n",
       "      <th>34</th>\n",
       "      <td>0xb05e19a28e4d13eeae507eaf6572e3a1c5d8f774</td>\n",
       "      <td>2422196.153584783441388664</td>\n",
       "      <td>436.9729765425902778</td>\n",
       "      <td>1579373.080354244397046357129373731</td>\n",
       "      <td>32482.71776075702653633</td>\n",
       "      <td>50</td>\n",
       "      <td>770596.770739135111604134</td>\n",
       "      <td>117.292184945805359515</td>\n",
       "      <td>211160.2288236968330212216907907167</td>\n",
       "    </tr>\n",
       "    <tr>\n",
       "      <th>35</th>\n",
       "      <td>0xae461ca67b15dc8dc81ce7615e0320da1a9ab8d5</td>\n",
       "      <td>53460420.712851634524630025</td>\n",
       "      <td>53532203.731937</td>\n",
       "      <td>107058916.9739061487748686360449841</td>\n",
       "      <td>47.521747670730748577</td>\n",
       "      <td>87</td>\n",
       "      <td>209577.482992202191225354</td>\n",
       "      <td>209957.190812</td>\n",
       "      <td>209907.6074356897289749202551086153</td>\n",
       "    </tr>\n",
       "    <tr>\n",
       "      <th>36</th>\n",
       "      <td>0x9c4fe5ffd9a9fc5678cfbd93aa2d4fd684b67c4c</td>\n",
       "      <td>5949.904126067210573583</td>\n",
       "      <td>6106.234746650059278863</td>\n",
       "      <td>22127990.35451998785660842686616232</td>\n",
       "      <td>4896.098444029230301699</td>\n",
       "      <td>33</td>\n",
       "      <td>111.298581479856248207</td>\n",
       "      <td>114.950240905266233305</td>\n",
       "      <td>206962.4742935042997756295892629887</td>\n",
       "    </tr>\n",
       "    <tr>\n",
       "      <th>37</th>\n",
       "      <td>0xb8a1a865e4405281311c5bc0f90c240498472d3e</td>\n",
       "      <td>6010695.810669730844153646</td>\n",
       "      <td>278.97623280714663192</td>\n",
       "      <td>1012298.73448035192370141768706705</td>\n",
       "      <td>26810.259894858269386327</td>\n",
       "      <td>59</td>\n",
       "      <td>2331481.500806029249536184</td>\n",
       "      <td>109.247024137382690753</td>\n",
       "      <td>195889.7028779762507562626441915362</td>\n",
       "    </tr>\n",
       "    <tr>\n",
       "      <th>38</th>\n",
       "      <td>0x70ec2fa6eccf4010eaf572d1c1a7bcbc72dec983</td>\n",
       "      <td>423.216870970266691826</td>\n",
       "      <td>19153.541049848769732509</td>\n",
       "      <td>1533505.111369502821816661518875461</td>\n",
       "      <td>1480.452162741184050422</td>\n",
       "      <td>46</td>\n",
       "      <td>105.160871954260061968</td>\n",
       "      <td>4812.836424832155435421</td>\n",
       "      <td>188541.1277829450381931267738673621</td>\n",
       "    </tr>\n",
       "    <tr>\n",
       "      <th>39</th>\n",
       "      <td>0x3fa5db0910afc2a1e6de45039ea217410fb8641d</td>\n",
       "      <td>324353.613947102794474884</td>\n",
       "      <td>1272249.866925</td>\n",
       "      <td>2541372.574477516575657935596549619</td>\n",
       "      <td>0.028208416759788805</td>\n",
       "      <td>23</td>\n",
       "      <td>45425.990656548471140635</td>\n",
       "      <td>182805.140212</td>\n",
       "      <td>182839.8177374157031085069564548097</td>\n",
       "    </tr>\n",
       "    <tr>\n",
       "      <th>40</th>\n",
       "      <td>0xa5e9c917b4b821e4e0a5bbefce078ab6540d6b5e</td>\n",
       "      <td>510046919467.405569536019879768</td>\n",
       "      <td>1291.093841262717008912</td>\n",
       "      <td>4666508.245445877740434443746916002</td>\n",
       "      <td>12281269.04080623701388428</td>\n",
       "      <td>51</td>\n",
       "      <td>39593019392.965130448671374565</td>\n",
       "      <td>99.612747021701430048</td>\n",
       "      <td>180105.1666667467330620161780996688</td>\n",
       "    </tr>\n",
       "    <tr>\n",
       "      <th>41</th>\n",
       "      <td>0x6ada49aeccf6e556bb7a35ef0119cc8ca795294a</td>\n",
       "      <td>11204988.319447557520921235</td>\n",
       "      <td>991.566156808712220401</td>\n",
       "      <td>3589386.738844315786306397829727972</td>\n",
       "      <td>56662.652051908738153066</td>\n",
       "      <td>45</td>\n",
       "      <td>1082770.173670394274701724</td>\n",
       "      <td>96.921731491229483868</td>\n",
       "      <td>175295.3810698716444752551155679943</td>\n",
       "    </tr>\n",
       "    <tr>\n",
       "      <th>42</th>\n",
       "      <td>0x453a43e2bf3080f7a23c9bb034ccdd869e306102</td>\n",
       "      <td>302.982886155483129977</td>\n",
       "      <td>53799.931550808911382281</td>\n",
       "      <td>1095101.241889542410846527700628125</td>\n",
       "      <td>3549.575537270693627411</td>\n",
       "      <td>437</td>\n",
       "      <td>97.60687621322496461</td>\n",
       "      <td>16566.521552488930155747</td>\n",
       "      <td>175220.5483793780435738605593329132</td>\n",
       "    </tr>\n",
       "    <tr>\n",
       "      <th>43</th>\n",
       "      <td>0x11181bd3baf5ce2a478e98361985d42625de35d1</td>\n",
       "      <td>35049366.252223707538622867</td>\n",
       "      <td>7457796.83135</td>\n",
       "      <td>14929002.28126741251075667691783659</td>\n",
       "      <td>15.879723038799099906</td>\n",
       "      <td>33</td>\n",
       "      <td>810146.159944736539325196</td>\n",
       "      <td>172847.507224</td>\n",
       "      <td>172912.2322407528369651810952570057</td>\n",
       "    </tr>\n",
       "    <tr>\n",
       "      <th>44</th>\n",
       "      <td>0x1037fa1f40b69c9266c4aeb2abcedc7553614b4c</td>\n",
       "      <td>2350863.342554866356863441</td>\n",
       "      <td>174.442897585919112401</td>\n",
       "      <td>631468.5410728325434044197947467048</td>\n",
       "      <td>6928.614924328693002263</td>\n",
       "      <td>71</td>\n",
       "      <td>1200983.066288076153094606</td>\n",
       "      <td>94.662457587815452951</td>\n",
       "      <td>169870.8323037426789500629277238685</td>\n",
       "    </tr>\n",
       "    <tr>\n",
       "      <th>45</th>\n",
       "      <td>0xf66369997ae562bc9eec2ab9541581252f9ca383</td>\n",
       "      <td>905377.131401824085082571</td>\n",
       "      <td>602.304388703290434552</td>\n",
       "      <td>2191524.841947554557436803318265626</td>\n",
       "      <td>17039.817924603670964262</td>\n",
       "      <td>45</td>\n",
       "      <td>133049.071918208033822172</td>\n",
       "      <td>94.18150666637087389</td>\n",
       "      <td>168856.2511661062512112983432971573</td>\n",
       "    </tr>\n",
       "    <tr>\n",
       "      <th>46</th>\n",
       "      <td>0xcf4236db746dbc1855a4d095aaf58da9b030491e</td>\n",
       "      <td>2268926.586300006986421068</td>\n",
       "      <td>134.906787905287079111</td>\n",
       "      <td>487600.2879182688873688597128700263</td>\n",
       "      <td>13797.070713936561934792</td>\n",
       "      <td>66</td>\n",
       "      <td>1589632.785341448517043149</td>\n",
       "      <td>92.830825718467465375</td>\n",
       "      <td>168124.0163762535630664537872659459</td>\n",
       "    </tr>\n",
       "    <tr>\n",
       "      <th>47</th>\n",
       "      <td>0x7b73644935b8e68019ac6356c40661e1bc315860</td>\n",
       "      <td>16694673860421.965841184492236691</td>\n",
       "      <td>4073.187323721388117374</td>\n",
       "      <td>14722126.89388334418324871796576074</td>\n",
       "      <td>141957885.507612589027096652</td>\n",
       "      <td>88</td>\n",
       "      <td>380978332182.012031118883591413</td>\n",
       "      <td>92.497992294085849665</td>\n",
       "      <td>166425.424300564791162929556883296</td>\n",
       "    </tr>\n",
       "    <tr>\n",
       "      <th>48</th>\n",
       "      <td>0x5083b16da538c5022744526122243cf3bddb3bf2</td>\n",
       "      <td>39617613.623383835236199837</td>\n",
       "      <td>1347623.135381</td>\n",
       "      <td>2695991.987548403830042363986786818</td>\n",
       "      <td>6.70434875091940014</td>\n",
       "      <td>40</td>\n",
       "      <td>5024182.695596332998829822</td>\n",
       "      <td>160724.018251</td>\n",
       "      <td>160789.5569784155895498163480883066</td>\n",
       "    </tr>\n",
       "    <tr>\n",
       "      <th>49</th>\n",
       "      <td>0xdb44a4a457c87225b5ba45f27b7828a4cc03c112</td>\n",
       "      <td>2362507.3193913073982316</td>\n",
       "      <td>377.750492339415585069</td>\n",
       "      <td>1370566.916556931344839941905982548</td>\n",
       "      <td>24931.082328533536770817</td>\n",
       "      <td>44</td>\n",
       "      <td>538425.982641995915073539</td>\n",
       "      <td>87.385311323564152397</td>\n",
       "      <td>157187.8946207021501732196641805131</td>\n",
       "    </tr>\n",
       "  </tbody>\n",
       "</table>\n",
       "</div>"
      ],
      "text/plain": [
       "                                   pairAddress  \\\n",
       "0   0x26b1c843b41ab3ac6146f859d31dcb2031f5992b   \n",
       "1   0x9112d1761124d4ec7aca02014d6e215970f87e33   \n",
       "2   0x7a809081f991ecfe0ab2727c7e90d2ad7c2e411e   \n",
       "3   0xb4e16d0168e52d35cacd2c6185b44281ec28c9dc   \n",
       "4   0x0d4a11d5eeaac28ec3f61d100daf4d40471f1852   \n",
       "5   0x6033368e4a402605294c91cf5c03d72bd96e7d8d   \n",
       "6   0x5fc5b2a2a84e577e8eb3ddd00d6b18cdfc976645   \n",
       "7   0xc9919a9eb691f571e41db417f911135b4ac46fe7   \n",
       "8   0x55d5c232d921b9eaa6b37b5845e439acd04b4dba   \n",
       "9   0x5281e311734869c64ca60ef047fd87759397efe6   \n",
       "10  0xf6dcdce0ac3001b2f67f750bc64ea5beb37b5824   \n",
       "11  0x9cbfb60a09a9a33a10312da0f39977cbdb7fde23   \n",
       "12  0x7ba9b94127d434182287de708643932ec036d365   \n",
       "13  0x8c1c499b1796d7f3c2521ac37186b52de024e58c   \n",
       "14  0xdd39323c337c33d0285c1d4228a1a46a8502c79f   \n",
       "15  0x811beed0119b4afce20d2583eb608c6f7af1954f   \n",
       "16  0x8ef79d6c328c25da633559c20c75f638a4863462   \n",
       "17  0xa478c2975ab1ea89e8196811f51a7b7ade33eb11   \n",
       "18  0x5449bd1a97296125252db2d9cf23d5d6e30ca3c1   \n",
       "19  0x3041cbd36888becc7bbcbc0045e3b1f144466f5f   \n",
       "20  0x9af0f334f9f451ce9e650278e56fec212f35cec1   \n",
       "21  0xccb63225a7b19dcf66717e4d40c9a72b39331d61   \n",
       "22  0xec54859519293b8784bc5bf28144166f313618af   \n",
       "23  0x25647e01bd0967c1b9599fa3521939871d1d0888   \n",
       "24  0xfe903a12359496b932e24c5e9b78f1b9060a6342   \n",
       "25  0x80b4d4e9d88d9f78198c56c5a27f3bacb9a685c5   \n",
       "26  0xd3d2e2692501a5c9ca623199d38826e513033a17   \n",
       "27  0xc5be99a02c6857f9eac67bbce58df5572498f40c   \n",
       "28  0x97e1fcb93ae7267dbafad23f7b9afaa08264cfd8   \n",
       "29  0x4d5ef58aac27d99935e5b6b4a6778ff292059991   \n",
       "30  0x6591c4bcd6d7a1eb4e537da8b78676c1576ba244   \n",
       "31  0x4a7d4be868e0b811ea804faf0d3a325c3a29a9ad   \n",
       "32  0x271544af1f703ac3deb3f12790de83b3b987aa2b   \n",
       "33  0x4028daac072e492d34a3afdbef0ba7e35d8b55c4   \n",
       "34  0xb05e19a28e4d13eeae507eaf6572e3a1c5d8f774   \n",
       "35  0xae461ca67b15dc8dc81ce7615e0320da1a9ab8d5   \n",
       "36  0x9c4fe5ffd9a9fc5678cfbd93aa2d4fd684b67c4c   \n",
       "37  0xb8a1a865e4405281311c5bc0f90c240498472d3e   \n",
       "38  0x70ec2fa6eccf4010eaf572d1c1a7bcbc72dec983   \n",
       "39  0x3fa5db0910afc2a1e6de45039ea217410fb8641d   \n",
       "40  0xa5e9c917b4b821e4e0a5bbefce078ab6540d6b5e   \n",
       "41  0x6ada49aeccf6e556bb7a35ef0119cc8ca795294a   \n",
       "42  0x453a43e2bf3080f7a23c9bb034ccdd869e306102   \n",
       "43  0x11181bd3baf5ce2a478e98361985d42625de35d1   \n",
       "44  0x1037fa1f40b69c9266c4aeb2abcedc7553614b4c   \n",
       "45  0xf66369997ae562bc9eec2ab9541581252f9ca383   \n",
       "46  0xcf4236db746dbc1855a4d095aaf58da9b030491e   \n",
       "47  0x7b73644935b8e68019ac6356c40661e1bc315860   \n",
       "48  0x5083b16da538c5022744526122243cf3bddb3bf2   \n",
       "49  0xdb44a4a457c87225b5ba45f27b7828a4cc03c112   \n",
       "\n",
       "                              reserve0                           reserve1  \\\n",
       "0                 1.767872165974808497               0.103575127241738334   \n",
       "1         16350613868.3869050774532976               0.519906171224847849   \n",
       "2                       7278284.442263  53711361613298.579569450654648315   \n",
       "3                       79053219.45668           43762.070870754729340122   \n",
       "4               17150.6216251843007197                     31025675.01265   \n",
       "5           12923069.47957958366364951            1700.778808333284489473   \n",
       "6                 1.405332611560299561                     4879.509395835   \n",
       "7             19492.596085670694340666               1.743545235299297085   \n",
       "8                     9561300.85832576             262.860789083706771544   \n",
       "9              1590.131078037393753415    194274555743.182871721195811459   \n",
       "10                    6580678.00712234                      328934.681051   \n",
       "11           621396432191831.238906482            1971.111819425798635669   \n",
       "12         12265921.026925799452795658             114.678912348143895411   \n",
       "13           939931.639182685426251764                     1995580.757769   \n",
       "14   66440650727706.597227107208443003                      729831.256612   \n",
       "15     137381972568.773146419202652462             822.136772437380008014   \n",
       "16   21725602182353.934683799217710177            1137.136209677640706871   \n",
       "17          8591150.320398136877379623            4755.060737156789330057   \n",
       "18      19890659431.580916082411827834               1.220377361665848388   \n",
       "19                      9106086.793727                     9132369.990284   \n",
       "20  536616583937593.558487380650563307              653.86451536340931939   \n",
       "21         13766263.614604763922039235            7943.210870859215357369   \n",
       "22          1924354.109783361057458964      58295701886.65165421900029295   \n",
       "23             2284.890572088574137991        20407126.311975629489047856   \n",
       "24          5647121.410417897889275038             513.685997006544624288   \n",
       "25                 198.708552432583439         1137251.373527926393614571   \n",
       "26          2059475.388957455041170434            5808.820902665764206961   \n",
       "27             1155.658011005733238112                  2009608.963082036   \n",
       "28    1320884908191.363025577282367675            1283.352551768714664088   \n",
       "29            10186.768546395581616137             523.973942204222378448   \n",
       "30           896042.514845790218472498                     3159246.500619   \n",
       "31          5640884.275107329944359084             382.491227003902476866   \n",
       "32         42038340.798716851511800564             362.978959426626748939   \n",
       "33              985.272383536476294022              960.81590363530080552   \n",
       "34          2422196.153584783441388664               436.9729765425902778   \n",
       "35         53460420.712851634524630025                    53532203.731937   \n",
       "36             5949.904126067210573583            6106.234746650059278863   \n",
       "37          6010695.810669730844153646              278.97623280714663192   \n",
       "38              423.216870970266691826           19153.541049848769732509   \n",
       "39           324353.613947102794474884                     1272249.866925   \n",
       "40     510046919467.405569536019879768            1291.093841262717008912   \n",
       "41         11204988.319447557520921235             991.566156808712220401   \n",
       "42              302.982886155483129977           53799.931550808911382281   \n",
       "43         35049366.252223707538622867                      7457796.83135   \n",
       "44          2350863.342554866356863441             174.442897585919112401   \n",
       "45           905377.131401824085082571             602.304388703290434552   \n",
       "46          2268926.586300006986421068             134.906787905287079111   \n",
       "47   16694673860421.965841184492236691            4073.187323721388117374   \n",
       "48         39617613.623383835236199837                     1347623.135381   \n",
       "49            2362507.3193913073982316             377.750492339415585069   \n",
       "\n",
       "                             reserveUSD                   totalSupply  \\\n",
       "0    185.007627282511291050410476253084          0.397489622506046319   \n",
       "1   939.5606044999527414057226528192348      76481.596984279553163924   \n",
       "2   14562523.79614463010296044124735658      17000.372001445604539439   \n",
       "3   158171118.2947124454132655087211276          0.949291097224270471   \n",
       "4   61986741.93124518014117041922362383          0.358735792422925442   \n",
       "5   6150046.731936887471116457848148126     122495.841175114799947429   \n",
       "6   2540.637390630996495380319988943423          0.000000001693876534   \n",
       "7   6230.195069012601572355339755270908        134.786530428602600527   \n",
       "8   950046.2579647230507226365979986013          0.141939588833336829   \n",
       "9   5747440.852724872320382470833962709   13027895.889162734975983901   \n",
       "10  658294.8540617761718797970861978751          0.000007647112982819   \n",
       "11  7124074.173003478151163110000239229      14313.458893646941440285   \n",
       "12  414488.9827418657326611333329020109      21179.822885938282064551   \n",
       "13  4117252.487900125806857966340931903          1.198797283990609674   \n",
       "14  1460602.248501550373469062332659775        6454.97224367901523102   \n",
       "15   2971496.62124627629670831423373769    1125625.850366704550157845   \n",
       "16  4111702.928814411972202289726909645  139647708.508189323870899468   \n",
       "17  17192573.26610398253434779770749409     120489.530322838968077415   \n",
       "18  4442.016832213092521660059518703806      54507.190418790743185676   \n",
       "19  18232737.66482572193503387894012748          0.000007420131494547   \n",
       "20  2366934.978902323035295376884397494  566951006.881031847765641544   \n",
       "21  28785339.38354955009593616336191422     291284.195794547355478078   \n",
       "22   3839822.27940769797571362708996319  325808749.640185294185952083   \n",
       "23  8291338.796641625957808056278246011      121731.08924170948409475   \n",
       "24  1860850.392284447274426869340175987      39649.700799300767846856   \n",
       "25  720076.0464424662924287152377555322       4183.981538330340248622   \n",
       "26  21051234.21344266850172887786952301      50333.469152680636372157   \n",
       "27  4185594.101355138079295993726453647          0.590203775593088159   \n",
       "28  4638549.031785302139046530126469253    30089863.56945984556809423   \n",
       "29     1893819.372541258790365693020749       1961.016490314040703401   \n",
       "30  6310794.011512777604533924737375742          1.387052280056787128   \n",
       "31  1382949.410618594943300222064139593      32637.643933661235050835   \n",
       "32  1312511.089020321668621330165401321     117479.597850185334658016   \n",
       "33  3472772.679174635800967311890497636        797.237011389308801073   \n",
       "34  1579373.080354244397046357129373731       32482.71776075702653633   \n",
       "35  107058916.9739061487748686360449841         47.521747670730748577   \n",
       "36  22127990.35451998785660842686616232       4896.098444029230301699   \n",
       "37   1012298.73448035192370141768706705      26810.259894858269386327   \n",
       "38  1533505.111369502821816661518875461       1480.452162741184050422   \n",
       "39  2541372.574477516575657935596549619          0.028208416759788805   \n",
       "40  4666508.245445877740434443746916002    12281269.04080623701388428   \n",
       "41  3589386.738844315786306397829727972      56662.652051908738153066   \n",
       "42  1095101.241889542410846527700628125       3549.575537270693627411   \n",
       "43  14929002.28126741251075667691783659         15.879723038799099906   \n",
       "44  631468.5410728325434044197947467048       6928.614924328693002263   \n",
       "45  2191524.841947554557436803318265626      17039.817924603670964262   \n",
       "46  487600.2879182688873688597128700263      13797.070713936561934792   \n",
       "47  14722126.89388334418324871796576074  141957885.507612589027096652   \n",
       "48  2695991.987548403830042363986786818           6.70434875091940014   \n",
       "49  1370566.916556931344839941905982548      24931.082328533536770817   \n",
       "\n",
       "   dailyTxns                   dailyVolumeToken0  \\\n",
       "0         66               75.590458431395684271   \n",
       "1        568    1419137291173.507923209293317101   \n",
       "2       1130                      9352341.202544   \n",
       "3       2352                      7944060.293021   \n",
       "4        988             1985.069246836202839412   \n",
       "5        339         13267781.010060489687022394   \n",
       "6         52             2370.283509828503112744   \n",
       "7          5            39890.453065187663700397   \n",
       "8       1084                   31687521.75123634   \n",
       "9        354               693.44156563152035369   \n",
       "10       283                   21761174.39386819   \n",
       "11       849            205004098504744.69545259   \n",
       "12       466         50451718.885052442779591628   \n",
       "13       165           452539.384559022218196543   \n",
       "14       372   92419897650656.793742528860750703   \n",
       "15       189      84646754467.221376030947367188   \n",
       "16       177    9561915390847.339276168274858309   \n",
       "17       318           794092.120520714100584656   \n",
       "18        10      47353916932.972929711078731104   \n",
       "19       295                       705256.279543   \n",
       "20       172  265201762695055.421318903211127996   \n",
       "21        36           509919.986530725327347912   \n",
       "22       139           474309.102551927143326741   \n",
       "23        84              255.006873482091398925   \n",
       "24        81          2279121.040471189378786016   \n",
       "25       129              197.558150497802706864   \n",
       "26        54             65274.41043465587675697   \n",
       "27        35              179.590396793646258473   \n",
       "28        86     175333730486.137895991584185493   \n",
       "29        92             3176.699729313654723961   \n",
       "30        38             76619.54822631853021057   \n",
       "31        53          2032287.659868379420015882   \n",
       "32        62         16717057.462484383845161707   \n",
       "33        81              140.586508671714227945   \n",
       "34        50           770596.770739135111604134   \n",
       "35        87           209577.482992202191225354   \n",
       "36        33              111.298581479856248207   \n",
       "37        59          2331481.500806029249536184   \n",
       "38        46              105.160871954260061968   \n",
       "39        23            45425.990656548471140635   \n",
       "40        51      39593019392.965130448671374565   \n",
       "41        45          1082770.173670394274701724   \n",
       "42       437                97.60687621322496461   \n",
       "43        33           810146.159944736539325196   \n",
       "44        71          1200983.066288076153094606   \n",
       "45        45           133049.071918208033822172   \n",
       "46        66          1589632.785341448517043149   \n",
       "47        88     380978332182.012031118883591413   \n",
       "48        40          5024182.695596332998829822   \n",
       "49        44           538425.982641995915073539   \n",
       "\n",
       "                    dailyVolumeToken1                       dailyVolumeUSD  \n",
       "0            20391.289551617179340048  18044577.16616131095138411684391161  \n",
       "1            13969.023979241586925419   12330161.8603183632501027905931409  \n",
       "2   70352106872638.631096732439854899  9356068.767914834418701521183459145  \n",
       "3             4416.753923820066502526  7946290.543183526065581561379215337  \n",
       "4                      3568632.914985  3567514.616175831645067170006679848  \n",
       "5              1890.06115884505521772  3406788.640697228554984176713442879  \n",
       "6                      29395.18460405  2117245.547362322563131098884959673  \n",
       "7               2315.4491801142244733  2068207.090312683960461532632688075  \n",
       "8              921.849962520731810018  1656077.459784708517237385640827616  \n",
       "9      84402864787.057603459657130526  1242412.424525914084718022581442596  \n",
       "10                     1141723.997216  1141946.302832015773314469740411698  \n",
       "11             625.000632860529770145  1127677.624600125186797023647220326  \n",
       "12             568.469556179638284252  1020903.380253957921149317802689005  \n",
       "13                      1000185.20555  1000414.578905017001373359548662319  \n",
       "14                      972386.174524  972807.8660929728883561858897073178  \n",
       "15             520.441181634235465487  938455.3880912685442083272437158236  \n",
       "16             515.441684534327388364  923244.5849077709315492435114446155  \n",
       "17             441.181810416300041517  794589.9530639120679491447181043045  \n",
       "18             800.698544354827209003  717412.5609100488321279566232410223  \n",
       "19                      707349.331073  706022.1662539794276232565442365313  \n",
       "20             369.855778710977314265  662910.1840669022149382039863127992  \n",
       "21             287.275517169842785181  521788.9388986266222824195211770962  \n",
       "22     14131364602.649493153802788569  475123.3572190850248976189100219231  \n",
       "23         2236795.737443610251705446  457092.6792283447659923741637482616  \n",
       "24             223.705435118572743245   401132.014982953442539759006945614  \n",
       "25         1104909.804949734328581674  355723.2199580434919554878277184594  \n",
       "26             183.497196130439292747  330669.6431795926209296191489907534  \n",
       "27                   309542.351765391  326027.5825562088718791411121399064  \n",
       "28             172.333179235231648018  309920.7920643432177160316935834347  \n",
       "29             163.946646514987831098  295207.7698447054653156771004847922  \n",
       "30                      275068.789012  275128.7817010708823908177053054361  \n",
       "31             144.383692210190203376  262378.7414691136421676783671892933  \n",
       "32             141.740383635366585659  255884.5081831715751729480217166994  \n",
       "33             135.584889522569013659  244395.5344746080005968642410562708  \n",
       "34             117.292184945805359515  211160.2288236968330212216907907167  \n",
       "35                      209957.190812  209907.6074356897289749202551086153  \n",
       "36             114.950240905266233305  206962.4742935042997756295892629887  \n",
       "37             109.247024137382690753  195889.7028779762507562626441915362  \n",
       "38            4812.836424832155435421  188541.1277829450381931267738673621  \n",
       "39                      182805.140212  182839.8177374157031085069564548097  \n",
       "40              99.612747021701430048  180105.1666667467330620161780996688  \n",
       "41              96.921731491229483868  175295.3810698716444752551155679943  \n",
       "42           16566.521552488930155747  175220.5483793780435738605593329132  \n",
       "43                      172847.507224  172912.2322407528369651810952570057  \n",
       "44              94.662457587815452951  169870.8323037426789500629277238685  \n",
       "45               94.18150666637087389  168856.2511661062512112983432971573  \n",
       "46              92.830825718467465375  168124.0163762535630664537872659459  \n",
       "47              92.497992294085849665   166425.424300564791162929556883296  \n",
       "48                      160724.018251  160789.5569784155895498163480883066  \n",
       "49              87.385311323564152397  157187.8946207021501732196641805131  "
      ]
     },
     "execution_count": 16,
     "metadata": {},
     "output_type": "execute_result"
    }
   ],
   "source": [
    "# Create a dataframe to store the popular pairs by daily volume\n",
    "df_most_volume_pairs = pd.DataFrame.from_dict(most_volume_pairs['data']['pairDayDatas'])\n",
    "df_most_volume_pairs"
   ]
  },
  {
   "cell_type": "code",
   "execution_count": 17,
   "metadata": {
    "colab": {
     "base_uri": "https://localhost:8080/"
    },
    "id": "DAv-4QaS8_4I",
    "outputId": "aa8f5e5a-be38-4ecd-8572-5864638e5eaf"
   },
   "outputs": [
    {
     "name": "stderr",
     "output_type": "stream",
     "text": [
      "100%|███████████████████████████████████████████| 50/50 [00:14<00:00,  3.39it/s]\n"
     ]
    }
   ],
   "source": [
    "# Create a data frame of orders\n",
    "df_top50_pairs_info = pd.DataFrame({'pairAddress': df_most_volume_pairs['pairAddress'], 'dailyVolumeUSD': df_most_volume_pairs['dailyVolumeUSD'], 'token0_symbol': np.nan, 'token0_id': np.nan, 'dailyVolumeToken0': df_most_volume_pairs['dailyVolumeToken0'], 'reserve0': df_most_volume_pairs['reserve0'], 'token1_symbol': np.nan, 'token1_id': np.nan, 'dailyVolumeToken1': df_most_volume_pairs['dailyVolumeToken1'], 'reserve1': df_most_volume_pairs['reserve1'], 'reserveUSD': df_most_volume_pairs['reserveUSD'], 'totalSupply': df_most_volume_pairs['totalSupply'], 'dailyTxns': df_most_volume_pairs['dailyTxns'], }, index=df_most_volume_pairs.index)\n",
    "\n",
    "for index, row in tqdm(df_most_volume_pairs.iterrows(), total=df_most_volume_pairs.shape[0]):\n",
    "  this_id = row['pairAddress']  # Pair address of this row\n",
    "  params_pair_id = {\"id\": this_id}\n",
    "  pair_info_query = \"\"\"\n",
    "    query pair($id: String!) \n",
    "    {\n",
    "      pair(id: $id){\n",
    "      token0 {\n",
    "        id\n",
    "        symbol\n",
    "      }\n",
    "      token1 {\n",
    "        id\n",
    "        symbol\n",
    "      }\n",
    "      }\n",
    "    }\n",
    "  \"\"\"\n",
    "  pair_info = run_query_var(pair_info_query, params_pair_id)\n",
    "  df_top50_pairs_info.loc[index] = [row['pairAddress'], row['dailyVolumeUSD'], pair_info['data']['pair']['token0']['symbol'], pair_info['data']['pair']['token0']['id'], row['dailyVolumeToken0'], row['reserve0'], pair_info['data']['pair']['token1']['symbol'], pair_info['data']['pair']['token0']['id'], row['dailyVolumeToken1'], row['reserve1'], row['reserveUSD'], row['totalSupply'], row['dailyTxns']]"
   ]
  },
  {
   "cell_type": "code",
   "execution_count": 18,
   "metadata": {
    "colab": {
     "base_uri": "https://localhost:8080/",
     "height": 1000
    },
    "id": "NGj5_j6Fk4DF",
    "outputId": "047ba393-cf99-477d-f773-40868f6fb0d5"
   },
   "outputs": [
    {
     "data": {
      "text/html": [
       "<div>\n",
       "<style scoped>\n",
       "    .dataframe tbody tr th:only-of-type {\n",
       "        vertical-align: middle;\n",
       "    }\n",
       "\n",
       "    .dataframe tbody tr th {\n",
       "        vertical-align: top;\n",
       "    }\n",
       "\n",
       "    .dataframe thead th {\n",
       "        text-align: right;\n",
       "    }\n",
       "</style>\n",
       "<table border=\"1\" class=\"dataframe\">\n",
       "  <thead>\n",
       "    <tr style=\"text-align: right;\">\n",
       "      <th></th>\n",
       "      <th>pairAddress</th>\n",
       "      <th>dailyVolumeUSD</th>\n",
       "      <th>token0_symbol</th>\n",
       "      <th>token0_id</th>\n",
       "      <th>dailyVolumeToken0</th>\n",
       "      <th>reserve0</th>\n",
       "      <th>token1_symbol</th>\n",
       "      <th>token1_id</th>\n",
       "      <th>dailyVolumeToken1</th>\n",
       "      <th>reserve1</th>\n",
       "      <th>reserveUSD</th>\n",
       "      <th>totalSupply</th>\n",
       "      <th>dailyTxns</th>\n",
       "    </tr>\n",
       "  </thead>\n",
       "  <tbody>\n",
       "    <tr>\n",
       "      <th>0</th>\n",
       "      <td>0x26b1c843b41ab3ac6146f859d31dcb2031f5992b</td>\n",
       "      <td>18044577.16616131095138411684391161</td>\n",
       "      <td>sILV2</td>\n",
       "      <td>0x7e77dcb127f99ece88230a64db8d595f31f1b068</td>\n",
       "      <td>75.590458431395684271</td>\n",
       "      <td>1.767872165974808497</td>\n",
       "      <td>WETH</td>\n",
       "      <td>0x7e77dcb127f99ece88230a64db8d595f31f1b068</td>\n",
       "      <td>20391.289551617179340048</td>\n",
       "      <td>0.103575127241738334</td>\n",
       "      <td>185.007627282511291050410476253084</td>\n",
       "      <td>0.397489622506046319</td>\n",
       "      <td>66</td>\n",
       "    </tr>\n",
       "    <tr>\n",
       "      <th>1</th>\n",
       "      <td>0x9112d1761124d4ec7aca02014d6e215970f87e33</td>\n",
       "      <td>12330161.8603183632501027905931409</td>\n",
       "      <td>SHIT</td>\n",
       "      <td>0x4e4a47cac6a28a62dcc20990ed2cda9bc659469f</td>\n",
       "      <td>1419137291173.507923209293317101</td>\n",
       "      <td>16350613868.3869050774532976</td>\n",
       "      <td>WETH</td>\n",
       "      <td>0x4e4a47cac6a28a62dcc20990ed2cda9bc659469f</td>\n",
       "      <td>13969.023979241586925419</td>\n",
       "      <td>0.519906171224847849</td>\n",
       "      <td>939.5606044999527414057226528192348</td>\n",
       "      <td>76481.596984279553163924</td>\n",
       "      <td>568</td>\n",
       "    </tr>\n",
       "    <tr>\n",
       "      <th>2</th>\n",
       "      <td>0x7a809081f991ecfe0ab2727c7e90d2ad7c2e411e</td>\n",
       "      <td>9356068.767914834418701521183459145</td>\n",
       "      <td>USDC</td>\n",
       "      <td>0xa0b86991c6218b36c1d19d4a2e9eb0ce3606eb48</td>\n",
       "      <td>9352341.202544</td>\n",
       "      <td>7278284.442263</td>\n",
       "      <td>CAW</td>\n",
       "      <td>0xa0b86991c6218b36c1d19d4a2e9eb0ce3606eb48</td>\n",
       "      <td>70352106872638.631096732439854899</td>\n",
       "      <td>53711361613298.579569450654648315</td>\n",
       "      <td>14562523.79614463010296044124735658</td>\n",
       "      <td>17000.372001445604539439</td>\n",
       "      <td>1130</td>\n",
       "    </tr>\n",
       "    <tr>\n",
       "      <th>3</th>\n",
       "      <td>0xb4e16d0168e52d35cacd2c6185b44281ec28c9dc</td>\n",
       "      <td>7946290.543183526065581561379215337</td>\n",
       "      <td>USDC</td>\n",
       "      <td>0xa0b86991c6218b36c1d19d4a2e9eb0ce3606eb48</td>\n",
       "      <td>7944060.293021</td>\n",
       "      <td>79053219.45668</td>\n",
       "      <td>WETH</td>\n",
       "      <td>0xa0b86991c6218b36c1d19d4a2e9eb0ce3606eb48</td>\n",
       "      <td>4416.753923820066502526</td>\n",
       "      <td>43762.070870754729340122</td>\n",
       "      <td>158171118.2947124454132655087211276</td>\n",
       "      <td>0.949291097224270471</td>\n",
       "      <td>2352</td>\n",
       "    </tr>\n",
       "    <tr>\n",
       "      <th>4</th>\n",
       "      <td>0x0d4a11d5eeaac28ec3f61d100daf4d40471f1852</td>\n",
       "      <td>3567514.616175831645067170006679848</td>\n",
       "      <td>WETH</td>\n",
       "      <td>0xc02aaa39b223fe8d0a0e5c4f27ead9083c756cc2</td>\n",
       "      <td>1985.069246836202839412</td>\n",
       "      <td>17150.6216251843007197</td>\n",
       "      <td>USDT</td>\n",
       "      <td>0xc02aaa39b223fe8d0a0e5c4f27ead9083c756cc2</td>\n",
       "      <td>3568632.914985</td>\n",
       "      <td>31025675.01265</td>\n",
       "      <td>61986741.93124518014117041922362383</td>\n",
       "      <td>0.358735792422925442</td>\n",
       "      <td>988</td>\n",
       "    </tr>\n",
       "    <tr>\n",
       "      <th>5</th>\n",
       "      <td>0x6033368e4a402605294c91cf5c03d72bd96e7d8d</td>\n",
       "      <td>3406788.640697228554984176713442879</td>\n",
       "      <td>X2Y2</td>\n",
       "      <td>0x1e4ede388cbc9f4b5c79681b7f94d36a11abebc9</td>\n",
       "      <td>13267781.010060489687022394</td>\n",
       "      <td>12923069.47957958366364951</td>\n",
       "      <td>WETH</td>\n",
       "      <td>0x1e4ede388cbc9f4b5c79681b7f94d36a11abebc9</td>\n",
       "      <td>1890.06115884505521772</td>\n",
       "      <td>1700.778808333284489473</td>\n",
       "      <td>6150046.731936887471116457848148126</td>\n",
       "      <td>122495.841175114799947429</td>\n",
       "      <td>339</td>\n",
       "    </tr>\n",
       "    <tr>\n",
       "      <th>6</th>\n",
       "      <td>0x5fc5b2a2a84e577e8eb3ddd00d6b18cdfc976645</td>\n",
       "      <td>2117245.547362322563131098884959673</td>\n",
       "      <td>WETH</td>\n",
       "      <td>0xc02aaa39b223fe8d0a0e5c4f27ead9083c756cc2</td>\n",
       "      <td>2370.283509828503112744</td>\n",
       "      <td>1.405332611560299561</td>\n",
       "      <td>GIZA</td>\n",
       "      <td>0xc02aaa39b223fe8d0a0e5c4f27ead9083c756cc2</td>\n",
       "      <td>29395.18460405</td>\n",
       "      <td>4879.509395835</td>\n",
       "      <td>2540.637390630996495380319988943423</td>\n",
       "      <td>0.000000001693876534</td>\n",
       "      <td>52</td>\n",
       "    </tr>\n",
       "    <tr>\n",
       "      <th>7</th>\n",
       "      <td>0xc9919a9eb691f571e41db417f911135b4ac46fe7</td>\n",
       "      <td>2068207.090312683960461532632688075</td>\n",
       "      <td>LSS</td>\n",
       "      <td>0x3b9be07d622accaed78f479bc0edabfd6397e320</td>\n",
       "      <td>39890.453065187663700397</td>\n",
       "      <td>19492.596085670694340666</td>\n",
       "      <td>WETH</td>\n",
       "      <td>0x3b9be07d622accaed78f479bc0edabfd6397e320</td>\n",
       "      <td>2315.4491801142244733</td>\n",
       "      <td>1.743545235299297085</td>\n",
       "      <td>6230.195069012601572355339755270908</td>\n",
       "      <td>134.786530428602600527</td>\n",
       "      <td>5</td>\n",
       "    </tr>\n",
       "    <tr>\n",
       "      <th>8</th>\n",
       "      <td>0x55d5c232d921b9eaa6b37b5845e439acd04b4dba</td>\n",
       "      <td>1656077.459784708517237385640827616</td>\n",
       "      <td>HEX</td>\n",
       "      <td>0x2b591e99afe9f32eaa6214f7b7629768c40eeb39</td>\n",
       "      <td>31687521.75123634</td>\n",
       "      <td>9561300.85832576</td>\n",
       "      <td>WETH</td>\n",
       "      <td>0x2b591e99afe9f32eaa6214f7b7629768c40eeb39</td>\n",
       "      <td>921.849962520731810018</td>\n",
       "      <td>262.860789083706771544</td>\n",
       "      <td>950046.2579647230507226365979986013</td>\n",
       "      <td>0.141939588833336829</td>\n",
       "      <td>1084</td>\n",
       "    </tr>\n",
       "    <tr>\n",
       "      <th>9</th>\n",
       "      <td>0x5281e311734869c64ca60ef047fd87759397efe6</td>\n",
       "      <td>1242412.424525914084718022581442596</td>\n",
       "      <td>WETH</td>\n",
       "      <td>0xc02aaa39b223fe8d0a0e5c4f27ead9083c756cc2</td>\n",
       "      <td>693.44156563152035369</td>\n",
       "      <td>1590.131078037393753415</td>\n",
       "      <td>CULT</td>\n",
       "      <td>0xc02aaa39b223fe8d0a0e5c4f27ead9083c756cc2</td>\n",
       "      <td>84402864787.057603459657130526</td>\n",
       "      <td>194274555743.182871721195811459</td>\n",
       "      <td>5747440.852724872320382470833962709</td>\n",
       "      <td>13027895.889162734975983901</td>\n",
       "      <td>354</td>\n",
       "    </tr>\n",
       "    <tr>\n",
       "      <th>10</th>\n",
       "      <td>0xf6dcdce0ac3001b2f67f750bc64ea5beb37b5824</td>\n",
       "      <td>1141946.302832015773314469740411698</td>\n",
       "      <td>HEX</td>\n",
       "      <td>0x2b591e99afe9f32eaa6214f7b7629768c40eeb39</td>\n",
       "      <td>21761174.39386819</td>\n",
       "      <td>6580678.00712234</td>\n",
       "      <td>USDC</td>\n",
       "      <td>0x2b591e99afe9f32eaa6214f7b7629768c40eeb39</td>\n",
       "      <td>1141723.997216</td>\n",
       "      <td>328934.681051</td>\n",
       "      <td>658294.8540617761718797970861978751</td>\n",
       "      <td>0.000007647112982819</td>\n",
       "      <td>283</td>\n",
       "    </tr>\n",
       "    <tr>\n",
       "      <th>11</th>\n",
       "      <td>0x9cbfb60a09a9a33a10312da0f39977cbdb7fde23</td>\n",
       "      <td>1127677.624600125186797023647220326</td>\n",
       "      <td>SAITAMA</td>\n",
       "      <td>0x8b3192f5eebd8579568a2ed41e6feb402f93f73f</td>\n",
       "      <td>205004098504744.69545259</td>\n",
       "      <td>621396432191831.238906482</td>\n",
       "      <td>WETH</td>\n",
       "      <td>0x8b3192f5eebd8579568a2ed41e6feb402f93f73f</td>\n",
       "      <td>625.000632860529770145</td>\n",
       "      <td>1971.111819425798635669</td>\n",
       "      <td>7124074.173003478151163110000239229</td>\n",
       "      <td>14313.458893646941440285</td>\n",
       "      <td>849</td>\n",
       "    </tr>\n",
       "    <tr>\n",
       "      <th>12</th>\n",
       "      <td>0x7ba9b94127d434182287de708643932ec036d365</td>\n",
       "      <td>1020903.380253957921149317802689005</td>\n",
       "      <td>eRSDL</td>\n",
       "      <td>0x5218e472cfcfe0b64a064f055b43b4cdc9efd3a6</td>\n",
       "      <td>50451718.885052442779591628</td>\n",
       "      <td>12265921.026925799452795658</td>\n",
       "      <td>WETH</td>\n",
       "      <td>0x5218e472cfcfe0b64a064f055b43b4cdc9efd3a6</td>\n",
       "      <td>568.469556179638284252</td>\n",
       "      <td>114.678912348143895411</td>\n",
       "      <td>414488.9827418657326611333329020109</td>\n",
       "      <td>21179.822885938282064551</td>\n",
       "      <td>466</td>\n",
       "    </tr>\n",
       "    <tr>\n",
       "      <th>13</th>\n",
       "      <td>0x8c1c499b1796d7f3c2521ac37186b52de024e58c</td>\n",
       "      <td>1000414.578905017001373359548662319</td>\n",
       "      <td>RAD</td>\n",
       "      <td>0x31c8eacbffdd875c74b94b077895bd78cf1e64a3</td>\n",
       "      <td>452539.384559022218196543</td>\n",
       "      <td>939931.639182685426251764</td>\n",
       "      <td>USDC</td>\n",
       "      <td>0x31c8eacbffdd875c74b94b077895bd78cf1e64a3</td>\n",
       "      <td>1000185.20555</td>\n",
       "      <td>1995580.757769</td>\n",
       "      <td>4117252.487900125806857966340931903</td>\n",
       "      <td>1.198797283990609674</td>\n",
       "      <td>165</td>\n",
       "    </tr>\n",
       "    <tr>\n",
       "      <th>14</th>\n",
       "      <td>0xdd39323c337c33d0285c1d4228a1a46a8502c79f</td>\n",
       "      <td>972807.8660929728883561858897073178</td>\n",
       "      <td>HATI</td>\n",
       "      <td>0x251457b7c5d85251ca1ab384361c821330be2520</td>\n",
       "      <td>92419897650656.793742528860750703</td>\n",
       "      <td>66440650727706.597227107208443003</td>\n",
       "      <td>USDC</td>\n",
       "      <td>0x251457b7c5d85251ca1ab384361c821330be2520</td>\n",
       "      <td>972386.174524</td>\n",
       "      <td>729831.256612</td>\n",
       "      <td>1460602.248501550373469062332659775</td>\n",
       "      <td>6454.97224367901523102</td>\n",
       "      <td>372</td>\n",
       "    </tr>\n",
       "    <tr>\n",
       "      <th>15</th>\n",
       "      <td>0x811beed0119b4afce20d2583eb608c6f7af1954f</td>\n",
       "      <td>938455.3880912685442083272437158236</td>\n",
       "      <td>SHIB</td>\n",
       "      <td>0x95ad61b0a150d79219dcf64e1e6cc01f0b64c4ce</td>\n",
       "      <td>84646754467.221376030947367188</td>\n",
       "      <td>137381972568.773146419202652462</td>\n",
       "      <td>WETH</td>\n",
       "      <td>0x95ad61b0a150d79219dcf64e1e6cc01f0b64c4ce</td>\n",
       "      <td>520.441181634235465487</td>\n",
       "      <td>822.136772437380008014</td>\n",
       "      <td>2971496.62124627629670831423373769</td>\n",
       "      <td>1125625.850366704550157845</td>\n",
       "      <td>189</td>\n",
       "    </tr>\n",
       "    <tr>\n",
       "      <th>16</th>\n",
       "      <td>0x8ef79d6c328c25da633559c20c75f638a4863462</td>\n",
       "      <td>923244.5849077709315492435114446155</td>\n",
       "      <td>QOM</td>\n",
       "      <td>0xa71d0588eaf47f12b13cf8ec750430d21df04974</td>\n",
       "      <td>9561915390847.339276168274858309</td>\n",
       "      <td>21725602182353.934683799217710177</td>\n",
       "      <td>WETH</td>\n",
       "      <td>0xa71d0588eaf47f12b13cf8ec750430d21df04974</td>\n",
       "      <td>515.441684534327388364</td>\n",
       "      <td>1137.136209677640706871</td>\n",
       "      <td>4111702.928814411972202289726909645</td>\n",
       "      <td>139647708.508189323870899468</td>\n",
       "      <td>177</td>\n",
       "    </tr>\n",
       "    <tr>\n",
       "      <th>17</th>\n",
       "      <td>0xa478c2975ab1ea89e8196811f51a7b7ade33eb11</td>\n",
       "      <td>794589.9530639120679491447181043045</td>\n",
       "      <td>DAI</td>\n",
       "      <td>0x6b175474e89094c44da98b954eedeac495271d0f</td>\n",
       "      <td>794092.120520714100584656</td>\n",
       "      <td>8591150.320398136877379623</td>\n",
       "      <td>WETH</td>\n",
       "      <td>0x6b175474e89094c44da98b954eedeac495271d0f</td>\n",
       "      <td>441.181810416300041517</td>\n",
       "      <td>4755.060737156789330057</td>\n",
       "      <td>17192573.26610398253434779770749409</td>\n",
       "      <td>120489.530322838968077415</td>\n",
       "      <td>318</td>\n",
       "    </tr>\n",
       "    <tr>\n",
       "      <th>18</th>\n",
       "      <td>0x5449bd1a97296125252db2d9cf23d5d6e30ca3c1</td>\n",
       "      <td>717412.5609100488321279566232410223</td>\n",
       "      <td>RND</td>\n",
       "      <td>0x1c7e83f8c581a967940dbfa7984744646ae46b29</td>\n",
       "      <td>47353916932.972929711078731104</td>\n",
       "      <td>19890659431.580916082411827834</td>\n",
       "      <td>WETH</td>\n",
       "      <td>0x1c7e83f8c581a967940dbfa7984744646ae46b29</td>\n",
       "      <td>800.698544354827209003</td>\n",
       "      <td>1.220377361665848388</td>\n",
       "      <td>4442.016832213092521660059518703806</td>\n",
       "      <td>54507.190418790743185676</td>\n",
       "      <td>10</td>\n",
       "    </tr>\n",
       "    <tr>\n",
       "      <th>19</th>\n",
       "      <td>0x3041cbd36888becc7bbcbc0045e3b1f144466f5f</td>\n",
       "      <td>706022.1662539794276232565442365313</td>\n",
       "      <td>USDC</td>\n",
       "      <td>0xa0b86991c6218b36c1d19d4a2e9eb0ce3606eb48</td>\n",
       "      <td>705256.279543</td>\n",
       "      <td>9106086.793727</td>\n",
       "      <td>USDT</td>\n",
       "      <td>0xa0b86991c6218b36c1d19d4a2e9eb0ce3606eb48</td>\n",
       "      <td>707349.331073</td>\n",
       "      <td>9132369.990284</td>\n",
       "      <td>18232737.66482572193503387894012748</td>\n",
       "      <td>0.000007420131494547</td>\n",
       "      <td>295</td>\n",
       "    </tr>\n",
       "    <tr>\n",
       "      <th>20</th>\n",
       "      <td>0x9af0f334f9f451ce9e650278e56fec212f35cec1</td>\n",
       "      <td>662910.1840669022149382039863127992</td>\n",
       "      <td>KOO</td>\n",
       "      <td>0x5e9f7e92e742f73b990dca63c88325ed24666e84</td>\n",
       "      <td>265201762695055.421318903211127996</td>\n",
       "      <td>536616583937593.558487380650563307</td>\n",
       "      <td>WETH</td>\n",
       "      <td>0x5e9f7e92e742f73b990dca63c88325ed24666e84</td>\n",
       "      <td>369.855778710977314265</td>\n",
       "      <td>653.86451536340931939</td>\n",
       "      <td>2366934.978902323035295376884397494</td>\n",
       "      <td>566951006.881031847765641544</td>\n",
       "      <td>172</td>\n",
       "    </tr>\n",
       "    <tr>\n",
       "      <th>21</th>\n",
       "      <td>0xccb63225a7b19dcf66717e4d40c9a72b39331d61</td>\n",
       "      <td>521788.9388986266222824195211770962</td>\n",
       "      <td>MC</td>\n",
       "      <td>0x949d48eca67b17269629c7194f4b727d4ef9e5d6</td>\n",
       "      <td>509919.986530725327347912</td>\n",
       "      <td>13766263.614604763922039235</td>\n",
       "      <td>WETH</td>\n",
       "      <td>0x949d48eca67b17269629c7194f4b727d4ef9e5d6</td>\n",
       "      <td>287.275517169842785181</td>\n",
       "      <td>7943.210870859215357369</td>\n",
       "      <td>28785339.38354955009593616336191422</td>\n",
       "      <td>291284.195794547355478078</td>\n",
       "      <td>36</td>\n",
       "    </tr>\n",
       "    <tr>\n",
       "      <th>22</th>\n",
       "      <td>0xec54859519293b8784bc5bf28144166f313618af</td>\n",
       "      <td>475123.3572190850248976189100219231</td>\n",
       "      <td>DAI</td>\n",
       "      <td>0x6b175474e89094c44da98b954eedeac495271d0f</td>\n",
       "      <td>474309.102551927143326741</td>\n",
       "      <td>1924354.109783361057458964</td>\n",
       "      <td>O</td>\n",
       "      <td>0x6b175474e89094c44da98b954eedeac495271d0f</td>\n",
       "      <td>14131364602.649493153802788569</td>\n",
       "      <td>58295701886.65165421900029295</td>\n",
       "      <td>3839822.27940769797571362708996319</td>\n",
       "      <td>325808749.640185294185952083</td>\n",
       "      <td>139</td>\n",
       "    </tr>\n",
       "    <tr>\n",
       "      <th>23</th>\n",
       "      <td>0x25647e01bd0967c1b9599fa3521939871d1d0888</td>\n",
       "      <td>457092.6792283447659923741637482616</td>\n",
       "      <td>WETH</td>\n",
       "      <td>0xc02aaa39b223fe8d0a0e5c4f27ead9083c756cc2</td>\n",
       "      <td>255.006873482091398925</td>\n",
       "      <td>2284.890572088574137991</td>\n",
       "      <td>SUPER</td>\n",
       "      <td>0xc02aaa39b223fe8d0a0e5c4f27ead9083c756cc2</td>\n",
       "      <td>2236795.737443610251705446</td>\n",
       "      <td>20407126.311975629489047856</td>\n",
       "      <td>8291338.796641625957808056278246011</td>\n",
       "      <td>121731.08924170948409475</td>\n",
       "      <td>84</td>\n",
       "    </tr>\n",
       "    <tr>\n",
       "      <th>24</th>\n",
       "      <td>0xfe903a12359496b932e24c5e9b78f1b9060a6342</td>\n",
       "      <td>401132.014982953442539759006945614</td>\n",
       "      <td>PKF</td>\n",
       "      <td>0x8b39b70e39aa811b69365398e0aace9bee238aeb</td>\n",
       "      <td>2279121.040471189378786016</td>\n",
       "      <td>5647121.410417897889275038</td>\n",
       "      <td>WETH</td>\n",
       "      <td>0x8b39b70e39aa811b69365398e0aace9bee238aeb</td>\n",
       "      <td>223.705435118572743245</td>\n",
       "      <td>513.685997006544624288</td>\n",
       "      <td>1860850.392284447274426869340175987</td>\n",
       "      <td>39649.700799300767846856</td>\n",
       "      <td>81</td>\n",
       "    </tr>\n",
       "    <tr>\n",
       "      <th>25</th>\n",
       "      <td>0x80b4d4e9d88d9f78198c56c5a27f3bacb9a685c5</td>\n",
       "      <td>355723.2199580434919554878277184594</td>\n",
       "      <td>WETH</td>\n",
       "      <td>0xc02aaa39b223fe8d0a0e5c4f27ead9083c756cc2</td>\n",
       "      <td>197.558150497802706864</td>\n",
       "      <td>198.708552432583439</td>\n",
       "      <td>TRU</td>\n",
       "      <td>0xc02aaa39b223fe8d0a0e5c4f27ead9083c756cc2</td>\n",
       "      <td>1104909.804949734328581674</td>\n",
       "      <td>1137251.373527926393614571</td>\n",
       "      <td>720076.0464424662924287152377555322</td>\n",
       "      <td>4183.981538330340248622</td>\n",
       "      <td>129</td>\n",
       "    </tr>\n",
       "    <tr>\n",
       "      <th>26</th>\n",
       "      <td>0xd3d2e2692501a5c9ca623199d38826e513033a17</td>\n",
       "      <td>330669.6431795926209296191489907534</td>\n",
       "      <td>UNI</td>\n",
       "      <td>0x1f9840a85d5af5bf1d1762f925bdaddc4201f984</td>\n",
       "      <td>65274.41043465587675697</td>\n",
       "      <td>2059475.388957455041170434</td>\n",
       "      <td>WETH</td>\n",
       "      <td>0x1f9840a85d5af5bf1d1762f925bdaddc4201f984</td>\n",
       "      <td>183.497196130439292747</td>\n",
       "      <td>5808.820902665764206961</td>\n",
       "      <td>21051234.21344266850172887786952301</td>\n",
       "      <td>50333.469152680636372157</td>\n",
       "      <td>54</td>\n",
       "    </tr>\n",
       "    <tr>\n",
       "      <th>27</th>\n",
       "      <td>0xc5be99a02c6857f9eac67bbce58df5572498f40c</td>\n",
       "      <td>326027.5825562088718791411121399064</td>\n",
       "      <td>WETH</td>\n",
       "      <td>0xc02aaa39b223fe8d0a0e5c4f27ead9083c756cc2</td>\n",
       "      <td>179.590396793646258473</td>\n",
       "      <td>1155.658011005733238112</td>\n",
       "      <td>AMPL</td>\n",
       "      <td>0xc02aaa39b223fe8d0a0e5c4f27ead9083c756cc2</td>\n",
       "      <td>309542.351765391</td>\n",
       "      <td>2009608.963082036</td>\n",
       "      <td>4185594.101355138079295993726453647</td>\n",
       "      <td>0.590203775593088159</td>\n",
       "      <td>35</td>\n",
       "    </tr>\n",
       "    <tr>\n",
       "      <th>28</th>\n",
       "      <td>0x97e1fcb93ae7267dbafad23f7b9afaa08264cfd8</td>\n",
       "      <td>309920.7920643432177160316935834347</td>\n",
       "      <td>UFO</td>\n",
       "      <td>0x249e38ea4102d0cf8264d3701f1a0e39c4f2dc3b</td>\n",
       "      <td>175333730486.137895991584185493</td>\n",
       "      <td>1320884908191.363025577282367675</td>\n",
       "      <td>WETH</td>\n",
       "      <td>0x249e38ea4102d0cf8264d3701f1a0e39c4f2dc3b</td>\n",
       "      <td>172.333179235231648018</td>\n",
       "      <td>1283.352551768714664088</td>\n",
       "      <td>4638549.031785302139046530126469253</td>\n",
       "      <td>30089863.56945984556809423</td>\n",
       "      <td>86</td>\n",
       "    </tr>\n",
       "    <tr>\n",
       "      <th>29</th>\n",
       "      <td>0x4d5ef58aac27d99935e5b6b4a6778ff292059991</td>\n",
       "      <td>295207.7698447054653156771004847922</td>\n",
       "      <td>DPI</td>\n",
       "      <td>0x1494ca1f11d487c2bbe4543e90080aeba4ba3c2b</td>\n",
       "      <td>3176.699729313654723961</td>\n",
       "      <td>10186.768546395581616137</td>\n",
       "      <td>WETH</td>\n",
       "      <td>0x1494ca1f11d487c2bbe4543e90080aeba4ba3c2b</td>\n",
       "      <td>163.946646514987831098</td>\n",
       "      <td>523.973942204222378448</td>\n",
       "      <td>1893819.372541258790365693020749</td>\n",
       "      <td>1961.016490314040703401</td>\n",
       "      <td>92</td>\n",
       "    </tr>\n",
       "    <tr>\n",
       "      <th>30</th>\n",
       "      <td>0x6591c4bcd6d7a1eb4e537da8b78676c1576ba244</td>\n",
       "      <td>275128.7817010708823908177053054361</td>\n",
       "      <td>BOND</td>\n",
       "      <td>0x0391d2021f89dc339f60fff84546ea23e337750f</td>\n",
       "      <td>76619.54822631853021057</td>\n",
       "      <td>896042.514845790218472498</td>\n",
       "      <td>USDC</td>\n",
       "      <td>0x0391d2021f89dc339f60fff84546ea23e337750f</td>\n",
       "      <td>275068.789012</td>\n",
       "      <td>3159246.500619</td>\n",
       "      <td>6310794.011512777604533924737375742</td>\n",
       "      <td>1.387052280056787128</td>\n",
       "      <td>38</td>\n",
       "    </tr>\n",
       "    <tr>\n",
       "      <th>31</th>\n",
       "      <td>0x4a7d4be868e0b811ea804faf0d3a325c3a29a9ad</td>\n",
       "      <td>262378.7414691136421676783671892933</td>\n",
       "      <td>REQ</td>\n",
       "      <td>0x8f8221afbb33998d8584a2b05749ba73c37a938a</td>\n",
       "      <td>2032287.659868379420015882</td>\n",
       "      <td>5640884.275107329944359084</td>\n",
       "      <td>WETH</td>\n",
       "      <td>0x8f8221afbb33998d8584a2b05749ba73c37a938a</td>\n",
       "      <td>144.383692210190203376</td>\n",
       "      <td>382.491227003902476866</td>\n",
       "      <td>1382949.410618594943300222064139593</td>\n",
       "      <td>32637.643933661235050835</td>\n",
       "      <td>53</td>\n",
       "    </tr>\n",
       "    <tr>\n",
       "      <th>32</th>\n",
       "      <td>0x271544af1f703ac3deb3f12790de83b3b987aa2b</td>\n",
       "      <td>255884.5081831715751729480217166994</td>\n",
       "      <td>FWT</td>\n",
       "      <td>0x4a7397b0b86bb0f9482a3f4f16de942f04e88702</td>\n",
       "      <td>16717057.462484383845161707</td>\n",
       "      <td>42038340.798716851511800564</td>\n",
       "      <td>WETH</td>\n",
       "      <td>0x4a7397b0b86bb0f9482a3f4f16de942f04e88702</td>\n",
       "      <td>141.740383635366585659</td>\n",
       "      <td>362.978959426626748939</td>\n",
       "      <td>1312511.089020321668621330165401321</td>\n",
       "      <td>117479.597850185334658016</td>\n",
       "      <td>62</td>\n",
       "    </tr>\n",
       "    <tr>\n",
       "      <th>33</th>\n",
       "      <td>0x4028daac072e492d34a3afdbef0ba7e35d8b55c4</td>\n",
       "      <td>244395.5344746080005968642410562708</td>\n",
       "      <td>stETH</td>\n",
       "      <td>0xae7ab96520de3a18e5e111b5eaab095312d7fe84</td>\n",
       "      <td>140.586508671714227945</td>\n",
       "      <td>985.272383536476294022</td>\n",
       "      <td>WETH</td>\n",
       "      <td>0xae7ab96520de3a18e5e111b5eaab095312d7fe84</td>\n",
       "      <td>135.584889522569013659</td>\n",
       "      <td>960.81590363530080552</td>\n",
       "      <td>3472772.679174635800967311890497636</td>\n",
       "      <td>797.237011389308801073</td>\n",
       "      <td>81</td>\n",
       "    </tr>\n",
       "    <tr>\n",
       "      <th>34</th>\n",
       "      <td>0xb05e19a28e4d13eeae507eaf6572e3a1c5d8f774</td>\n",
       "      <td>211160.2288236968330212216907907167</td>\n",
       "      <td>OP</td>\n",
       "      <td>0x2eecb20df51dc76d05afcf1270c73a2ff1035388</td>\n",
       "      <td>770596.770739135111604134</td>\n",
       "      <td>2422196.153584783441388664</td>\n",
       "      <td>WETH</td>\n",
       "      <td>0x2eecb20df51dc76d05afcf1270c73a2ff1035388</td>\n",
       "      <td>117.292184945805359515</td>\n",
       "      <td>436.9729765425902778</td>\n",
       "      <td>1579373.080354244397046357129373731</td>\n",
       "      <td>32482.71776075702653633</td>\n",
       "      <td>50</td>\n",
       "    </tr>\n",
       "    <tr>\n",
       "      <th>35</th>\n",
       "      <td>0xae461ca67b15dc8dc81ce7615e0320da1a9ab8d5</td>\n",
       "      <td>209907.6074356897289749202551086153</td>\n",
       "      <td>DAI</td>\n",
       "      <td>0x6b175474e89094c44da98b954eedeac495271d0f</td>\n",
       "      <td>209577.482992202191225354</td>\n",
       "      <td>53460420.712851634524630025</td>\n",
       "      <td>USDC</td>\n",
       "      <td>0x6b175474e89094c44da98b954eedeac495271d0f</td>\n",
       "      <td>209957.190812</td>\n",
       "      <td>53532203.731937</td>\n",
       "      <td>107058916.9739061487748686360449841</td>\n",
       "      <td>47.521747670730748577</td>\n",
       "      <td>87</td>\n",
       "    </tr>\n",
       "    <tr>\n",
       "      <th>36</th>\n",
       "      <td>0x9c4fe5ffd9a9fc5678cfbd93aa2d4fd684b67c4c</td>\n",
       "      <td>206962.4742935042997756295892629887</td>\n",
       "      <td>PAXG</td>\n",
       "      <td>0x45804880de22913dafe09f4980848ece6ecbaf78</td>\n",
       "      <td>111.298581479856248207</td>\n",
       "      <td>5949.904126067210573583</td>\n",
       "      <td>WETH</td>\n",
       "      <td>0x45804880de22913dafe09f4980848ece6ecbaf78</td>\n",
       "      <td>114.950240905266233305</td>\n",
       "      <td>6106.234746650059278863</td>\n",
       "      <td>22127990.35451998785660842686616232</td>\n",
       "      <td>4896.098444029230301699</td>\n",
       "      <td>33</td>\n",
       "    </tr>\n",
       "    <tr>\n",
       "      <th>37</th>\n",
       "      <td>0xb8a1a865e4405281311c5bc0f90c240498472d3e</td>\n",
       "      <td>195889.7028779762507562626441915362</td>\n",
       "      <td>NOIA</td>\n",
       "      <td>0xa8c8cfb141a3bb59fea1e2ea6b79b5ecbcd7b6ca</td>\n",
       "      <td>2331481.500806029249536184</td>\n",
       "      <td>6010695.810669730844153646</td>\n",
       "      <td>WETH</td>\n",
       "      <td>0xa8c8cfb141a3bb59fea1e2ea6b79b5ecbcd7b6ca</td>\n",
       "      <td>109.247024137382690753</td>\n",
       "      <td>278.97623280714663192</td>\n",
       "      <td>1012298.73448035192370141768706705</td>\n",
       "      <td>26810.259894858269386327</td>\n",
       "      <td>59</td>\n",
       "    </tr>\n",
       "    <tr>\n",
       "      <th>38</th>\n",
       "      <td>0x70ec2fa6eccf4010eaf572d1c1a7bcbc72dec983</td>\n",
       "      <td>188541.1277829450381931267738673621</td>\n",
       "      <td>WETH</td>\n",
       "      <td>0xc02aaa39b223fe8d0a0e5c4f27ead9083c756cc2</td>\n",
       "      <td>105.160871954260061968</td>\n",
       "      <td>423.216870970266691826</td>\n",
       "      <td>ROOK</td>\n",
       "      <td>0xc02aaa39b223fe8d0a0e5c4f27ead9083c756cc2</td>\n",
       "      <td>4812.836424832155435421</td>\n",
       "      <td>19153.541049848769732509</td>\n",
       "      <td>1533505.111369502821816661518875461</td>\n",
       "      <td>1480.452162741184050422</td>\n",
       "      <td>46</td>\n",
       "    </tr>\n",
       "    <tr>\n",
       "      <th>39</th>\n",
       "      <td>0x3fa5db0910afc2a1e6de45039ea217410fb8641d</td>\n",
       "      <td>182839.8177374157031085069564548097</td>\n",
       "      <td>XCAD</td>\n",
       "      <td>0x7659ce147d0e714454073a5dd7003544234b6aa0</td>\n",
       "      <td>45425.990656548471140635</td>\n",
       "      <td>324353.613947102794474884</td>\n",
       "      <td>USDC</td>\n",
       "      <td>0x7659ce147d0e714454073a5dd7003544234b6aa0</td>\n",
       "      <td>182805.140212</td>\n",
       "      <td>1272249.866925</td>\n",
       "      <td>2541372.574477516575657935596549619</td>\n",
       "      <td>0.028208416759788805</td>\n",
       "      <td>23</td>\n",
       "    </tr>\n",
       "    <tr>\n",
       "      <th>40</th>\n",
       "      <td>0xa5e9c917b4b821e4e0a5bbefce078ab6540d6b5e</td>\n",
       "      <td>180105.1666667467330620161780996688</td>\n",
       "      <td>STARL</td>\n",
       "      <td>0x8e6cd950ad6ba651f6dd608dc70e5886b1aa6b24</td>\n",
       "      <td>39593019392.965130448671374565</td>\n",
       "      <td>510046919467.405569536019879768</td>\n",
       "      <td>WETH</td>\n",
       "      <td>0x8e6cd950ad6ba651f6dd608dc70e5886b1aa6b24</td>\n",
       "      <td>99.612747021701430048</td>\n",
       "      <td>1291.093841262717008912</td>\n",
       "      <td>4666508.245445877740434443746916002</td>\n",
       "      <td>12281269.04080623701388428</td>\n",
       "      <td>51</td>\n",
       "    </tr>\n",
       "    <tr>\n",
       "      <th>41</th>\n",
       "      <td>0x6ada49aeccf6e556bb7a35ef0119cc8ca795294a</td>\n",
       "      <td>175295.3810698716444752551155679943</td>\n",
       "      <td>WOO</td>\n",
       "      <td>0x4691937a7508860f876c9c0a2a617e7d9e945d4b</td>\n",
       "      <td>1082770.173670394274701724</td>\n",
       "      <td>11204988.319447557520921235</td>\n",
       "      <td>WETH</td>\n",
       "      <td>0x4691937a7508860f876c9c0a2a617e7d9e945d4b</td>\n",
       "      <td>96.921731491229483868</td>\n",
       "      <td>991.566156808712220401</td>\n",
       "      <td>3589386.738844315786306397829727972</td>\n",
       "      <td>56662.652051908738153066</td>\n",
       "      <td>45</td>\n",
       "    </tr>\n",
       "    <tr>\n",
       "      <th>42</th>\n",
       "      <td>0x453a43e2bf3080f7a23c9bb034ccdd869e306102</td>\n",
       "      <td>175220.5483793780435738605593329132</td>\n",
       "      <td>WETH</td>\n",
       "      <td>0xc02aaa39b223fe8d0a0e5c4f27ead9083c756cc2</td>\n",
       "      <td>97.60687621322496461</td>\n",
       "      <td>302.982886155483129977</td>\n",
       "      <td>STRNGR</td>\n",
       "      <td>0xc02aaa39b223fe8d0a0e5c4f27ead9083c756cc2</td>\n",
       "      <td>16566.521552488930155747</td>\n",
       "      <td>53799.931550808911382281</td>\n",
       "      <td>1095101.241889542410846527700628125</td>\n",
       "      <td>3549.575537270693627411</td>\n",
       "      <td>437</td>\n",
       "    </tr>\n",
       "    <tr>\n",
       "      <th>43</th>\n",
       "      <td>0x11181bd3baf5ce2a478e98361985d42625de35d1</td>\n",
       "      <td>172912.2322407528369651810952570057</td>\n",
       "      <td>ASTO</td>\n",
       "      <td>0x823556202e86763853b40e9cde725f412e294689</td>\n",
       "      <td>810146.159944736539325196</td>\n",
       "      <td>35049366.252223707538622867</td>\n",
       "      <td>USDC</td>\n",
       "      <td>0x823556202e86763853b40e9cde725f412e294689</td>\n",
       "      <td>172847.507224</td>\n",
       "      <td>7457796.83135</td>\n",
       "      <td>14929002.28126741251075667691783659</td>\n",
       "      <td>15.879723038799099906</td>\n",
       "      <td>33</td>\n",
       "    </tr>\n",
       "    <tr>\n",
       "      <th>44</th>\n",
       "      <td>0x1037fa1f40b69c9266c4aeb2abcedc7553614b4c</td>\n",
       "      <td>169870.8323037426789500629277238685</td>\n",
       "      <td>GLCH</td>\n",
       "      <td>0x038a68ff68c393373ec894015816e33ad41bd564</td>\n",
       "      <td>1200983.066288076153094606</td>\n",
       "      <td>2350863.342554866356863441</td>\n",
       "      <td>WETH</td>\n",
       "      <td>0x038a68ff68c393373ec894015816e33ad41bd564</td>\n",
       "      <td>94.662457587815452951</td>\n",
       "      <td>174.442897585919112401</td>\n",
       "      <td>631468.5410728325434044197947467048</td>\n",
       "      <td>6928.614924328693002263</td>\n",
       "      <td>71</td>\n",
       "    </tr>\n",
       "    <tr>\n",
       "      <th>45</th>\n",
       "      <td>0xf66369997ae562bc9eec2ab9541581252f9ca383</td>\n",
       "      <td>168856.2511661062512112983432971573</td>\n",
       "      <td>PERP</td>\n",
       "      <td>0xbc396689893d065f41bc2c6ecbee5e0085233447</td>\n",
       "      <td>133049.071918208033822172</td>\n",
       "      <td>905377.131401824085082571</td>\n",
       "      <td>WETH</td>\n",
       "      <td>0xbc396689893d065f41bc2c6ecbee5e0085233447</td>\n",
       "      <td>94.18150666637087389</td>\n",
       "      <td>602.304388703290434552</td>\n",
       "      <td>2191524.841947554557436803318265626</td>\n",
       "      <td>17039.817924603670964262</td>\n",
       "      <td>45</td>\n",
       "    </tr>\n",
       "    <tr>\n",
       "      <th>46</th>\n",
       "      <td>0xcf4236db746dbc1855a4d095aaf58da9b030491e</td>\n",
       "      <td>168124.0163762535630664537872659459</td>\n",
       "      <td>BLZ</td>\n",
       "      <td>0x5732046a883704404f284ce41ffadd5b007fd668</td>\n",
       "      <td>1589632.785341448517043149</td>\n",
       "      <td>2268926.586300006986421068</td>\n",
       "      <td>WETH</td>\n",
       "      <td>0x5732046a883704404f284ce41ffadd5b007fd668</td>\n",
       "      <td>92.830825718467465375</td>\n",
       "      <td>134.906787905287079111</td>\n",
       "      <td>487600.2879182688873688597128700263</td>\n",
       "      <td>13797.070713936561934792</td>\n",
       "      <td>66</td>\n",
       "    </tr>\n",
       "    <tr>\n",
       "      <th>47</th>\n",
       "      <td>0x7b73644935b8e68019ac6356c40661e1bc315860</td>\n",
       "      <td>166425.424300564791162929556883296</td>\n",
       "      <td>ELON</td>\n",
       "      <td>0x761d38e5ddf6ccf6cf7c55759d5210750b5d60f3</td>\n",
       "      <td>380978332182.012031118883591413</td>\n",
       "      <td>16694673860421.965841184492236691</td>\n",
       "      <td>WETH</td>\n",
       "      <td>0x761d38e5ddf6ccf6cf7c55759d5210750b5d60f3</td>\n",
       "      <td>92.497992294085849665</td>\n",
       "      <td>4073.187323721388117374</td>\n",
       "      <td>14722126.89388334418324871796576074</td>\n",
       "      <td>141957885.507612589027096652</td>\n",
       "      <td>88</td>\n",
       "    </tr>\n",
       "    <tr>\n",
       "      <th>48</th>\n",
       "      <td>0x5083b16da538c5022744526122243cf3bddb3bf2</td>\n",
       "      <td>160789.5569784155895498163480883066</td>\n",
       "      <td>ALI</td>\n",
       "      <td>0x6b0b3a982b4634ac68dd83a4dbf02311ce324181</td>\n",
       "      <td>5024182.695596332998829822</td>\n",
       "      <td>39617613.623383835236199837</td>\n",
       "      <td>USDC</td>\n",
       "      <td>0x6b0b3a982b4634ac68dd83a4dbf02311ce324181</td>\n",
       "      <td>160724.018251</td>\n",
       "      <td>1347623.135381</td>\n",
       "      <td>2695991.987548403830042363986786818</td>\n",
       "      <td>6.70434875091940014</td>\n",
       "      <td>40</td>\n",
       "    </tr>\n",
       "    <tr>\n",
       "      <th>49</th>\n",
       "      <td>0xdb44a4a457c87225b5ba45f27b7828a4cc03c112</td>\n",
       "      <td>157187.8946207021501732196641805131</td>\n",
       "      <td>RBN</td>\n",
       "      <td>0x6123b0049f904d730db3c36a31167d9d4121fa6b</td>\n",
       "      <td>538425.982641995915073539</td>\n",
       "      <td>2362507.3193913073982316</td>\n",
       "      <td>WETH</td>\n",
       "      <td>0x6123b0049f904d730db3c36a31167d9d4121fa6b</td>\n",
       "      <td>87.385311323564152397</td>\n",
       "      <td>377.750492339415585069</td>\n",
       "      <td>1370566.916556931344839941905982548</td>\n",
       "      <td>24931.082328533536770817</td>\n",
       "      <td>44</td>\n",
       "    </tr>\n",
       "  </tbody>\n",
       "</table>\n",
       "</div>"
      ],
      "text/plain": [
       "                                   pairAddress  \\\n",
       "0   0x26b1c843b41ab3ac6146f859d31dcb2031f5992b   \n",
       "1   0x9112d1761124d4ec7aca02014d6e215970f87e33   \n",
       "2   0x7a809081f991ecfe0ab2727c7e90d2ad7c2e411e   \n",
       "3   0xb4e16d0168e52d35cacd2c6185b44281ec28c9dc   \n",
       "4   0x0d4a11d5eeaac28ec3f61d100daf4d40471f1852   \n",
       "5   0x6033368e4a402605294c91cf5c03d72bd96e7d8d   \n",
       "6   0x5fc5b2a2a84e577e8eb3ddd00d6b18cdfc976645   \n",
       "7   0xc9919a9eb691f571e41db417f911135b4ac46fe7   \n",
       "8   0x55d5c232d921b9eaa6b37b5845e439acd04b4dba   \n",
       "9   0x5281e311734869c64ca60ef047fd87759397efe6   \n",
       "10  0xf6dcdce0ac3001b2f67f750bc64ea5beb37b5824   \n",
       "11  0x9cbfb60a09a9a33a10312da0f39977cbdb7fde23   \n",
       "12  0x7ba9b94127d434182287de708643932ec036d365   \n",
       "13  0x8c1c499b1796d7f3c2521ac37186b52de024e58c   \n",
       "14  0xdd39323c337c33d0285c1d4228a1a46a8502c79f   \n",
       "15  0x811beed0119b4afce20d2583eb608c6f7af1954f   \n",
       "16  0x8ef79d6c328c25da633559c20c75f638a4863462   \n",
       "17  0xa478c2975ab1ea89e8196811f51a7b7ade33eb11   \n",
       "18  0x5449bd1a97296125252db2d9cf23d5d6e30ca3c1   \n",
       "19  0x3041cbd36888becc7bbcbc0045e3b1f144466f5f   \n",
       "20  0x9af0f334f9f451ce9e650278e56fec212f35cec1   \n",
       "21  0xccb63225a7b19dcf66717e4d40c9a72b39331d61   \n",
       "22  0xec54859519293b8784bc5bf28144166f313618af   \n",
       "23  0x25647e01bd0967c1b9599fa3521939871d1d0888   \n",
       "24  0xfe903a12359496b932e24c5e9b78f1b9060a6342   \n",
       "25  0x80b4d4e9d88d9f78198c56c5a27f3bacb9a685c5   \n",
       "26  0xd3d2e2692501a5c9ca623199d38826e513033a17   \n",
       "27  0xc5be99a02c6857f9eac67bbce58df5572498f40c   \n",
       "28  0x97e1fcb93ae7267dbafad23f7b9afaa08264cfd8   \n",
       "29  0x4d5ef58aac27d99935e5b6b4a6778ff292059991   \n",
       "30  0x6591c4bcd6d7a1eb4e537da8b78676c1576ba244   \n",
       "31  0x4a7d4be868e0b811ea804faf0d3a325c3a29a9ad   \n",
       "32  0x271544af1f703ac3deb3f12790de83b3b987aa2b   \n",
       "33  0x4028daac072e492d34a3afdbef0ba7e35d8b55c4   \n",
       "34  0xb05e19a28e4d13eeae507eaf6572e3a1c5d8f774   \n",
       "35  0xae461ca67b15dc8dc81ce7615e0320da1a9ab8d5   \n",
       "36  0x9c4fe5ffd9a9fc5678cfbd93aa2d4fd684b67c4c   \n",
       "37  0xb8a1a865e4405281311c5bc0f90c240498472d3e   \n",
       "38  0x70ec2fa6eccf4010eaf572d1c1a7bcbc72dec983   \n",
       "39  0x3fa5db0910afc2a1e6de45039ea217410fb8641d   \n",
       "40  0xa5e9c917b4b821e4e0a5bbefce078ab6540d6b5e   \n",
       "41  0x6ada49aeccf6e556bb7a35ef0119cc8ca795294a   \n",
       "42  0x453a43e2bf3080f7a23c9bb034ccdd869e306102   \n",
       "43  0x11181bd3baf5ce2a478e98361985d42625de35d1   \n",
       "44  0x1037fa1f40b69c9266c4aeb2abcedc7553614b4c   \n",
       "45  0xf66369997ae562bc9eec2ab9541581252f9ca383   \n",
       "46  0xcf4236db746dbc1855a4d095aaf58da9b030491e   \n",
       "47  0x7b73644935b8e68019ac6356c40661e1bc315860   \n",
       "48  0x5083b16da538c5022744526122243cf3bddb3bf2   \n",
       "49  0xdb44a4a457c87225b5ba45f27b7828a4cc03c112   \n",
       "\n",
       "                         dailyVolumeUSD token0_symbol  \\\n",
       "0   18044577.16616131095138411684391161         sILV2   \n",
       "1    12330161.8603183632501027905931409          SHIT   \n",
       "2   9356068.767914834418701521183459145          USDC   \n",
       "3   7946290.543183526065581561379215337          USDC   \n",
       "4   3567514.616175831645067170006679848          WETH   \n",
       "5   3406788.640697228554984176713442879          X2Y2   \n",
       "6   2117245.547362322563131098884959673          WETH   \n",
       "7   2068207.090312683960461532632688075           LSS   \n",
       "8   1656077.459784708517237385640827616           HEX   \n",
       "9   1242412.424525914084718022581442596          WETH   \n",
       "10  1141946.302832015773314469740411698           HEX   \n",
       "11  1127677.624600125186797023647220326       SAITAMA   \n",
       "12  1020903.380253957921149317802689005         eRSDL   \n",
       "13  1000414.578905017001373359548662319           RAD   \n",
       "14  972807.8660929728883561858897073178          HATI   \n",
       "15  938455.3880912685442083272437158236          SHIB   \n",
       "16  923244.5849077709315492435114446155           QOM   \n",
       "17  794589.9530639120679491447181043045           DAI   \n",
       "18  717412.5609100488321279566232410223           RND   \n",
       "19  706022.1662539794276232565442365313          USDC   \n",
       "20  662910.1840669022149382039863127992           KOO   \n",
       "21  521788.9388986266222824195211770962            MC   \n",
       "22  475123.3572190850248976189100219231           DAI   \n",
       "23  457092.6792283447659923741637482616          WETH   \n",
       "24   401132.014982953442539759006945614           PKF   \n",
       "25  355723.2199580434919554878277184594          WETH   \n",
       "26  330669.6431795926209296191489907534           UNI   \n",
       "27  326027.5825562088718791411121399064          WETH   \n",
       "28  309920.7920643432177160316935834347           UFO   \n",
       "29  295207.7698447054653156771004847922           DPI   \n",
       "30  275128.7817010708823908177053054361          BOND   \n",
       "31  262378.7414691136421676783671892933           REQ   \n",
       "32  255884.5081831715751729480217166994           FWT   \n",
       "33  244395.5344746080005968642410562708         stETH   \n",
       "34  211160.2288236968330212216907907167            OP   \n",
       "35  209907.6074356897289749202551086153           DAI   \n",
       "36  206962.4742935042997756295892629887          PAXG   \n",
       "37  195889.7028779762507562626441915362          NOIA   \n",
       "38  188541.1277829450381931267738673621          WETH   \n",
       "39  182839.8177374157031085069564548097          XCAD   \n",
       "40  180105.1666667467330620161780996688         STARL   \n",
       "41  175295.3810698716444752551155679943           WOO   \n",
       "42  175220.5483793780435738605593329132          WETH   \n",
       "43  172912.2322407528369651810952570057          ASTO   \n",
       "44  169870.8323037426789500629277238685          GLCH   \n",
       "45  168856.2511661062512112983432971573          PERP   \n",
       "46  168124.0163762535630664537872659459           BLZ   \n",
       "47   166425.424300564791162929556883296          ELON   \n",
       "48  160789.5569784155895498163480883066           ALI   \n",
       "49  157187.8946207021501732196641805131           RBN   \n",
       "\n",
       "                                     token0_id  \\\n",
       "0   0x7e77dcb127f99ece88230a64db8d595f31f1b068   \n",
       "1   0x4e4a47cac6a28a62dcc20990ed2cda9bc659469f   \n",
       "2   0xa0b86991c6218b36c1d19d4a2e9eb0ce3606eb48   \n",
       "3   0xa0b86991c6218b36c1d19d4a2e9eb0ce3606eb48   \n",
       "4   0xc02aaa39b223fe8d0a0e5c4f27ead9083c756cc2   \n",
       "5   0x1e4ede388cbc9f4b5c79681b7f94d36a11abebc9   \n",
       "6   0xc02aaa39b223fe8d0a0e5c4f27ead9083c756cc2   \n",
       "7   0x3b9be07d622accaed78f479bc0edabfd6397e320   \n",
       "8   0x2b591e99afe9f32eaa6214f7b7629768c40eeb39   \n",
       "9   0xc02aaa39b223fe8d0a0e5c4f27ead9083c756cc2   \n",
       "10  0x2b591e99afe9f32eaa6214f7b7629768c40eeb39   \n",
       "11  0x8b3192f5eebd8579568a2ed41e6feb402f93f73f   \n",
       "12  0x5218e472cfcfe0b64a064f055b43b4cdc9efd3a6   \n",
       "13  0x31c8eacbffdd875c74b94b077895bd78cf1e64a3   \n",
       "14  0x251457b7c5d85251ca1ab384361c821330be2520   \n",
       "15  0x95ad61b0a150d79219dcf64e1e6cc01f0b64c4ce   \n",
       "16  0xa71d0588eaf47f12b13cf8ec750430d21df04974   \n",
       "17  0x6b175474e89094c44da98b954eedeac495271d0f   \n",
       "18  0x1c7e83f8c581a967940dbfa7984744646ae46b29   \n",
       "19  0xa0b86991c6218b36c1d19d4a2e9eb0ce3606eb48   \n",
       "20  0x5e9f7e92e742f73b990dca63c88325ed24666e84   \n",
       "21  0x949d48eca67b17269629c7194f4b727d4ef9e5d6   \n",
       "22  0x6b175474e89094c44da98b954eedeac495271d0f   \n",
       "23  0xc02aaa39b223fe8d0a0e5c4f27ead9083c756cc2   \n",
       "24  0x8b39b70e39aa811b69365398e0aace9bee238aeb   \n",
       "25  0xc02aaa39b223fe8d0a0e5c4f27ead9083c756cc2   \n",
       "26  0x1f9840a85d5af5bf1d1762f925bdaddc4201f984   \n",
       "27  0xc02aaa39b223fe8d0a0e5c4f27ead9083c756cc2   \n",
       "28  0x249e38ea4102d0cf8264d3701f1a0e39c4f2dc3b   \n",
       "29  0x1494ca1f11d487c2bbe4543e90080aeba4ba3c2b   \n",
       "30  0x0391d2021f89dc339f60fff84546ea23e337750f   \n",
       "31  0x8f8221afbb33998d8584a2b05749ba73c37a938a   \n",
       "32  0x4a7397b0b86bb0f9482a3f4f16de942f04e88702   \n",
       "33  0xae7ab96520de3a18e5e111b5eaab095312d7fe84   \n",
       "34  0x2eecb20df51dc76d05afcf1270c73a2ff1035388   \n",
       "35  0x6b175474e89094c44da98b954eedeac495271d0f   \n",
       "36  0x45804880de22913dafe09f4980848ece6ecbaf78   \n",
       "37  0xa8c8cfb141a3bb59fea1e2ea6b79b5ecbcd7b6ca   \n",
       "38  0xc02aaa39b223fe8d0a0e5c4f27ead9083c756cc2   \n",
       "39  0x7659ce147d0e714454073a5dd7003544234b6aa0   \n",
       "40  0x8e6cd950ad6ba651f6dd608dc70e5886b1aa6b24   \n",
       "41  0x4691937a7508860f876c9c0a2a617e7d9e945d4b   \n",
       "42  0xc02aaa39b223fe8d0a0e5c4f27ead9083c756cc2   \n",
       "43  0x823556202e86763853b40e9cde725f412e294689   \n",
       "44  0x038a68ff68c393373ec894015816e33ad41bd564   \n",
       "45  0xbc396689893d065f41bc2c6ecbee5e0085233447   \n",
       "46  0x5732046a883704404f284ce41ffadd5b007fd668   \n",
       "47  0x761d38e5ddf6ccf6cf7c55759d5210750b5d60f3   \n",
       "48  0x6b0b3a982b4634ac68dd83a4dbf02311ce324181   \n",
       "49  0x6123b0049f904d730db3c36a31167d9d4121fa6b   \n",
       "\n",
       "                     dailyVolumeToken0                            reserve0  \\\n",
       "0                75.590458431395684271                1.767872165974808497   \n",
       "1     1419137291173.507923209293317101        16350613868.3869050774532976   \n",
       "2                       9352341.202544                      7278284.442263   \n",
       "3                       7944060.293021                      79053219.45668   \n",
       "4              1985.069246836202839412              17150.6216251843007197   \n",
       "5          13267781.010060489687022394          12923069.47957958366364951   \n",
       "6              2370.283509828503112744                1.405332611560299561   \n",
       "7             39890.453065187663700397            19492.596085670694340666   \n",
       "8                    31687521.75123634                    9561300.85832576   \n",
       "9                693.44156563152035369             1590.131078037393753415   \n",
       "10                   21761174.39386819                    6580678.00712234   \n",
       "11            205004098504744.69545259           621396432191831.238906482   \n",
       "12         50451718.885052442779591628         12265921.026925799452795658   \n",
       "13           452539.384559022218196543           939931.639182685426251764   \n",
       "14   92419897650656.793742528860750703   66440650727706.597227107208443003   \n",
       "15      84646754467.221376030947367188     137381972568.773146419202652462   \n",
       "16    9561915390847.339276168274858309   21725602182353.934683799217710177   \n",
       "17           794092.120520714100584656          8591150.320398136877379623   \n",
       "18      47353916932.972929711078731104      19890659431.580916082411827834   \n",
       "19                       705256.279543                      9106086.793727   \n",
       "20  265201762695055.421318903211127996  536616583937593.558487380650563307   \n",
       "21           509919.986530725327347912         13766263.614604763922039235   \n",
       "22           474309.102551927143326741          1924354.109783361057458964   \n",
       "23              255.006873482091398925             2284.890572088574137991   \n",
       "24          2279121.040471189378786016          5647121.410417897889275038   \n",
       "25              197.558150497802706864                 198.708552432583439   \n",
       "26             65274.41043465587675697          2059475.388957455041170434   \n",
       "27              179.590396793646258473             1155.658011005733238112   \n",
       "28     175333730486.137895991584185493    1320884908191.363025577282367675   \n",
       "29             3176.699729313654723961            10186.768546395581616137   \n",
       "30             76619.54822631853021057           896042.514845790218472498   \n",
       "31          2032287.659868379420015882          5640884.275107329944359084   \n",
       "32         16717057.462484383845161707         42038340.798716851511800564   \n",
       "33              140.586508671714227945              985.272383536476294022   \n",
       "34           770596.770739135111604134          2422196.153584783441388664   \n",
       "35           209577.482992202191225354         53460420.712851634524630025   \n",
       "36              111.298581479856248207             5949.904126067210573583   \n",
       "37          2331481.500806029249536184          6010695.810669730844153646   \n",
       "38              105.160871954260061968              423.216870970266691826   \n",
       "39            45425.990656548471140635           324353.613947102794474884   \n",
       "40      39593019392.965130448671374565     510046919467.405569536019879768   \n",
       "41          1082770.173670394274701724         11204988.319447557520921235   \n",
       "42                97.60687621322496461              302.982886155483129977   \n",
       "43           810146.159944736539325196         35049366.252223707538622867   \n",
       "44          1200983.066288076153094606          2350863.342554866356863441   \n",
       "45           133049.071918208033822172           905377.131401824085082571   \n",
       "46          1589632.785341448517043149          2268926.586300006986421068   \n",
       "47     380978332182.012031118883591413   16694673860421.965841184492236691   \n",
       "48          5024182.695596332998829822         39617613.623383835236199837   \n",
       "49           538425.982641995915073539            2362507.3193913073982316   \n",
       "\n",
       "   token1_symbol                                   token1_id  \\\n",
       "0           WETH  0x7e77dcb127f99ece88230a64db8d595f31f1b068   \n",
       "1           WETH  0x4e4a47cac6a28a62dcc20990ed2cda9bc659469f   \n",
       "2            CAW  0xa0b86991c6218b36c1d19d4a2e9eb0ce3606eb48   \n",
       "3           WETH  0xa0b86991c6218b36c1d19d4a2e9eb0ce3606eb48   \n",
       "4           USDT  0xc02aaa39b223fe8d0a0e5c4f27ead9083c756cc2   \n",
       "5           WETH  0x1e4ede388cbc9f4b5c79681b7f94d36a11abebc9   \n",
       "6           GIZA  0xc02aaa39b223fe8d0a0e5c4f27ead9083c756cc2   \n",
       "7           WETH  0x3b9be07d622accaed78f479bc0edabfd6397e320   \n",
       "8           WETH  0x2b591e99afe9f32eaa6214f7b7629768c40eeb39   \n",
       "9           CULT  0xc02aaa39b223fe8d0a0e5c4f27ead9083c756cc2   \n",
       "10          USDC  0x2b591e99afe9f32eaa6214f7b7629768c40eeb39   \n",
       "11          WETH  0x8b3192f5eebd8579568a2ed41e6feb402f93f73f   \n",
       "12          WETH  0x5218e472cfcfe0b64a064f055b43b4cdc9efd3a6   \n",
       "13          USDC  0x31c8eacbffdd875c74b94b077895bd78cf1e64a3   \n",
       "14          USDC  0x251457b7c5d85251ca1ab384361c821330be2520   \n",
       "15          WETH  0x95ad61b0a150d79219dcf64e1e6cc01f0b64c4ce   \n",
       "16          WETH  0xa71d0588eaf47f12b13cf8ec750430d21df04974   \n",
       "17          WETH  0x6b175474e89094c44da98b954eedeac495271d0f   \n",
       "18          WETH  0x1c7e83f8c581a967940dbfa7984744646ae46b29   \n",
       "19          USDT  0xa0b86991c6218b36c1d19d4a2e9eb0ce3606eb48   \n",
       "20          WETH  0x5e9f7e92e742f73b990dca63c88325ed24666e84   \n",
       "21          WETH  0x949d48eca67b17269629c7194f4b727d4ef9e5d6   \n",
       "22             O  0x6b175474e89094c44da98b954eedeac495271d0f   \n",
       "23         SUPER  0xc02aaa39b223fe8d0a0e5c4f27ead9083c756cc2   \n",
       "24          WETH  0x8b39b70e39aa811b69365398e0aace9bee238aeb   \n",
       "25           TRU  0xc02aaa39b223fe8d0a0e5c4f27ead9083c756cc2   \n",
       "26          WETH  0x1f9840a85d5af5bf1d1762f925bdaddc4201f984   \n",
       "27          AMPL  0xc02aaa39b223fe8d0a0e5c4f27ead9083c756cc2   \n",
       "28          WETH  0x249e38ea4102d0cf8264d3701f1a0e39c4f2dc3b   \n",
       "29          WETH  0x1494ca1f11d487c2bbe4543e90080aeba4ba3c2b   \n",
       "30          USDC  0x0391d2021f89dc339f60fff84546ea23e337750f   \n",
       "31          WETH  0x8f8221afbb33998d8584a2b05749ba73c37a938a   \n",
       "32          WETH  0x4a7397b0b86bb0f9482a3f4f16de942f04e88702   \n",
       "33          WETH  0xae7ab96520de3a18e5e111b5eaab095312d7fe84   \n",
       "34          WETH  0x2eecb20df51dc76d05afcf1270c73a2ff1035388   \n",
       "35          USDC  0x6b175474e89094c44da98b954eedeac495271d0f   \n",
       "36          WETH  0x45804880de22913dafe09f4980848ece6ecbaf78   \n",
       "37          WETH  0xa8c8cfb141a3bb59fea1e2ea6b79b5ecbcd7b6ca   \n",
       "38          ROOK  0xc02aaa39b223fe8d0a0e5c4f27ead9083c756cc2   \n",
       "39          USDC  0x7659ce147d0e714454073a5dd7003544234b6aa0   \n",
       "40          WETH  0x8e6cd950ad6ba651f6dd608dc70e5886b1aa6b24   \n",
       "41          WETH  0x4691937a7508860f876c9c0a2a617e7d9e945d4b   \n",
       "42        STRNGR  0xc02aaa39b223fe8d0a0e5c4f27ead9083c756cc2   \n",
       "43          USDC  0x823556202e86763853b40e9cde725f412e294689   \n",
       "44          WETH  0x038a68ff68c393373ec894015816e33ad41bd564   \n",
       "45          WETH  0xbc396689893d065f41bc2c6ecbee5e0085233447   \n",
       "46          WETH  0x5732046a883704404f284ce41ffadd5b007fd668   \n",
       "47          WETH  0x761d38e5ddf6ccf6cf7c55759d5210750b5d60f3   \n",
       "48          USDC  0x6b0b3a982b4634ac68dd83a4dbf02311ce324181   \n",
       "49          WETH  0x6123b0049f904d730db3c36a31167d9d4121fa6b   \n",
       "\n",
       "                    dailyVolumeToken1                           reserve1  \\\n",
       "0            20391.289551617179340048               0.103575127241738334   \n",
       "1            13969.023979241586925419               0.519906171224847849   \n",
       "2   70352106872638.631096732439854899  53711361613298.579569450654648315   \n",
       "3             4416.753923820066502526           43762.070870754729340122   \n",
       "4                      3568632.914985                     31025675.01265   \n",
       "5              1890.06115884505521772            1700.778808333284489473   \n",
       "6                      29395.18460405                     4879.509395835   \n",
       "7               2315.4491801142244733               1.743545235299297085   \n",
       "8              921.849962520731810018             262.860789083706771544   \n",
       "9      84402864787.057603459657130526    194274555743.182871721195811459   \n",
       "10                     1141723.997216                      328934.681051   \n",
       "11             625.000632860529770145            1971.111819425798635669   \n",
       "12             568.469556179638284252             114.678912348143895411   \n",
       "13                      1000185.20555                     1995580.757769   \n",
       "14                      972386.174524                      729831.256612   \n",
       "15             520.441181634235465487             822.136772437380008014   \n",
       "16             515.441684534327388364            1137.136209677640706871   \n",
       "17             441.181810416300041517            4755.060737156789330057   \n",
       "18             800.698544354827209003               1.220377361665848388   \n",
       "19                      707349.331073                     9132369.990284   \n",
       "20             369.855778710977314265              653.86451536340931939   \n",
       "21             287.275517169842785181            7943.210870859215357369   \n",
       "22     14131364602.649493153802788569      58295701886.65165421900029295   \n",
       "23         2236795.737443610251705446        20407126.311975629489047856   \n",
       "24             223.705435118572743245             513.685997006544624288   \n",
       "25         1104909.804949734328581674         1137251.373527926393614571   \n",
       "26             183.497196130439292747            5808.820902665764206961   \n",
       "27                   309542.351765391                  2009608.963082036   \n",
       "28             172.333179235231648018            1283.352551768714664088   \n",
       "29             163.946646514987831098             523.973942204222378448   \n",
       "30                      275068.789012                     3159246.500619   \n",
       "31             144.383692210190203376             382.491227003902476866   \n",
       "32             141.740383635366585659             362.978959426626748939   \n",
       "33             135.584889522569013659              960.81590363530080552   \n",
       "34             117.292184945805359515               436.9729765425902778   \n",
       "35                      209957.190812                    53532203.731937   \n",
       "36             114.950240905266233305            6106.234746650059278863   \n",
       "37             109.247024137382690753              278.97623280714663192   \n",
       "38            4812.836424832155435421           19153.541049848769732509   \n",
       "39                      182805.140212                     1272249.866925   \n",
       "40              99.612747021701430048            1291.093841262717008912   \n",
       "41              96.921731491229483868             991.566156808712220401   \n",
       "42           16566.521552488930155747           53799.931550808911382281   \n",
       "43                      172847.507224                      7457796.83135   \n",
       "44              94.662457587815452951             174.442897585919112401   \n",
       "45               94.18150666637087389             602.304388703290434552   \n",
       "46              92.830825718467465375             134.906787905287079111   \n",
       "47              92.497992294085849665            4073.187323721388117374   \n",
       "48                      160724.018251                     1347623.135381   \n",
       "49              87.385311323564152397             377.750492339415585069   \n",
       "\n",
       "                             reserveUSD                   totalSupply  \\\n",
       "0    185.007627282511291050410476253084          0.397489622506046319   \n",
       "1   939.5606044999527414057226528192348      76481.596984279553163924   \n",
       "2   14562523.79614463010296044124735658      17000.372001445604539439   \n",
       "3   158171118.2947124454132655087211276          0.949291097224270471   \n",
       "4   61986741.93124518014117041922362383          0.358735792422925442   \n",
       "5   6150046.731936887471116457848148126     122495.841175114799947429   \n",
       "6   2540.637390630996495380319988943423          0.000000001693876534   \n",
       "7   6230.195069012601572355339755270908        134.786530428602600527   \n",
       "8   950046.2579647230507226365979986013          0.141939588833336829   \n",
       "9   5747440.852724872320382470833962709   13027895.889162734975983901   \n",
       "10  658294.8540617761718797970861978751          0.000007647112982819   \n",
       "11  7124074.173003478151163110000239229      14313.458893646941440285   \n",
       "12  414488.9827418657326611333329020109      21179.822885938282064551   \n",
       "13  4117252.487900125806857966340931903          1.198797283990609674   \n",
       "14  1460602.248501550373469062332659775        6454.97224367901523102   \n",
       "15   2971496.62124627629670831423373769    1125625.850366704550157845   \n",
       "16  4111702.928814411972202289726909645  139647708.508189323870899468   \n",
       "17  17192573.26610398253434779770749409     120489.530322838968077415   \n",
       "18  4442.016832213092521660059518703806      54507.190418790743185676   \n",
       "19  18232737.66482572193503387894012748          0.000007420131494547   \n",
       "20  2366934.978902323035295376884397494  566951006.881031847765641544   \n",
       "21  28785339.38354955009593616336191422     291284.195794547355478078   \n",
       "22   3839822.27940769797571362708996319  325808749.640185294185952083   \n",
       "23  8291338.796641625957808056278246011      121731.08924170948409475   \n",
       "24  1860850.392284447274426869340175987      39649.700799300767846856   \n",
       "25  720076.0464424662924287152377555322       4183.981538330340248622   \n",
       "26  21051234.21344266850172887786952301      50333.469152680636372157   \n",
       "27  4185594.101355138079295993726453647          0.590203775593088159   \n",
       "28  4638549.031785302139046530126469253    30089863.56945984556809423   \n",
       "29     1893819.372541258790365693020749       1961.016490314040703401   \n",
       "30  6310794.011512777604533924737375742          1.387052280056787128   \n",
       "31  1382949.410618594943300222064139593      32637.643933661235050835   \n",
       "32  1312511.089020321668621330165401321     117479.597850185334658016   \n",
       "33  3472772.679174635800967311890497636        797.237011389308801073   \n",
       "34  1579373.080354244397046357129373731       32482.71776075702653633   \n",
       "35  107058916.9739061487748686360449841         47.521747670730748577   \n",
       "36  22127990.35451998785660842686616232       4896.098444029230301699   \n",
       "37   1012298.73448035192370141768706705      26810.259894858269386327   \n",
       "38  1533505.111369502821816661518875461       1480.452162741184050422   \n",
       "39  2541372.574477516575657935596549619          0.028208416759788805   \n",
       "40  4666508.245445877740434443746916002    12281269.04080623701388428   \n",
       "41  3589386.738844315786306397829727972      56662.652051908738153066   \n",
       "42  1095101.241889542410846527700628125       3549.575537270693627411   \n",
       "43  14929002.28126741251075667691783659         15.879723038799099906   \n",
       "44  631468.5410728325434044197947467048       6928.614924328693002263   \n",
       "45  2191524.841947554557436803318265626      17039.817924603670964262   \n",
       "46  487600.2879182688873688597128700263      13797.070713936561934792   \n",
       "47  14722126.89388334418324871796576074  141957885.507612589027096652   \n",
       "48  2695991.987548403830042363986786818           6.70434875091940014   \n",
       "49  1370566.916556931344839941905982548      24931.082328533536770817   \n",
       "\n",
       "   dailyTxns  \n",
       "0         66  \n",
       "1        568  \n",
       "2       1130  \n",
       "3       2352  \n",
       "4        988  \n",
       "5        339  \n",
       "6         52  \n",
       "7          5  \n",
       "8       1084  \n",
       "9        354  \n",
       "10       283  \n",
       "11       849  \n",
       "12       466  \n",
       "13       165  \n",
       "14       372  \n",
       "15       189  \n",
       "16       177  \n",
       "17       318  \n",
       "18        10  \n",
       "19       295  \n",
       "20       172  \n",
       "21        36  \n",
       "22       139  \n",
       "23        84  \n",
       "24        81  \n",
       "25       129  \n",
       "26        54  \n",
       "27        35  \n",
       "28        86  \n",
       "29        92  \n",
       "30        38  \n",
       "31        53  \n",
       "32        62  \n",
       "33        81  \n",
       "34        50  \n",
       "35        87  \n",
       "36        33  \n",
       "37        59  \n",
       "38        46  \n",
       "39        23  \n",
       "40        51  \n",
       "41        45  \n",
       "42       437  \n",
       "43        33  \n",
       "44        71  \n",
       "45        45  \n",
       "46        66  \n",
       "47        88  \n",
       "48        40  \n",
       "49        44  "
      ]
     },
     "execution_count": 18,
     "metadata": {},
     "output_type": "execute_result"
    }
   ],
   "source": [
    "df_top50_pairs_info"
   ]
  },
  {
   "cell_type": "code",
   "execution_count": 19,
   "metadata": {
    "id": "fJ9klrOQ7aW1"
   },
   "outputs": [],
   "source": [
    "# Write dataframe to csv\n",
    "# Daily aggregated data: undirectional volume USD on 05/06/2022\n",
    "df_top50_pairs_info.to_csv(\"PoolDataV2/Top_50_Volume_Pairs_Undirectional_20220605.csv\")"
   ]
  },
  {
   "cell_type": "markdown",
   "metadata": {
    "id": "4FxADQ_2foGf"
   },
   "source": [
    "# Compute Directional Volume (Incomplete)"
   ]
  },
  {
   "cell_type": "code",
   "execution_count": 20,
   "metadata": {
    "colab": {
     "base_uri": "https://localhost:8080/"
    },
    "id": "ob0abW-4fr98",
    "outputId": "1e5196aa-6c83-4067-96d1-22da4a04254e"
   },
   "outputs": [
    {
     "name": "stdout",
     "output_type": "stream",
     "text": [
      "{'data': {'swaps': [{'amount0In': '874.358028061008428415',\n",
      "                     'amount0Out': '0',\n",
      "                     'amount1In': '0',\n",
      "                     'amount1Out': '0.080380204908462933',\n",
      "                     'amountUSD': '140.9912911183920638860407598128405',\n",
      "                     'transaction': {'id': '0x6a8031402df1401112a7b5a17654673c708d111912946ac1beb169a13d506f59',\n",
      "                                     'timestamp': '1654417560'}},\n",
      "                    {'amount0In': '0',\n",
      "                     'amount0Out': '384.915147460101858337',\n",
      "                     'amount1In': '0.03469375',\n",
      "                     'amount1Out': '0',\n",
      "                     'amountUSD': '62.32797447381097606245121727947374',\n",
      "                     'transaction': {'id': '0xa3a509d48b4c9c6432ffd0c46cac6e6d1fad5395a4cf1dcaa0fb6dd98d1a7b82',\n",
      "                                     'timestamp': '1654426696'}},\n",
      "                    {'amount0In': '0',\n",
      "                     'amount0Out': '19167.809153296665628187',\n",
      "                     'amount1In': '1157.658926297668445986',\n",
      "                     'amount1Out': '0',\n",
      "                     'amountUSD': '2068207.090312683960461532632688075',\n",
      "                     'transaction': {'id': '0x7702696cb62039a295ad77b6e5a9684c64c9f2c5cc3cf447c713313f9bf54181',\n",
      "                                     'timestamp': '1654432756'}},\n",
      "                    {'amount0In': '19463.370736369887785458',\n",
      "                     'amount0Out': '0',\n",
      "                     'amount1In': '0',\n",
      "                     'amount1Out': '1157.675179861647564381',\n",
      "                     'amountUSD': '1035732.883693670619952829921900157',\n",
      "                     'transaction': {'id': '0x9da5620c7803123849f8f65029a6e73dfd5e7922bf8815bbbc495f7313865880',\n",
      "                                     'timestamp': '1654432756'}},\n",
      "                    {'amount0In': '1298.7012988',\n",
      "                     'amount0Out': '0',\n",
      "                     'amount1In': '0',\n",
      "                     'amount1Out': '0.108601907364179194',\n",
      "                     'amountUSD': '197.2975293986977797244059632304813',\n",
      "                     'transaction': {'id': '0xf39d57e6cce5ff8df55cb803c2de426cdb90d50832b8df936055a660309ce985',\n",
      "                                     'timestamp': '1654496274'}}]}}\n"
     ]
    }
   ],
   "source": [
    "# Firstly, fetch all transaction in each day\n",
    "directional_volume_pair = [\n",
    " \"0xc9919a9eb691f571e41db417f911135b4ac46fe7\"\n",
    "]\n",
    "params_directional_volume_pair = {\"directional_volume_pair\": directional_volume_pair}\n",
    "\n",
    "swaps_transaction_query = \"\"\"\n",
    "query($directional_volume_pair: [String!]) {\n",
    " swaps(first: 5, where: { pair_in: $directional_volume_pair, timestamp_gt: 1654387200}, orderBy: timestamp, orderDirection: asc) {\n",
    "   transaction {\n",
    "     id\n",
    "     timestamp\n",
    "   }\n",
    "   amount0In\n",
    "   amount1In\n",
    "   amount0Out\n",
    "   amount1Out\n",
    "   amountUSD\n",
    " }\n",
    "}\n",
    "\"\"\"\n",
    "swaps_transaction = run_query_var(swaps_transaction_query, params_directional_volume_pair)\n",
    "\n",
    "pprint(swaps_transaction)"
   ]
  },
  {
   "cell_type": "markdown",
   "metadata": {
    "id": "QxilQ-IAiTdT"
   },
   "source": [
    "# **Other Data and Supporting Resources**"
   ]
  },
  {
   "cell_type": "markdown",
   "metadata": {
    "id": "GWaZ3LjT-Que"
   },
   "source": [
    "## Token Overview (Supporting Resources)"
   ]
  },
  {
   "cell_type": "markdown",
   "metadata": {
    "id": "cW6rSfcK_l4n"
   },
   "source": [
    "Token data can be fetched using the token contract address as an ID. Token data is aggregated across all pairs the token is included in. Any token that is included in some pair in Uniswap can be queried.\n",
    "<br>reference: https://docs.uniswap.org/protocol/V2/reference/API/queries"
   ]
  },
  {
   "cell_type": "code",
   "execution_count": 21,
   "metadata": {
    "colab": {
     "base_uri": "https://localhost:8080/"
    },
    "id": "9F9YrwxC-Sip",
    "outputId": "86e7adb6-718f-4784-f0a3-add7dc5f0922"
   },
   "outputs": [
    {
     "name": "stdout",
     "output_type": "stream",
     "text": [
      "{'data': {'token': {'decimals': '18',\n",
      "                    'derivedETH': '0.0005962864061262205504427291717104448',\n",
      "                    'name': 'Dai Stablecoin',\n",
      "                    'symbol': 'DAI',\n",
      "                    'totalLiquidity': '81822471.521936713104024906',\n",
      "                    'tradeVolumeUSD': '19194080355.67736561812158445797713'}}}\n"
     ]
    }
   ],
   "source": [
    "# Example: The allPairs field gets the first 200 pairs DAI is included in sorted by liquidity in derived USD\n",
    "token_overview_query = \"\"\"\n",
    "{\n",
    " token(id: \"0x6b175474e89094c44da98b954eedeac495271d0f\"){\n",
    "   name\n",
    "   symbol\n",
    "   decimals\n",
    "   derivedETH\n",
    "   tradeVolumeUSD\n",
    "   totalLiquidity\n",
    " }\n",
    "}\n",
    "\"\"\"\n",
    "token_overview = run_query(token_overview_query)\n",
    "\n",
    "pprint(token_overview)"
   ]
  },
  {
   "cell_type": "markdown",
   "metadata": {
    "id": "u7GdicLkZy6x"
   },
   "source": [
    "The allPairs field gets the first 200 pairs DAI is included in sorted by liquidity in derived USD.\n",
    "<br>The result of `total liquidity` is consistent with https://v2.info.uniswap.org/token/0x6b175474e89094c44da98b954eedeac495271d0f\n"
   ]
  },
  {
   "cell_type": "markdown",
   "metadata": {
    "id": "h3IZrUzFaUJS"
   },
   "source": [
    "# All Token in Uniswap V2 (Complete)"
   ]
  },
  {
   "cell_type": "code",
   "execution_count": 22,
   "metadata": {
    "id": "a9FL-Y0QaWOa"
   },
   "outputs": [],
   "source": [
    "# Start from fetching the initial Batch 0: Query 1000 tokens on UNISWAP V2 order by id (asc)\n",
    "# tradeVolumeUSD: amount of token in USD traded all time across pairs (only for tokens with liquidity above minimum threshold)\n",
    "# untrackedVolumeUSD: amount of token in USD traded all time across pairs (no minimum liquidity threshold)\n",
    "get_all_tokens_batch0_query = \"\"\"\n",
    "{\n",
    "   tokens(first: 1000, orderBy: id, orderDirection: asc) {\n",
    "     id\n",
    "     name\n",
    "     symbol\n",
    "     tradeVolume\n",
    "     tradeVolumeUSD\n",
    "     untrackedVolumeUSD\n",
    "     txCount\n",
    "     totalLiquidity\n",
    "     derivedETH\n",
    "   }\n",
    "}\n",
    "\"\"\"\n",
    "get_all_tokens_batch0 = run_query(get_all_tokens_batch0_query)"
   ]
  },
  {
   "cell_type": "code",
   "execution_count": 23,
   "metadata": {
    "id": "fcH0zvkma1GG"
   },
   "outputs": [],
   "source": [
    "# Create a dataframe to store the tokens info, initializa with the first 1000 tokens\n",
    "df_all_tokens = pd.DataFrame.from_dict(get_all_tokens_batch0['data']['tokens'])"
   ]
  },
  {
   "cell_type": "code",
   "execution_count": 25,
   "metadata": {
    "colab": {
     "base_uri": "https://localhost:8080/"
    },
    "id": "djY_JlAAE0M5",
    "outputId": "a9c73c2d-2964-4a47-9ae4-0537fd3e52d6"
   },
   "outputs": [
    {
     "name": "stderr",
     "output_type": "stream",
     "text": [
      "/var/folders/sn/bpd3y67s50v2b2bzrzmw_jlc0000gn/T/ipykernel_8615/1163013731.py:38: FutureWarning: The frame.append method is deprecated and will be removed from pandas in a future version. Use pandas.concat instead.\n",
      "  df_all_tokens = df_all_tokens.append(tokens_iter, ignore_index=True)\n"
     ]
    },
    {
     "name": "stdout",
     "output_type": "stream",
     "text": [
      "Batch:  1   Length of pair:  1000   Total fected pairs:  2000\n",
      "             Start from id:  0x03703a5e60918059baf5481c5d55a553890207a2\n"
     ]
    },
    {
     "name": "stderr",
     "output_type": "stream",
     "text": [
      "/var/folders/sn/bpd3y67s50v2b2bzrzmw_jlc0000gn/T/ipykernel_8615/1163013731.py:38: FutureWarning: The frame.append method is deprecated and will be removed from pandas in a future version. Use pandas.concat instead.\n",
      "  df_all_tokens = df_all_tokens.append(tokens_iter, ignore_index=True)\n"
     ]
    },
    {
     "name": "stdout",
     "output_type": "stream",
     "text": [
      "Batch:  2   Length of pair:  1000   Total fected pairs:  3000\n",
      "             Start from id:  0x06f3c323f0238c72bf35011071f2b5b7f43a054c\n"
     ]
    },
    {
     "name": "stderr",
     "output_type": "stream",
     "text": [
      "/var/folders/sn/bpd3y67s50v2b2bzrzmw_jlc0000gn/T/ipykernel_8615/1163013731.py:38: FutureWarning: The frame.append method is deprecated and will be removed from pandas in a future version. Use pandas.concat instead.\n",
      "  df_all_tokens = df_all_tokens.append(tokens_iter, ignore_index=True)\n"
     ]
    },
    {
     "name": "stdout",
     "output_type": "stream",
     "text": [
      "Batch:  3   Length of pair:  1000   Total fected pairs:  4000\n",
      "             Start from id:  0x0a913bead80f321e7ac35285ee10d9d922659cb7\n"
     ]
    },
    {
     "name": "stderr",
     "output_type": "stream",
     "text": [
      "/var/folders/sn/bpd3y67s50v2b2bzrzmw_jlc0000gn/T/ipykernel_8615/1163013731.py:38: FutureWarning: The frame.append method is deprecated and will be removed from pandas in a future version. Use pandas.concat instead.\n",
      "  df_all_tokens = df_all_tokens.append(tokens_iter, ignore_index=True)\n"
     ]
    },
    {
     "name": "stdout",
     "output_type": "stream",
     "text": [
      "Batch:  4   Length of pair:  1000   Total fected pairs:  5000\n",
      "             Start from id:  0x0e58ed58e150dba5fd8e5d4a49f54c7e1e880124\n"
     ]
    },
    {
     "name": "stderr",
     "output_type": "stream",
     "text": [
      "/var/folders/sn/bpd3y67s50v2b2bzrzmw_jlc0000gn/T/ipykernel_8615/1163013731.py:38: FutureWarning: The frame.append method is deprecated and will be removed from pandas in a future version. Use pandas.concat instead.\n",
      "  df_all_tokens = df_all_tokens.append(tokens_iter, ignore_index=True)\n"
     ]
    },
    {
     "name": "stdout",
     "output_type": "stream",
     "text": [
      "Batch:  5   Length of pair:  1000   Total fected pairs:  6000\n",
      "             Start from id:  0x1201d3b60af2d9d6c856bdc72c66bb0e01673a54\n"
     ]
    },
    {
     "name": "stderr",
     "output_type": "stream",
     "text": [
      "/var/folders/sn/bpd3y67s50v2b2bzrzmw_jlc0000gn/T/ipykernel_8615/1163013731.py:38: FutureWarning: The frame.append method is deprecated and will be removed from pandas in a future version. Use pandas.concat instead.\n",
      "  df_all_tokens = df_all_tokens.append(tokens_iter, ignore_index=True)\n"
     ]
    },
    {
     "name": "stdout",
     "output_type": "stream",
     "text": [
      "Batch:  6   Length of pair:  1000   Total fected pairs:  7000\n",
      "             Start from id:  0x157e214d15da669bc4b5a90fb4e55a9b98139474\n"
     ]
    },
    {
     "name": "stderr",
     "output_type": "stream",
     "text": [
      "/var/folders/sn/bpd3y67s50v2b2bzrzmw_jlc0000gn/T/ipykernel_8615/1163013731.py:38: FutureWarning: The frame.append method is deprecated and will be removed from pandas in a future version. Use pandas.concat instead.\n",
      "  df_all_tokens = df_all_tokens.append(tokens_iter, ignore_index=True)\n"
     ]
    },
    {
     "name": "stdout",
     "output_type": "stream",
     "text": [
      "Batch:  7   Length of pair:  1000   Total fected pairs:  8000\n",
      "             Start from id:  0x19084e9c70ba084298cabd65835220b3d5fa864b\n"
     ]
    },
    {
     "name": "stderr",
     "output_type": "stream",
     "text": [
      "/var/folders/sn/bpd3y67s50v2b2bzrzmw_jlc0000gn/T/ipykernel_8615/1163013731.py:38: FutureWarning: The frame.append method is deprecated and will be removed from pandas in a future version. Use pandas.concat instead.\n",
      "  df_all_tokens = df_all_tokens.append(tokens_iter, ignore_index=True)\n"
     ]
    },
    {
     "name": "stdout",
     "output_type": "stream",
     "text": [
      "Batch:  8   Length of pair:  1000   Total fected pairs:  9000\n",
      "             Start from id:  0x1c87f6dce893c744655c7b7f61c03139240082f2\n"
     ]
    },
    {
     "name": "stderr",
     "output_type": "stream",
     "text": [
      "/var/folders/sn/bpd3y67s50v2b2bzrzmw_jlc0000gn/T/ipykernel_8615/1163013731.py:38: FutureWarning: The frame.append method is deprecated and will be removed from pandas in a future version. Use pandas.concat instead.\n",
      "  df_all_tokens = df_all_tokens.append(tokens_iter, ignore_index=True)\n"
     ]
    },
    {
     "name": "stdout",
     "output_type": "stream",
     "text": [
      "Batch:  9   Length of pair:  1000   Total fected pairs:  10000\n",
      "             Start from id:  0x2018b7fcacb04c57370085df16f7b2c75824d886\n"
     ]
    },
    {
     "name": "stderr",
     "output_type": "stream",
     "text": [
      "/var/folders/sn/bpd3y67s50v2b2bzrzmw_jlc0000gn/T/ipykernel_8615/1163013731.py:38: FutureWarning: The frame.append method is deprecated and will be removed from pandas in a future version. Use pandas.concat instead.\n",
      "  df_all_tokens = df_all_tokens.append(tokens_iter, ignore_index=True)\n"
     ]
    },
    {
     "name": "stdout",
     "output_type": "stream",
     "text": [
      "Batch:  10   Length of pair:  1000   Total fected pairs:  11000\n",
      "             Start from id:  0x2399c30919936c5bbbf8249a628d2a5113cbed4a\n"
     ]
    },
    {
     "name": "stderr",
     "output_type": "stream",
     "text": [
      "/var/folders/sn/bpd3y67s50v2b2bzrzmw_jlc0000gn/T/ipykernel_8615/1163013731.py:38: FutureWarning: The frame.append method is deprecated and will be removed from pandas in a future version. Use pandas.concat instead.\n",
      "  df_all_tokens = df_all_tokens.append(tokens_iter, ignore_index=True)\n"
     ]
    },
    {
     "name": "stdout",
     "output_type": "stream",
     "text": [
      "Batch:  11   Length of pair:  1000   Total fected pairs:  12000\n",
      "             Start from id:  0x273419a300b3c55482759c108b95b9f0b19de495\n"
     ]
    },
    {
     "name": "stderr",
     "output_type": "stream",
     "text": [
      "/var/folders/sn/bpd3y67s50v2b2bzrzmw_jlc0000gn/T/ipykernel_8615/1163013731.py:38: FutureWarning: The frame.append method is deprecated and will be removed from pandas in a future version. Use pandas.concat instead.\n",
      "  df_all_tokens = df_all_tokens.append(tokens_iter, ignore_index=True)\n"
     ]
    },
    {
     "name": "stdout",
     "output_type": "stream",
     "text": [
      "Batch:  12   Length of pair:  1000   Total fected pairs:  13000\n",
      "             Start from id:  0x2ae06892a643583e9743481bfef7ef551b8630bd\n"
     ]
    },
    {
     "name": "stderr",
     "output_type": "stream",
     "text": [
      "/var/folders/sn/bpd3y67s50v2b2bzrzmw_jlc0000gn/T/ipykernel_8615/1163013731.py:38: FutureWarning: The frame.append method is deprecated and will be removed from pandas in a future version. Use pandas.concat instead.\n",
      "  df_all_tokens = df_all_tokens.append(tokens_iter, ignore_index=True)\n"
     ]
    },
    {
     "name": "stdout",
     "output_type": "stream",
     "text": [
      "Batch:  13   Length of pair:  1000   Total fected pairs:  14000\n",
      "             Start from id:  0x2e314913f05ec2345ce569dca2685d75dcb7973a\n"
     ]
    },
    {
     "name": "stderr",
     "output_type": "stream",
     "text": [
      "/var/folders/sn/bpd3y67s50v2b2bzrzmw_jlc0000gn/T/ipykernel_8615/1163013731.py:38: FutureWarning: The frame.append method is deprecated and will be removed from pandas in a future version. Use pandas.concat instead.\n",
      "  df_all_tokens = df_all_tokens.append(tokens_iter, ignore_index=True)\n"
     ]
    },
    {
     "name": "stdout",
     "output_type": "stream",
     "text": [
      "Batch:  14   Length of pair:  1000   Total fected pairs:  15000\n",
      "             Start from id:  0x31b7c0c489e3ef08b4acf5f1a04256939beef308\n"
     ]
    },
    {
     "name": "stderr",
     "output_type": "stream",
     "text": [
      "/var/folders/sn/bpd3y67s50v2b2bzrzmw_jlc0000gn/T/ipykernel_8615/1163013731.py:38: FutureWarning: The frame.append method is deprecated and will be removed from pandas in a future version. Use pandas.concat instead.\n",
      "  df_all_tokens = df_all_tokens.append(tokens_iter, ignore_index=True)\n"
     ]
    },
    {
     "name": "stdout",
     "output_type": "stream",
     "text": [
      "Batch:  15   Length of pair:  1000   Total fected pairs:  16000\n",
      "             Start from id:  0x3534ba2e547e02ce5bcfb5557dbff0592f7c8079\n"
     ]
    },
    {
     "name": "stderr",
     "output_type": "stream",
     "text": [
      "/var/folders/sn/bpd3y67s50v2b2bzrzmw_jlc0000gn/T/ipykernel_8615/1163013731.py:38: FutureWarning: The frame.append method is deprecated and will be removed from pandas in a future version. Use pandas.concat instead.\n",
      "  df_all_tokens = df_all_tokens.append(tokens_iter, ignore_index=True)\n"
     ]
    },
    {
     "name": "stdout",
     "output_type": "stream",
     "text": [
      "Batch:  16   Length of pair:  1000   Total fected pairs:  17000\n",
      "             Start from id:  0x38875dabf8d32aaaaad3e4a5cbcab43a1f0b522c\n"
     ]
    },
    {
     "name": "stderr",
     "output_type": "stream",
     "text": [
      "/var/folders/sn/bpd3y67s50v2b2bzrzmw_jlc0000gn/T/ipykernel_8615/1163013731.py:38: FutureWarning: The frame.append method is deprecated and will be removed from pandas in a future version. Use pandas.concat instead.\n",
      "  df_all_tokens = df_all_tokens.append(tokens_iter, ignore_index=True)\n"
     ]
    },
    {
     "name": "stdout",
     "output_type": "stream",
     "text": [
      "Batch:  17   Length of pair:  1000   Total fected pairs:  18000\n",
      "             Start from id:  0x3c11ed98d7730df34409f407f17c74195f240a35\n"
     ]
    },
    {
     "name": "stderr",
     "output_type": "stream",
     "text": [
      "/var/folders/sn/bpd3y67s50v2b2bzrzmw_jlc0000gn/T/ipykernel_8615/1163013731.py:38: FutureWarning: The frame.append method is deprecated and will be removed from pandas in a future version. Use pandas.concat instead.\n",
      "  df_all_tokens = df_all_tokens.append(tokens_iter, ignore_index=True)\n"
     ]
    },
    {
     "name": "stdout",
     "output_type": "stream",
     "text": [
      "Batch:  18   Length of pair:  1000   Total fected pairs:  19000\n",
      "             Start from id:  0x3faeaaf09cf616624db78d7f8e309cafe3510e48\n"
     ]
    },
    {
     "name": "stderr",
     "output_type": "stream",
     "text": [
      "/var/folders/sn/bpd3y67s50v2b2bzrzmw_jlc0000gn/T/ipykernel_8615/1163013731.py:38: FutureWarning: The frame.append method is deprecated and will be removed from pandas in a future version. Use pandas.concat instead.\n",
      "  df_all_tokens = df_all_tokens.append(tokens_iter, ignore_index=True)\n"
     ]
    },
    {
     "name": "stdout",
     "output_type": "stream",
     "text": [
      "Batch:  19   Length of pair:  1000   Total fected pairs:  20000\n",
      "             Start from id:  0x436dbf17738905493d7a928e59429a7213e95d29\n"
     ]
    },
    {
     "name": "stderr",
     "output_type": "stream",
     "text": [
      "/var/folders/sn/bpd3y67s50v2b2bzrzmw_jlc0000gn/T/ipykernel_8615/1163013731.py:38: FutureWarning: The frame.append method is deprecated and will be removed from pandas in a future version. Use pandas.concat instead.\n",
      "  df_all_tokens = df_all_tokens.append(tokens_iter, ignore_index=True)\n"
     ]
    },
    {
     "name": "stdout",
     "output_type": "stream",
     "text": [
      "Batch:  20   Length of pair:  1000   Total fected pairs:  21000\n",
      "             Start from id:  0x4704517f952da570e35a45321e9e6c5b31236e42\n"
     ]
    },
    {
     "name": "stderr",
     "output_type": "stream",
     "text": [
      "/var/folders/sn/bpd3y67s50v2b2bzrzmw_jlc0000gn/T/ipykernel_8615/1163013731.py:38: FutureWarning: The frame.append method is deprecated and will be removed from pandas in a future version. Use pandas.concat instead.\n",
      "  df_all_tokens = df_all_tokens.append(tokens_iter, ignore_index=True)\n"
     ]
    },
    {
     "name": "stdout",
     "output_type": "stream",
     "text": [
      "Batch:  21   Length of pair:  1000   Total fected pairs:  22000\n",
      "             Start from id:  0x4aa57c66520cc493753024fc12314ef91ea25925\n"
     ]
    },
    {
     "name": "stderr",
     "output_type": "stream",
     "text": [
      "/var/folders/sn/bpd3y67s50v2b2bzrzmw_jlc0000gn/T/ipykernel_8615/1163013731.py:38: FutureWarning: The frame.append method is deprecated and will be removed from pandas in a future version. Use pandas.concat instead.\n",
      "  df_all_tokens = df_all_tokens.append(tokens_iter, ignore_index=True)\n"
     ]
    },
    {
     "name": "stdout",
     "output_type": "stream",
     "text": [
      "Batch:  22   Length of pair:  1000   Total fected pairs:  23000\n",
      "             Start from id:  0x4e386086737a7da94e83c7e312a3b840f2a1df10\n"
     ]
    },
    {
     "name": "stderr",
     "output_type": "stream",
     "text": [
      "/var/folders/sn/bpd3y67s50v2b2bzrzmw_jlc0000gn/T/ipykernel_8615/1163013731.py:38: FutureWarning: The frame.append method is deprecated and will be removed from pandas in a future version. Use pandas.concat instead.\n",
      "  df_all_tokens = df_all_tokens.append(tokens_iter, ignore_index=True)\n"
     ]
    },
    {
     "name": "stdout",
     "output_type": "stream",
     "text": [
      "Batch:  23   Length of pair:  1000   Total fected pairs:  24000\n",
      "             Start from id:  0x51fc1e083f2bc035f08c15feb5638875884269fe\n"
     ]
    },
    {
     "name": "stderr",
     "output_type": "stream",
     "text": [
      "/var/folders/sn/bpd3y67s50v2b2bzrzmw_jlc0000gn/T/ipykernel_8615/1163013731.py:38: FutureWarning: The frame.append method is deprecated and will be removed from pandas in a future version. Use pandas.concat instead.\n",
      "  df_all_tokens = df_all_tokens.append(tokens_iter, ignore_index=True)\n"
     ]
    },
    {
     "name": "stdout",
     "output_type": "stream",
     "text": [
      "Batch:  24   Length of pair:  1000   Total fected pairs:  25000\n",
      "             Start from id:  0x558d912e1df251e61f6bfe769a8d4baf9891de1b\n"
     ]
    },
    {
     "name": "stderr",
     "output_type": "stream",
     "text": [
      "/var/folders/sn/bpd3y67s50v2b2bzrzmw_jlc0000gn/T/ipykernel_8615/1163013731.py:38: FutureWarning: The frame.append method is deprecated and will be removed from pandas in a future version. Use pandas.concat instead.\n",
      "  df_all_tokens = df_all_tokens.append(tokens_iter, ignore_index=True)\n"
     ]
    },
    {
     "name": "stdout",
     "output_type": "stream",
     "text": [
      "Batch:  25   Length of pair:  1000   Total fected pairs:  26000\n",
      "             Start from id:  0x59475074846f80273ee3706ce07833152dd7c190\n"
     ]
    },
    {
     "name": "stderr",
     "output_type": "stream",
     "text": [
      "/var/folders/sn/bpd3y67s50v2b2bzrzmw_jlc0000gn/T/ipykernel_8615/1163013731.py:38: FutureWarning: The frame.append method is deprecated and will be removed from pandas in a future version. Use pandas.concat instead.\n",
      "  df_all_tokens = df_all_tokens.append(tokens_iter, ignore_index=True)\n"
     ]
    },
    {
     "name": "stdout",
     "output_type": "stream",
     "text": [
      "Batch:  26   Length of pair:  1000   Total fected pairs:  27000\n",
      "             Start from id:  0x5cf44cc6c4ba7ac177d433d8cdbfed242c6cf320\n"
     ]
    },
    {
     "name": "stderr",
     "output_type": "stream",
     "text": [
      "/var/folders/sn/bpd3y67s50v2b2bzrzmw_jlc0000gn/T/ipykernel_8615/1163013731.py:38: FutureWarning: The frame.append method is deprecated and will be removed from pandas in a future version. Use pandas.concat instead.\n",
      "  df_all_tokens = df_all_tokens.append(tokens_iter, ignore_index=True)\n"
     ]
    },
    {
     "name": "stdout",
     "output_type": "stream",
     "text": [
      "Batch:  27   Length of pair:  1000   Total fected pairs:  28000\n",
      "             Start from id:  0x60777cb40dbeb7189cf58f85158079565ff9a773\n"
     ]
    },
    {
     "name": "stderr",
     "output_type": "stream",
     "text": [
      "/var/folders/sn/bpd3y67s50v2b2bzrzmw_jlc0000gn/T/ipykernel_8615/1163013731.py:38: FutureWarning: The frame.append method is deprecated and will be removed from pandas in a future version. Use pandas.concat instead.\n",
      "  df_all_tokens = df_all_tokens.append(tokens_iter, ignore_index=True)\n"
     ]
    },
    {
     "name": "stdout",
     "output_type": "stream",
     "text": [
      "Batch:  28   Length of pair:  1000   Total fected pairs:  29000\n",
      "             Start from id:  0x641f6084734d57fe3a9c8ee28dceea21415f72a8\n"
     ]
    },
    {
     "name": "stderr",
     "output_type": "stream",
     "text": [
      "/var/folders/sn/bpd3y67s50v2b2bzrzmw_jlc0000gn/T/ipykernel_8615/1163013731.py:38: FutureWarning: The frame.append method is deprecated and will be removed from pandas in a future version. Use pandas.concat instead.\n",
      "  df_all_tokens = df_all_tokens.append(tokens_iter, ignore_index=True)\n"
     ]
    },
    {
     "name": "stdout",
     "output_type": "stream",
     "text": [
      "Batch:  29   Length of pair:  1000   Total fected pairs:  30000\n",
      "             Start from id:  0x67b125c7de58e031a049dea4ea8618cfe528825e\n"
     ]
    },
    {
     "name": "stderr",
     "output_type": "stream",
     "text": [
      "/var/folders/sn/bpd3y67s50v2b2bzrzmw_jlc0000gn/T/ipykernel_8615/1163013731.py:38: FutureWarning: The frame.append method is deprecated and will be removed from pandas in a future version. Use pandas.concat instead.\n",
      "  df_all_tokens = df_all_tokens.append(tokens_iter, ignore_index=True)\n"
     ]
    },
    {
     "name": "stdout",
     "output_type": "stream",
     "text": [
      "Batch:  30   Length of pair:  1000   Total fected pairs:  31000\n",
      "             Start from id:  0x6b3f1d1cda421699575c0466f9ff8bd7307b7c84\n"
     ]
    },
    {
     "name": "stderr",
     "output_type": "stream",
     "text": [
      "/var/folders/sn/bpd3y67s50v2b2bzrzmw_jlc0000gn/T/ipykernel_8615/1163013731.py:38: FutureWarning: The frame.append method is deprecated and will be removed from pandas in a future version. Use pandas.concat instead.\n",
      "  df_all_tokens = df_all_tokens.append(tokens_iter, ignore_index=True)\n"
     ]
    },
    {
     "name": "stdout",
     "output_type": "stream",
     "text": [
      "Batch:  31   Length of pair:  1000   Total fected pairs:  32000\n",
      "             Start from id:  0x6ec5a3d26b3a496e5123a3afce699b9d5c061017\n"
     ]
    },
    {
     "name": "stderr",
     "output_type": "stream",
     "text": [
      "/var/folders/sn/bpd3y67s50v2b2bzrzmw_jlc0000gn/T/ipykernel_8615/1163013731.py:38: FutureWarning: The frame.append method is deprecated and will be removed from pandas in a future version. Use pandas.concat instead.\n",
      "  df_all_tokens = df_all_tokens.append(tokens_iter, ignore_index=True)\n"
     ]
    },
    {
     "name": "stdout",
     "output_type": "stream",
     "text": [
      "Batch:  32   Length of pair:  1000   Total fected pairs:  33000\n",
      "             Start from id:  0x7272f2bedefa4419986b6e9a483cdce9663085e0\n"
     ]
    },
    {
     "name": "stderr",
     "output_type": "stream",
     "text": [
      "/var/folders/sn/bpd3y67s50v2b2bzrzmw_jlc0000gn/T/ipykernel_8615/1163013731.py:38: FutureWarning: The frame.append method is deprecated and will be removed from pandas in a future version. Use pandas.concat instead.\n",
      "  df_all_tokens = df_all_tokens.append(tokens_iter, ignore_index=True)\n"
     ]
    },
    {
     "name": "stdout",
     "output_type": "stream",
     "text": [
      "Batch:  33   Length of pair:  1000   Total fected pairs:  34000\n",
      "             Start from id:  0x762b7ede223412302d74622e9434c72697a8bc4a\n"
     ]
    },
    {
     "name": "stderr",
     "output_type": "stream",
     "text": [
      "/var/folders/sn/bpd3y67s50v2b2bzrzmw_jlc0000gn/T/ipykernel_8615/1163013731.py:38: FutureWarning: The frame.append method is deprecated and will be removed from pandas in a future version. Use pandas.concat instead.\n",
      "  df_all_tokens = df_all_tokens.append(tokens_iter, ignore_index=True)\n"
     ]
    },
    {
     "name": "stdout",
     "output_type": "stream",
     "text": [
      "Batch:  34   Length of pair:  1000   Total fected pairs:  35000\n",
      "             Start from id:  0x79ca01d1d720410d08181d8548d3c597a3e2fccc\n"
     ]
    },
    {
     "name": "stderr",
     "output_type": "stream",
     "text": [
      "/var/folders/sn/bpd3y67s50v2b2bzrzmw_jlc0000gn/T/ipykernel_8615/1163013731.py:38: FutureWarning: The frame.append method is deprecated and will be removed from pandas in a future version. Use pandas.concat instead.\n",
      "  df_all_tokens = df_all_tokens.append(tokens_iter, ignore_index=True)\n"
     ]
    },
    {
     "name": "stdout",
     "output_type": "stream",
     "text": [
      "Batch:  35   Length of pair:  1000   Total fected pairs:  36000\n",
      "             Start from id:  0x7d458a172c9efd97d8d0e4ac2701a25d0be5941e\n"
     ]
    },
    {
     "name": "stderr",
     "output_type": "stream",
     "text": [
      "/var/folders/sn/bpd3y67s50v2b2bzrzmw_jlc0000gn/T/ipykernel_8615/1163013731.py:38: FutureWarning: The frame.append method is deprecated and will be removed from pandas in a future version. Use pandas.concat instead.\n",
      "  df_all_tokens = df_all_tokens.append(tokens_iter, ignore_index=True)\n"
     ]
    },
    {
     "name": "stdout",
     "output_type": "stream",
     "text": [
      "Batch:  36   Length of pair:  1000   Total fected pairs:  37000\n",
      "             Start from id:  0x80d1e0a01157a3e9db6b427d0b493ea603fdb155\n"
     ]
    },
    {
     "name": "stderr",
     "output_type": "stream",
     "text": [
      "/var/folders/sn/bpd3y67s50v2b2bzrzmw_jlc0000gn/T/ipykernel_8615/1163013731.py:38: FutureWarning: The frame.append method is deprecated and will be removed from pandas in a future version. Use pandas.concat instead.\n",
      "  df_all_tokens = df_all_tokens.append(tokens_iter, ignore_index=True)\n"
     ]
    },
    {
     "name": "stdout",
     "output_type": "stream",
     "text": [
      "Batch:  37   Length of pair:  1000   Total fected pairs:  38000\n",
      "             Start from id:  0x84730f7d789983d1819d9598805f0b236612071d\n"
     ]
    },
    {
     "name": "stderr",
     "output_type": "stream",
     "text": [
      "/var/folders/sn/bpd3y67s50v2b2bzrzmw_jlc0000gn/T/ipykernel_8615/1163013731.py:38: FutureWarning: The frame.append method is deprecated and will be removed from pandas in a future version. Use pandas.concat instead.\n",
      "  df_all_tokens = df_all_tokens.append(tokens_iter, ignore_index=True)\n"
     ]
    },
    {
     "name": "stdout",
     "output_type": "stream",
     "text": [
      "Batch:  38   Length of pair:  1000   Total fected pairs:  39000\n",
      "             Start from id:  0x8804a6ac1d1507359e0eee331c52c1005e0f008c\n"
     ]
    },
    {
     "name": "stderr",
     "output_type": "stream",
     "text": [
      "/var/folders/sn/bpd3y67s50v2b2bzrzmw_jlc0000gn/T/ipykernel_8615/1163013731.py:38: FutureWarning: The frame.append method is deprecated and will be removed from pandas in a future version. Use pandas.concat instead.\n",
      "  df_all_tokens = df_all_tokens.append(tokens_iter, ignore_index=True)\n"
     ]
    },
    {
     "name": "stdout",
     "output_type": "stream",
     "text": [
      "Batch:  39   Length of pair:  1000   Total fected pairs:  40000\n",
      "             Start from id:  0x8b8129f2cfdb914f14175fc2c51be92f72e55f00\n"
     ]
    },
    {
     "name": "stderr",
     "output_type": "stream",
     "text": [
      "/var/folders/sn/bpd3y67s50v2b2bzrzmw_jlc0000gn/T/ipykernel_8615/1163013731.py:38: FutureWarning: The frame.append method is deprecated and will be removed from pandas in a future version. Use pandas.concat instead.\n",
      "  df_all_tokens = df_all_tokens.append(tokens_iter, ignore_index=True)\n"
     ]
    },
    {
     "name": "stdout",
     "output_type": "stream",
     "text": [
      "Batch:  40   Length of pair:  1000   Total fected pairs:  41000\n",
      "             Start from id:  0x8f26d7bab7a73309141a291525c965ecdea7bf42\n"
     ]
    },
    {
     "name": "stderr",
     "output_type": "stream",
     "text": [
      "/var/folders/sn/bpd3y67s50v2b2bzrzmw_jlc0000gn/T/ipykernel_8615/1163013731.py:38: FutureWarning: The frame.append method is deprecated and will be removed from pandas in a future version. Use pandas.concat instead.\n",
      "  df_all_tokens = df_all_tokens.append(tokens_iter, ignore_index=True)\n"
     ]
    },
    {
     "name": "stdout",
     "output_type": "stream",
     "text": [
      "Batch:  41   Length of pair:  1000   Total fected pairs:  42000\n",
      "             Start from id:  0x92a5b04d0ed5d94d7a193d1d334d3d16996f4e13\n"
     ]
    },
    {
     "name": "stderr",
     "output_type": "stream",
     "text": [
      "/var/folders/sn/bpd3y67s50v2b2bzrzmw_jlc0000gn/T/ipykernel_8615/1163013731.py:38: FutureWarning: The frame.append method is deprecated and will be removed from pandas in a future version. Use pandas.concat instead.\n",
      "  df_all_tokens = df_all_tokens.append(tokens_iter, ignore_index=True)\n"
     ]
    },
    {
     "name": "stdout",
     "output_type": "stream",
     "text": [
      "Batch:  42   Length of pair:  1000   Total fected pairs:  43000\n",
      "             Start from id:  0x964465ab852310e799766caa24554a62c35b7f3d\n"
     ]
    },
    {
     "name": "stderr",
     "output_type": "stream",
     "text": [
      "/var/folders/sn/bpd3y67s50v2b2bzrzmw_jlc0000gn/T/ipykernel_8615/1163013731.py:38: FutureWarning: The frame.append method is deprecated and will be removed from pandas in a future version. Use pandas.concat instead.\n",
      "  df_all_tokens = df_all_tokens.append(tokens_iter, ignore_index=True)\n"
     ]
    },
    {
     "name": "stdout",
     "output_type": "stream",
     "text": [
      "Batch:  43   Length of pair:  1000   Total fected pairs:  44000\n",
      "             Start from id:  0x99d5236aade74f992ba1a23bea0e30d4c45bd457\n"
     ]
    },
    {
     "name": "stderr",
     "output_type": "stream",
     "text": [
      "/var/folders/sn/bpd3y67s50v2b2bzrzmw_jlc0000gn/T/ipykernel_8615/1163013731.py:38: FutureWarning: The frame.append method is deprecated and will be removed from pandas in a future version. Use pandas.concat instead.\n",
      "  df_all_tokens = df_all_tokens.append(tokens_iter, ignore_index=True)\n"
     ]
    },
    {
     "name": "stdout",
     "output_type": "stream",
     "text": [
      "Batch:  44   Length of pair:  1000   Total fected pairs:  45000\n",
      "             Start from id:  0x9d79d5b61de59d882ce90125b18f74af650acb93\n"
     ]
    },
    {
     "name": "stderr",
     "output_type": "stream",
     "text": [
      "/var/folders/sn/bpd3y67s50v2b2bzrzmw_jlc0000gn/T/ipykernel_8615/1163013731.py:38: FutureWarning: The frame.append method is deprecated and will be removed from pandas in a future version. Use pandas.concat instead.\n",
      "  df_all_tokens = df_all_tokens.append(tokens_iter, ignore_index=True)\n"
     ]
    },
    {
     "name": "stdout",
     "output_type": "stream",
     "text": [
      "Batch:  45   Length of pair:  1000   Total fected pairs:  46000\n",
      "             Start from id:  0xa0c957721b2960742398ff635216fb9daabaf4d7\n"
     ]
    },
    {
     "name": "stderr",
     "output_type": "stream",
     "text": [
      "/var/folders/sn/bpd3y67s50v2b2bzrzmw_jlc0000gn/T/ipykernel_8615/1163013731.py:38: FutureWarning: The frame.append method is deprecated and will be removed from pandas in a future version. Use pandas.concat instead.\n",
      "  df_all_tokens = df_all_tokens.append(tokens_iter, ignore_index=True)\n"
     ]
    },
    {
     "name": "stdout",
     "output_type": "stream",
     "text": [
      "Batch:  46   Length of pair:  1000   Total fected pairs:  47000\n",
      "             Start from id:  0xa45327366357b21b05bcfde09fcdfbeba0084a98\n"
     ]
    },
    {
     "name": "stderr",
     "output_type": "stream",
     "text": [
      "/var/folders/sn/bpd3y67s50v2b2bzrzmw_jlc0000gn/T/ipykernel_8615/1163013731.py:38: FutureWarning: The frame.append method is deprecated and will be removed from pandas in a future version. Use pandas.concat instead.\n",
      "  df_all_tokens = df_all_tokens.append(tokens_iter, ignore_index=True)\n"
     ]
    },
    {
     "name": "stdout",
     "output_type": "stream",
     "text": [
      "Batch:  47   Length of pair:  1000   Total fected pairs:  48000\n",
      "             Start from id:  0xa82453a50f3773dfdc17f73afef28f878504191c\n"
     ]
    },
    {
     "name": "stderr",
     "output_type": "stream",
     "text": [
      "/var/folders/sn/bpd3y67s50v2b2bzrzmw_jlc0000gn/T/ipykernel_8615/1163013731.py:38: FutureWarning: The frame.append method is deprecated and will be removed from pandas in a future version. Use pandas.concat instead.\n",
      "  df_all_tokens = df_all_tokens.append(tokens_iter, ignore_index=True)\n"
     ]
    },
    {
     "name": "stdout",
     "output_type": "stream",
     "text": [
      "Batch:  48   Length of pair:  1000   Total fected pairs:  49000\n",
      "             Start from id:  0xabe07448358369867c2c3acf891b7124c85ac5cc\n"
     ]
    },
    {
     "name": "stderr",
     "output_type": "stream",
     "text": [
      "/var/folders/sn/bpd3y67s50v2b2bzrzmw_jlc0000gn/T/ipykernel_8615/1163013731.py:38: FutureWarning: The frame.append method is deprecated and will be removed from pandas in a future version. Use pandas.concat instead.\n",
      "  df_all_tokens = df_all_tokens.append(tokens_iter, ignore_index=True)\n"
     ]
    },
    {
     "name": "stdout",
     "output_type": "stream",
     "text": [
      "Batch:  49   Length of pair:  1000   Total fected pairs:  50000\n",
      "             Start from id:  0xaf5ed2e938e6c9b4f4d89a6e77347c32dc5b4312\n"
     ]
    },
    {
     "name": "stderr",
     "output_type": "stream",
     "text": [
      "/var/folders/sn/bpd3y67s50v2b2bzrzmw_jlc0000gn/T/ipykernel_8615/1163013731.py:38: FutureWarning: The frame.append method is deprecated and will be removed from pandas in a future version. Use pandas.concat instead.\n",
      "  df_all_tokens = df_all_tokens.append(tokens_iter, ignore_index=True)\n"
     ]
    },
    {
     "name": "stdout",
     "output_type": "stream",
     "text": [
      "Batch:  50   Length of pair:  1000   Total fected pairs:  51000\n",
      "             Start from id:  0xb2f2c705aaa54a52037ac0264b4811c20b48fa51\n"
     ]
    },
    {
     "name": "stderr",
     "output_type": "stream",
     "text": [
      "/var/folders/sn/bpd3y67s50v2b2bzrzmw_jlc0000gn/T/ipykernel_8615/1163013731.py:38: FutureWarning: The frame.append method is deprecated and will be removed from pandas in a future version. Use pandas.concat instead.\n",
      "  df_all_tokens = df_all_tokens.append(tokens_iter, ignore_index=True)\n"
     ]
    },
    {
     "name": "stdout",
     "output_type": "stream",
     "text": [
      "Batch:  51   Length of pair:  1000   Total fected pairs:  52000\n",
      "             Start from id:  0xb6a46d04ad27f903ef75ce34f9345971df02c52b\n"
     ]
    },
    {
     "name": "stderr",
     "output_type": "stream",
     "text": [
      "/var/folders/sn/bpd3y67s50v2b2bzrzmw_jlc0000gn/T/ipykernel_8615/1163013731.py:38: FutureWarning: The frame.append method is deprecated and will be removed from pandas in a future version. Use pandas.concat instead.\n",
      "  df_all_tokens = df_all_tokens.append(tokens_iter, ignore_index=True)\n"
     ]
    },
    {
     "name": "stdout",
     "output_type": "stream",
     "text": [
      "Batch:  52   Length of pair:  1000   Total fected pairs:  53000\n",
      "             Start from id:  0xba1aea5383189b30b32472b78aa1b8e1905f4471\n"
     ]
    },
    {
     "name": "stderr",
     "output_type": "stream",
     "text": [
      "/var/folders/sn/bpd3y67s50v2b2bzrzmw_jlc0000gn/T/ipykernel_8615/1163013731.py:38: FutureWarning: The frame.append method is deprecated and will be removed from pandas in a future version. Use pandas.concat instead.\n",
      "  df_all_tokens = df_all_tokens.append(tokens_iter, ignore_index=True)\n"
     ]
    },
    {
     "name": "stdout",
     "output_type": "stream",
     "text": [
      "Batch:  53   Length of pair:  1000   Total fected pairs:  54000\n",
      "             Start from id:  0xbdd29a57f2b7e9c7aad6915b7e338140bfa8a7a3\n"
     ]
    },
    {
     "name": "stderr",
     "output_type": "stream",
     "text": [
      "/var/folders/sn/bpd3y67s50v2b2bzrzmw_jlc0000gn/T/ipykernel_8615/1163013731.py:38: FutureWarning: The frame.append method is deprecated and will be removed from pandas in a future version. Use pandas.concat instead.\n",
      "  df_all_tokens = df_all_tokens.append(tokens_iter, ignore_index=True)\n"
     ]
    },
    {
     "name": "stdout",
     "output_type": "stream",
     "text": [
      "Batch:  54   Length of pair:  1000   Total fected pairs:  55000\n",
      "             Start from id:  0xc18974ec519bf178727fe5464373e45e3b24dbad\n"
     ]
    },
    {
     "name": "stderr",
     "output_type": "stream",
     "text": [
      "/var/folders/sn/bpd3y67s50v2b2bzrzmw_jlc0000gn/T/ipykernel_8615/1163013731.py:38: FutureWarning: The frame.append method is deprecated and will be removed from pandas in a future version. Use pandas.concat instead.\n",
      "  df_all_tokens = df_all_tokens.append(tokens_iter, ignore_index=True)\n"
     ]
    },
    {
     "name": "stdout",
     "output_type": "stream",
     "text": [
      "Batch:  55   Length of pair:  1000   Total fected pairs:  56000\n",
      "             Start from id:  0xc5129bc94d90b0ee48a8c16549d08974886f7072\n"
     ]
    },
    {
     "name": "stderr",
     "output_type": "stream",
     "text": [
      "/var/folders/sn/bpd3y67s50v2b2bzrzmw_jlc0000gn/T/ipykernel_8615/1163013731.py:38: FutureWarning: The frame.append method is deprecated and will be removed from pandas in a future version. Use pandas.concat instead.\n",
      "  df_all_tokens = df_all_tokens.append(tokens_iter, ignore_index=True)\n"
     ]
    },
    {
     "name": "stdout",
     "output_type": "stream",
     "text": [
      "Batch:  56   Length of pair:  1000   Total fected pairs:  57000\n",
      "             Start from id:  0xc8704e7f46f29e65d2e79a252026cec0071eeee9\n"
     ]
    },
    {
     "name": "stderr",
     "output_type": "stream",
     "text": [
      "/var/folders/sn/bpd3y67s50v2b2bzrzmw_jlc0000gn/T/ipykernel_8615/1163013731.py:38: FutureWarning: The frame.append method is deprecated and will be removed from pandas in a future version. Use pandas.concat instead.\n",
      "  df_all_tokens = df_all_tokens.append(tokens_iter, ignore_index=True)\n"
     ]
    },
    {
     "name": "stdout",
     "output_type": "stream",
     "text": [
      "Batch:  57   Length of pair:  1000   Total fected pairs:  58000\n",
      "             Start from id:  0xcc2b04e0687c98a44fd8d5ba1c9320bdc48c3981\n"
     ]
    },
    {
     "name": "stderr",
     "output_type": "stream",
     "text": [
      "/var/folders/sn/bpd3y67s50v2b2bzrzmw_jlc0000gn/T/ipykernel_8615/1163013731.py:38: FutureWarning: The frame.append method is deprecated and will be removed from pandas in a future version. Use pandas.concat instead.\n",
      "  df_all_tokens = df_all_tokens.append(tokens_iter, ignore_index=True)\n"
     ]
    },
    {
     "name": "stdout",
     "output_type": "stream",
     "text": [
      "Batch:  58   Length of pair:  1000   Total fected pairs:  59000\n",
      "             Start from id:  0xcfce167c8a6aece1b80168c45c0da41b1941136a\n"
     ]
    },
    {
     "name": "stderr",
     "output_type": "stream",
     "text": [
      "/var/folders/sn/bpd3y67s50v2b2bzrzmw_jlc0000gn/T/ipykernel_8615/1163013731.py:38: FutureWarning: The frame.append method is deprecated and will be removed from pandas in a future version. Use pandas.concat instead.\n",
      "  df_all_tokens = df_all_tokens.append(tokens_iter, ignore_index=True)\n"
     ]
    },
    {
     "name": "stdout",
     "output_type": "stream",
     "text": [
      "Batch:  59   Length of pair:  1000   Total fected pairs:  60000\n",
      "             Start from id:  0xd3790f49a1090d30041f5de2a222f57e3c9b9dcd\n"
     ]
    },
    {
     "name": "stderr",
     "output_type": "stream",
     "text": [
      "/var/folders/sn/bpd3y67s50v2b2bzrzmw_jlc0000gn/T/ipykernel_8615/1163013731.py:38: FutureWarning: The frame.append method is deprecated and will be removed from pandas in a future version. Use pandas.concat instead.\n",
      "  df_all_tokens = df_all_tokens.append(tokens_iter, ignore_index=True)\n"
     ]
    },
    {
     "name": "stdout",
     "output_type": "stream",
     "text": [
      "Batch:  60   Length of pair:  1000   Total fected pairs:  61000\n",
      "             Start from id:  0xd6f13b9be983973c0026ed249f85122d3a890682\n"
     ]
    },
    {
     "name": "stderr",
     "output_type": "stream",
     "text": [
      "/var/folders/sn/bpd3y67s50v2b2bzrzmw_jlc0000gn/T/ipykernel_8615/1163013731.py:38: FutureWarning: The frame.append method is deprecated and will be removed from pandas in a future version. Use pandas.concat instead.\n",
      "  df_all_tokens = df_all_tokens.append(tokens_iter, ignore_index=True)\n"
     ]
    },
    {
     "name": "stdout",
     "output_type": "stream",
     "text": [
      "Batch:  61   Length of pair:  1000   Total fected pairs:  62000\n",
      "             Start from id:  0xdaa3a46aaf25c504379ce58c272ad782e4110dde\n"
     ]
    },
    {
     "name": "stderr",
     "output_type": "stream",
     "text": [
      "/var/folders/sn/bpd3y67s50v2b2bzrzmw_jlc0000gn/T/ipykernel_8615/1163013731.py:38: FutureWarning: The frame.append method is deprecated and will be removed from pandas in a future version. Use pandas.concat instead.\n",
      "  df_all_tokens = df_all_tokens.append(tokens_iter, ignore_index=True)\n"
     ]
    },
    {
     "name": "stdout",
     "output_type": "stream",
     "text": [
      "Batch:  62   Length of pair:  1000   Total fected pairs:  63000\n",
      "             Start from id:  0xde50347dc78587b27eba58671ff41f96fa079cae\n"
     ]
    },
    {
     "name": "stderr",
     "output_type": "stream",
     "text": [
      "/var/folders/sn/bpd3y67s50v2b2bzrzmw_jlc0000gn/T/ipykernel_8615/1163013731.py:38: FutureWarning: The frame.append method is deprecated and will be removed from pandas in a future version. Use pandas.concat instead.\n",
      "  df_all_tokens = df_all_tokens.append(tokens_iter, ignore_index=True)\n"
     ]
    },
    {
     "name": "stdout",
     "output_type": "stream",
     "text": [
      "Batch:  63   Length of pair:  1000   Total fected pairs:  64000\n",
      "             Start from id:  0xe1c0b22f3df27c42139a6dbcb7f7228039d69582\n"
     ]
    },
    {
     "name": "stderr",
     "output_type": "stream",
     "text": [
      "/var/folders/sn/bpd3y67s50v2b2bzrzmw_jlc0000gn/T/ipykernel_8615/1163013731.py:38: FutureWarning: The frame.append method is deprecated and will be removed from pandas in a future version. Use pandas.concat instead.\n",
      "  df_all_tokens = df_all_tokens.append(tokens_iter, ignore_index=True)\n"
     ]
    },
    {
     "name": "stdout",
     "output_type": "stream",
     "text": [
      "Batch:  64   Length of pair:  1000   Total fected pairs:  65000\n",
      "             Start from id:  0xe561c51afedc22fe6692cd41b901617e3eb7ba2e\n"
     ]
    },
    {
     "name": "stderr",
     "output_type": "stream",
     "text": [
      "/var/folders/sn/bpd3y67s50v2b2bzrzmw_jlc0000gn/T/ipykernel_8615/1163013731.py:38: FutureWarning: The frame.append method is deprecated and will be removed from pandas in a future version. Use pandas.concat instead.\n",
      "  df_all_tokens = df_all_tokens.append(tokens_iter, ignore_index=True)\n"
     ]
    },
    {
     "name": "stdout",
     "output_type": "stream",
     "text": [
      "Batch:  65   Length of pair:  1000   Total fected pairs:  66000\n",
      "             Start from id:  0xe8e9d7af466544b0d2bdd28cd0c0f1bbf14e71f1\n"
     ]
    },
    {
     "name": "stderr",
     "output_type": "stream",
     "text": [
      "/var/folders/sn/bpd3y67s50v2b2bzrzmw_jlc0000gn/T/ipykernel_8615/1163013731.py:38: FutureWarning: The frame.append method is deprecated and will be removed from pandas in a future version. Use pandas.concat instead.\n",
      "  df_all_tokens = df_all_tokens.append(tokens_iter, ignore_index=True)\n"
     ]
    },
    {
     "name": "stdout",
     "output_type": "stream",
     "text": [
      "Batch:  66   Length of pair:  1000   Total fected pairs:  67000\n",
      "             Start from id:  0xecd89de6b4126c45c2e6fd5637822773ae825106\n"
     ]
    },
    {
     "name": "stderr",
     "output_type": "stream",
     "text": [
      "/var/folders/sn/bpd3y67s50v2b2bzrzmw_jlc0000gn/T/ipykernel_8615/1163013731.py:38: FutureWarning: The frame.append method is deprecated and will be removed from pandas in a future version. Use pandas.concat instead.\n",
      "  df_all_tokens = df_all_tokens.append(tokens_iter, ignore_index=True)\n"
     ]
    },
    {
     "name": "stdout",
     "output_type": "stream",
     "text": [
      "Batch:  67   Length of pair:  1000   Total fected pairs:  68000\n",
      "             Start from id:  0xf05b21036802777a986a20546cd9e66226002975\n"
     ]
    },
    {
     "name": "stderr",
     "output_type": "stream",
     "text": [
      "/var/folders/sn/bpd3y67s50v2b2bzrzmw_jlc0000gn/T/ipykernel_8615/1163013731.py:38: FutureWarning: The frame.append method is deprecated and will be removed from pandas in a future version. Use pandas.concat instead.\n",
      "  df_all_tokens = df_all_tokens.append(tokens_iter, ignore_index=True)\n"
     ]
    },
    {
     "name": "stdout",
     "output_type": "stream",
     "text": [
      "Batch:  68   Length of pair:  1000   Total fected pairs:  69000\n",
      "             Start from id:  0xf3b4867651aba83f3965ec0ecff7977c0a14c5be\n"
     ]
    },
    {
     "name": "stderr",
     "output_type": "stream",
     "text": [
      "/var/folders/sn/bpd3y67s50v2b2bzrzmw_jlc0000gn/T/ipykernel_8615/1163013731.py:38: FutureWarning: The frame.append method is deprecated and will be removed from pandas in a future version. Use pandas.concat instead.\n",
      "  df_all_tokens = df_all_tokens.append(tokens_iter, ignore_index=True)\n"
     ]
    },
    {
     "name": "stdout",
     "output_type": "stream",
     "text": [
      "Batch:  69   Length of pair:  1000   Total fected pairs:  70000\n",
      "             Start from id:  0xf7327beb21bc9a1c3af5523f20162f857ec3fc41\n"
     ]
    },
    {
     "name": "stderr",
     "output_type": "stream",
     "text": [
      "/var/folders/sn/bpd3y67s50v2b2bzrzmw_jlc0000gn/T/ipykernel_8615/1163013731.py:38: FutureWarning: The frame.append method is deprecated and will be removed from pandas in a future version. Use pandas.concat instead.\n",
      "  df_all_tokens = df_all_tokens.append(tokens_iter, ignore_index=True)\n"
     ]
    },
    {
     "name": "stdout",
     "output_type": "stream",
     "text": [
      "Batch:  70   Length of pair:  1000   Total fected pairs:  71000\n",
      "             Start from id:  0xfb0e7ca6b64eac2c58a757d1359291c35f211b5b\n",
      "Batch:  71   Length of pair:  284   Total fected pairs:  71284\n",
      "             Start from id:  0xfeee01039cdface170e547237ddd64f28a398f7e\n",
      "---------------------------\n",
      "Amount of fetced pairs:  71284\n"
     ]
    },
    {
     "name": "stderr",
     "output_type": "stream",
     "text": [
      "/var/folders/sn/bpd3y67s50v2b2bzrzmw_jlc0000gn/T/ipykernel_8615/1163013731.py:38: FutureWarning: The frame.append method is deprecated and will be removed from pandas in a future version. Use pandas.concat instead.\n",
      "  df_all_tokens = df_all_tokens.append(tokens_iter, ignore_index=True)\n"
     ]
    }
   ],
   "source": [
    "# Do iteration to fetch all the tokens, skip the first 1000 in batch 0\n",
    "# Start from the last id which is got by batch 0\n",
    "\n",
    "tokens_iter_count = 0\n",
    "tokens_iter = get_all_tokens_batch0['data']['tokens']  # Token info list in each batch\n",
    "total_tokens_amount = len(tokens_iter)  # Initial the total token amount by 1000 (in batch 0)\n",
    "\n",
    "# Do loop until \n",
    "while len(tokens_iter) == 1000:\n",
    "  # The last id in the previous query batch\n",
    "  last_id_gt = str(tokens_iter[-1]['id'])\n",
    "  params_id_gt = {\"id_in\": last_id_gt}\n",
    "\n",
    "  # Query 1000 new tokens from the last id\n",
    "  query_iter = \"\"\"\n",
    "  query tokens($id_in: String!) {\n",
    "    tokens(first: 1000, orderBy: id, orderDirection: asc\n",
    "    where: {id_gt: $id_in }) \n",
    "    { \n",
    "      id\n",
    "      name\n",
    "      symbol\n",
    "      tradeVolume\n",
    "      tradeVolumeUSD\n",
    "      untrackedVolumeUSD\n",
    "      txCount\n",
    "      totalLiquidity\n",
    "      derivedETH\n",
    "    }\n",
    "  }\n",
    "  \"\"\"\n",
    "  tokens_result_iter = run_query_var(query_iter, params_id_gt)\n",
    "\n",
    "  # List of token info for this batch\n",
    "  tokens_iter = tokens_result_iter['data']['tokens']\n",
    "\n",
    "  # Add list of this batch to the dataframe\n",
    "  df_all_tokens = df_all_tokens.append(tokens_iter, ignore_index=True)\n",
    "\n",
    "  # Summary for this batch, and update iterator\n",
    "  tokens_iter_count = tokens_iter_count + 1\n",
    "  total_tokens_amount = total_tokens_amount+len(tokens_iter)\n",
    "  print('Batch: ', tokens_iter_count, '  Length of pair: ', len(tokens_iter), '  Total fected pairs: ', total_tokens_amount)\n",
    "  print('             Start from id: ', last_id_gt)\n",
    "\n",
    "print('---------------------------')\n",
    "print('Amount of fetced pairs: ', total_tokens_amount)\n"
   ]
  },
  {
   "cell_type": "code",
   "execution_count": 26,
   "metadata": {
    "colab": {
     "base_uri": "https://localhost:8080/",
     "height": 592
    },
    "id": "DOAbW5LZjMro",
    "outputId": "205599f4-d1a2-4a93-abbd-d08734ab517f"
   },
   "outputs": [
    {
     "data": {
      "text/html": [
       "<div>\n",
       "<style scoped>\n",
       "    .dataframe tbody tr th:only-of-type {\n",
       "        vertical-align: middle;\n",
       "    }\n",
       "\n",
       "    .dataframe tbody tr th {\n",
       "        vertical-align: top;\n",
       "    }\n",
       "\n",
       "    .dataframe thead th {\n",
       "        text-align: right;\n",
       "    }\n",
       "</style>\n",
       "<table border=\"1\" class=\"dataframe\">\n",
       "  <thead>\n",
       "    <tr style=\"text-align: right;\">\n",
       "      <th></th>\n",
       "      <th>id</th>\n",
       "      <th>name</th>\n",
       "      <th>symbol</th>\n",
       "      <th>tradeVolume</th>\n",
       "      <th>tradeVolumeUSD</th>\n",
       "      <th>untrackedVolumeUSD</th>\n",
       "      <th>txCount</th>\n",
       "      <th>totalLiquidity</th>\n",
       "      <th>derivedETH</th>\n",
       "    </tr>\n",
       "  </thead>\n",
       "  <tbody>\n",
       "    <tr>\n",
       "      <th>0</th>\n",
       "      <td>0x00000000000045166c45af0fc6e4cf31d9e14b9a</td>\n",
       "      <td>TopBidder</td>\n",
       "      <td>BID</td>\n",
       "      <td>36520506.79045913892332785</td>\n",
       "      <td>23362640.36887859622558915387398381</td>\n",
       "      <td>23466279.70596361174072586983085042</td>\n",
       "      <td>2706</td>\n",
       "      <td>2252392.839917663338975365</td>\n",
       "      <td>0.00010395165265860908001061772755218</td>\n",
       "    </tr>\n",
       "    <tr>\n",
       "      <th>1</th>\n",
       "      <td>0x0000000000004946c0e9f43f4dee607b0ef1fa1c</td>\n",
       "      <td>Chi Gastoken by 1inch</td>\n",
       "      <td>CHI</td>\n",
       "      <td>43580282</td>\n",
       "      <td>19360715.70503782693540014871432548</td>\n",
       "      <td>65455773.59876190292325552554250769</td>\n",
       "      <td>75957</td>\n",
       "      <td>23374</td>\n",
       "      <td>0</td>\n",
       "    </tr>\n",
       "    <tr>\n",
       "      <th>2</th>\n",
       "      <td>0x000000000000d0151e748d25b766e77efe2a6c83</td>\n",
       "      <td>XDEFI Governance Token</td>\n",
       "      <td>XDEX</td>\n",
       "      <td>63890993.176575438849139776</td>\n",
       "      <td>18713723.91429208465798213093796374</td>\n",
       "      <td>18977868.34193645649430618371779554</td>\n",
       "      <td>4400</td>\n",
       "      <td>7459590.572861402421977784</td>\n",
       "      <td>0.00001160462895444170070268104491209126</td>\n",
       "    </tr>\n",
       "    <tr>\n",
       "      <th>3</th>\n",
       "      <td>0x0000000000085d4780b73119b644ae5ecd22b376</td>\n",
       "      <td>TrueUSD</td>\n",
       "      <td>TUSD</td>\n",
       "      <td>184555552.794689017276039881</td>\n",
       "      <td>176239741.7006048194469590153693985</td>\n",
       "      <td>185841110.6556808365070216844143068</td>\n",
       "      <td>47059</td>\n",
       "      <td>46910.632058833121697624</td>\n",
       "      <td>0.0005872267247000947115965131345753764</td>\n",
       "    </tr>\n",
       "    <tr>\n",
       "      <th>4</th>\n",
       "      <td>0x0000000000095413afc295d19edeb1ad7b71c952</td>\n",
       "      <td>Tokenlon</td>\n",
       "      <td>LON</td>\n",
       "      <td>142792553.719051369295010464</td>\n",
       "      <td>518261039.9061991068052100818991129</td>\n",
       "      <td>520112755.1339709640673245365510702</td>\n",
       "      <td>57987</td>\n",
       "      <td>1931446.73103393616330934</td>\n",
       "      <td>0.0004367451890548845771272978402901951</td>\n",
       "    </tr>\n",
       "    <tr>\n",
       "      <th>...</th>\n",
       "      <td>...</td>\n",
       "      <td>...</td>\n",
       "      <td>...</td>\n",
       "      <td>...</td>\n",
       "      <td>...</td>\n",
       "      <td>...</td>\n",
       "      <td>...</td>\n",
       "      <td>...</td>\n",
       "      <td>...</td>\n",
       "    </tr>\n",
       "    <tr>\n",
       "      <th>91279</th>\n",
       "      <td>0xfffed8edc3ddc66de57f7fea41f07f98595f0a5c</td>\n",
       "      <td>TradeStars</td>\n",
       "      <td>TSX</td>\n",
       "      <td>0</td>\n",
       "      <td>0</td>\n",
       "      <td>0</td>\n",
       "      <td>2</td>\n",
       "      <td>0.00000000000013239</td>\n",
       "      <td>0.00006042752473751793942140645063826573</td>\n",
       "    </tr>\n",
       "    <tr>\n",
       "      <th>91280</th>\n",
       "      <td>0xffff49dc8ed20043fb9e5d65ea2f3e071958df8e</td>\n",
       "      <td>Alaskan Malamute</td>\n",
       "      <td>MALA</td>\n",
       "      <td>21789078739.712294975</td>\n",
       "      <td>0</td>\n",
       "      <td>5393.769723343128401960611013309801</td>\n",
       "      <td>7</td>\n",
       "      <td>0.000002959</td>\n",
       "      <td>0.0000000001145657316661034133153092260898952</td>\n",
       "    </tr>\n",
       "    <tr>\n",
       "      <th>91281</th>\n",
       "      <td>0xfffff4ff386013f4b9dac8874f856dec0e802467</td>\n",
       "      <td>Moon Doge</td>\n",
       "      <td>MOGE</td>\n",
       "      <td>19150445234.85529503422301082</td>\n",
       "      <td>0</td>\n",
       "      <td>1173.552612430322387524868188060823</td>\n",
       "      <td>8</td>\n",
       "      <td>0.000000000180785101</td>\n",
       "      <td>0.000000005531429274141346415488077195033898</td>\n",
       "    </tr>\n",
       "    <tr>\n",
       "      <th>91282</th>\n",
       "      <td>0xffffffff2ba8f66d4e51811c5190992176930278</td>\n",
       "      <td>Furucombo</td>\n",
       "      <td>COMBO</td>\n",
       "      <td>130417880.769097013663764675</td>\n",
       "      <td>185309346.3696076804844877325321709</td>\n",
       "      <td>185516831.2283832158632967962866492</td>\n",
       "      <td>23842</td>\n",
       "      <td>2061453.687712022160325331</td>\n",
       "      <td>0.00002902950409227019807739813744618048</td>\n",
       "    </tr>\n",
       "    <tr>\n",
       "      <th>91283</th>\n",
       "      <td>0xfffffffff15abf397da76f1dcc1a1604f45126db</td>\n",
       "      <td>FalconSwap Token</td>\n",
       "      <td>FSW</td>\n",
       "      <td>752720751.025832969210737608</td>\n",
       "      <td>184288263.6807535561408728082182559</td>\n",
       "      <td>184240571.1418818081113586269371114</td>\n",
       "      <td>71185</td>\n",
       "      <td>16571716.146026465548545299</td>\n",
       "      <td>0.0000101398768132463306293516501686329</td>\n",
       "    </tr>\n",
       "  </tbody>\n",
       "</table>\n",
       "<p>91284 rows × 9 columns</p>\n",
       "</div>"
      ],
      "text/plain": [
       "                                               id                    name  \\\n",
       "0      0x00000000000045166c45af0fc6e4cf31d9e14b9a               TopBidder   \n",
       "1      0x0000000000004946c0e9f43f4dee607b0ef1fa1c   Chi Gastoken by 1inch   \n",
       "2      0x000000000000d0151e748d25b766e77efe2a6c83  XDEFI Governance Token   \n",
       "3      0x0000000000085d4780b73119b644ae5ecd22b376                 TrueUSD   \n",
       "4      0x0000000000095413afc295d19edeb1ad7b71c952                Tokenlon   \n",
       "...                                           ...                     ...   \n",
       "91279  0xfffed8edc3ddc66de57f7fea41f07f98595f0a5c              TradeStars   \n",
       "91280  0xffff49dc8ed20043fb9e5d65ea2f3e071958df8e        Alaskan Malamute   \n",
       "91281  0xfffff4ff386013f4b9dac8874f856dec0e802467               Moon Doge   \n",
       "91282  0xffffffff2ba8f66d4e51811c5190992176930278               Furucombo   \n",
       "91283  0xfffffffff15abf397da76f1dcc1a1604f45126db        FalconSwap Token   \n",
       "\n",
       "      symbol                    tradeVolume  \\\n",
       "0        BID     36520506.79045913892332785   \n",
       "1        CHI                       43580282   \n",
       "2       XDEX    63890993.176575438849139776   \n",
       "3       TUSD   184555552.794689017276039881   \n",
       "4        LON   142792553.719051369295010464   \n",
       "...      ...                            ...   \n",
       "91279    TSX                              0   \n",
       "91280   MALA          21789078739.712294975   \n",
       "91281   MOGE  19150445234.85529503422301082   \n",
       "91282  COMBO   130417880.769097013663764675   \n",
       "91283    FSW   752720751.025832969210737608   \n",
       "\n",
       "                            tradeVolumeUSD  \\\n",
       "0      23362640.36887859622558915387398381   \n",
       "1      19360715.70503782693540014871432548   \n",
       "2      18713723.91429208465798213093796374   \n",
       "3      176239741.7006048194469590153693985   \n",
       "4      518261039.9061991068052100818991129   \n",
       "...                                    ...   \n",
       "91279                                    0   \n",
       "91280                                    0   \n",
       "91281                                    0   \n",
       "91282  185309346.3696076804844877325321709   \n",
       "91283  184288263.6807535561408728082182559   \n",
       "\n",
       "                        untrackedVolumeUSD txCount  \\\n",
       "0      23466279.70596361174072586983085042    2706   \n",
       "1      65455773.59876190292325552554250769   75957   \n",
       "2      18977868.34193645649430618371779554    4400   \n",
       "3      185841110.6556808365070216844143068   47059   \n",
       "4      520112755.1339709640673245365510702   57987   \n",
       "...                                    ...     ...   \n",
       "91279                                    0       2   \n",
       "91280  5393.769723343128401960611013309801       7   \n",
       "91281  1173.552612430322387524868188060823       8   \n",
       "91282  185516831.2283832158632967962866492   23842   \n",
       "91283  184240571.1418818081113586269371114   71185   \n",
       "\n",
       "                    totalLiquidity  \\\n",
       "0       2252392.839917663338975365   \n",
       "1                            23374   \n",
       "2       7459590.572861402421977784   \n",
       "3         46910.632058833121697624   \n",
       "4        1931446.73103393616330934   \n",
       "...                            ...   \n",
       "91279          0.00000000000013239   \n",
       "91280                  0.000002959   \n",
       "91281         0.000000000180785101   \n",
       "91282   2061453.687712022160325331   \n",
       "91283  16571716.146026465548545299   \n",
       "\n",
       "                                          derivedETH  \n",
       "0              0.00010395165265860908001061772755218  \n",
       "1                                                  0  \n",
       "2           0.00001160462895444170070268104491209126  \n",
       "3            0.0005872267247000947115965131345753764  \n",
       "4            0.0004367451890548845771272978402901951  \n",
       "...                                              ...  \n",
       "91279       0.00006042752473751793942140645063826573  \n",
       "91280  0.0000000001145657316661034133153092260898952  \n",
       "91281   0.000000005531429274141346415488077195033898  \n",
       "91282       0.00002902950409227019807739813744618048  \n",
       "91283        0.0000101398768132463306293516501686329  \n",
       "\n",
       "[91284 rows x 9 columns]"
      ]
     },
     "execution_count": 26,
     "metadata": {},
     "output_type": "execute_result"
    }
   ],
   "source": [
    "df_all_tokens"
   ]
  },
  {
   "cell_type": "code",
   "execution_count": 27,
   "metadata": {
    "id": "fDmo-Psfc0AN"
   },
   "outputs": [],
   "source": [
    "# Write dataframe to csv\n",
    "# The information of all tokens until 10/06/2022 UTC 17:20\n",
    "df_all_tokens.to_csv(\"PoolDataV2/All_Tokens_Info_V2_20220610.csv\")"
   ]
  },
  {
   "cell_type": "markdown",
   "metadata": {
    "id": "B2RDpvYKaL2e"
   },
   "source": [
    "# Get top 200 popular tokens (order by the total trade volume USD)"
   ]
  },
  {
   "cell_type": "code",
   "execution_count": 28,
   "metadata": {
    "id": "PsKqSCrbY2he"
   },
   "outputs": [],
   "source": [
    "# Get the top 200 popular tokens order by the total trade volume USD\n",
    "get_popular_tokens_query = \"\"\"\n",
    "{\n",
    "   tokens(first: 200, orderBy: tradeVolumeUSD, orderDirection: desc) {\n",
    "     id\n",
    "     name\n",
    "     symbol\n",
    "     tradeVolumeUSD\n",
    "   }\n",
    "}\n",
    "\"\"\"\n",
    "get_popular_tokens = run_query(get_popular_tokens_query)"
   ]
  },
  {
   "cell_type": "code",
   "execution_count": 29,
   "metadata": {
    "colab": {
     "base_uri": "https://localhost:8080/",
     "height": 424
    },
    "id": "3k_Urna9hoKp",
    "outputId": "4b57de52-7b59-4f93-d92b-8b1540724fbc"
   },
   "outputs": [
    {
     "data": {
      "text/html": [
       "<div>\n",
       "<style scoped>\n",
       "    .dataframe tbody tr th:only-of-type {\n",
       "        vertical-align: middle;\n",
       "    }\n",
       "\n",
       "    .dataframe tbody tr th {\n",
       "        vertical-align: top;\n",
       "    }\n",
       "\n",
       "    .dataframe thead th {\n",
       "        text-align: right;\n",
       "    }\n",
       "</style>\n",
       "<table border=\"1\" class=\"dataframe\">\n",
       "  <thead>\n",
       "    <tr style=\"text-align: right;\">\n",
       "      <th></th>\n",
       "      <th>id</th>\n",
       "      <th>name</th>\n",
       "      <th>symbol</th>\n",
       "      <th>tradeVolumeUSD</th>\n",
       "    </tr>\n",
       "  </thead>\n",
       "  <tbody>\n",
       "    <tr>\n",
       "      <th>0</th>\n",
       "      <td>0xc02aaa39b223fe8d0a0e5c4f27ead9083c756cc2</td>\n",
       "      <td>Wrapped Ether</td>\n",
       "      <td>WETH</td>\n",
       "      <td>387877943993.2650258550199180086558</td>\n",
       "    </tr>\n",
       "    <tr>\n",
       "      <th>1</th>\n",
       "      <td>0xa0b86991c6218b36c1d19d4a2e9eb0ce3606eb48</td>\n",
       "      <td>USD//C</td>\n",
       "      <td>USDC</td>\n",
       "      <td>57151087088.85927425234764115638086</td>\n",
       "    </tr>\n",
       "    <tr>\n",
       "      <th>2</th>\n",
       "      <td>0xdac17f958d2ee523a2206206994597c13d831ec7</td>\n",
       "      <td>Tether USD</td>\n",
       "      <td>USDT</td>\n",
       "      <td>46643732924.40661365246692484776756</td>\n",
       "    </tr>\n",
       "    <tr>\n",
       "      <th>3</th>\n",
       "      <td>0x6b175474e89094c44da98b954eedeac495271d0f</td>\n",
       "      <td>Dai Stablecoin</td>\n",
       "      <td>DAI</td>\n",
       "      <td>19194080457.96787237191109652535303</td>\n",
       "    </tr>\n",
       "    <tr>\n",
       "      <th>4</th>\n",
       "      <td>0x05934eba98486693aaec2d00b0e9ce918e37dc3f</td>\n",
       "      <td>You don't blacklist delta.financial</td>\n",
       "      <td>SCAMMY</td>\n",
       "      <td>11029715648.72159798743878461135205</td>\n",
       "    </tr>\n",
       "    <tr>\n",
       "      <th>...</th>\n",
       "      <td>...</td>\n",
       "      <td>...</td>\n",
       "      <td>...</td>\n",
       "      <td>...</td>\n",
       "    </tr>\n",
       "    <tr>\n",
       "      <th>195</th>\n",
       "      <td>0xeec2be5c91ae7f8a338e1e5f3b5de49d07afdc81</td>\n",
       "      <td>Dopex Governance Token</td>\n",
       "      <td>DPX</td>\n",
       "      <td>287878518.4337276001149145019920483</td>\n",
       "    </tr>\n",
       "    <tr>\n",
       "      <th>196</th>\n",
       "      <td>0x0d8775f648430679a709e98d2b0cb6250d2887ef</td>\n",
       "      <td>Basic Attention Token</td>\n",
       "      <td>BAT</td>\n",
       "      <td>287655138.7316011364479310256153892</td>\n",
       "    </tr>\n",
       "    <tr>\n",
       "      <th>197</th>\n",
       "      <td>0x3155ba85d5f96b2d030a4966af206230e46849cb</td>\n",
       "      <td>THORChain ETH.RUNE</td>\n",
       "      <td>RUNE</td>\n",
       "      <td>287355918.9337234532037635607585532</td>\n",
       "    </tr>\n",
       "    <tr>\n",
       "      <th>198</th>\n",
       "      <td>0xee573a945b01b788b9287ce062a0cfc15be9fd86</td>\n",
       "      <td>Exeedme</td>\n",
       "      <td>XED</td>\n",
       "      <td>286489974.8979467423185122250284526</td>\n",
       "    </tr>\n",
       "    <tr>\n",
       "      <th>199</th>\n",
       "      <td>0x7bef710a5759d197ec0bf621c3df802c2d60d848</td>\n",
       "      <td>SPLYT SHOPX</td>\n",
       "      <td>SHOPX</td>\n",
       "      <td>286422097.6157676736985608599418268</td>\n",
       "    </tr>\n",
       "  </tbody>\n",
       "</table>\n",
       "<p>200 rows × 4 columns</p>\n",
       "</div>"
      ],
      "text/plain": [
       "                                             id  \\\n",
       "0    0xc02aaa39b223fe8d0a0e5c4f27ead9083c756cc2   \n",
       "1    0xa0b86991c6218b36c1d19d4a2e9eb0ce3606eb48   \n",
       "2    0xdac17f958d2ee523a2206206994597c13d831ec7   \n",
       "3    0x6b175474e89094c44da98b954eedeac495271d0f   \n",
       "4    0x05934eba98486693aaec2d00b0e9ce918e37dc3f   \n",
       "..                                          ...   \n",
       "195  0xeec2be5c91ae7f8a338e1e5f3b5de49d07afdc81   \n",
       "196  0x0d8775f648430679a709e98d2b0cb6250d2887ef   \n",
       "197  0x3155ba85d5f96b2d030a4966af206230e46849cb   \n",
       "198  0xee573a945b01b788b9287ce062a0cfc15be9fd86   \n",
       "199  0x7bef710a5759d197ec0bf621c3df802c2d60d848   \n",
       "\n",
       "                                    name  symbol  \\\n",
       "0                          Wrapped Ether    WETH   \n",
       "1                                 USD//C    USDC   \n",
       "2                             Tether USD    USDT   \n",
       "3                         Dai Stablecoin     DAI   \n",
       "4    You don't blacklist delta.financial  SCAMMY   \n",
       "..                                   ...     ...   \n",
       "195               Dopex Governance Token     DPX   \n",
       "196                Basic Attention Token     BAT   \n",
       "197                   THORChain ETH.RUNE    RUNE   \n",
       "198                              Exeedme     XED   \n",
       "199                          SPLYT SHOPX   SHOPX   \n",
       "\n",
       "                          tradeVolumeUSD  \n",
       "0    387877943993.2650258550199180086558  \n",
       "1    57151087088.85927425234764115638086  \n",
       "2    46643732924.40661365246692484776756  \n",
       "3    19194080457.96787237191109652535303  \n",
       "4    11029715648.72159798743878461135205  \n",
       "..                                   ...  \n",
       "195  287878518.4337276001149145019920483  \n",
       "196  287655138.7316011364479310256153892  \n",
       "197  287355918.9337234532037635607585532  \n",
       "198  286489974.8979467423185122250284526  \n",
       "199  286422097.6157676736985608599418268  \n",
       "\n",
       "[200 rows x 4 columns]"
      ]
     },
     "execution_count": 29,
     "metadata": {},
     "output_type": "execute_result"
    }
   ],
   "source": [
    "# Create a dataframe to store the popular tokens\n",
    "df_popular_tokens = pd.DataFrame.from_dict(get_popular_tokens['data']['tokens'])\n",
    "df_popular_tokens"
   ]
  },
  {
   "cell_type": "code",
   "execution_count": 30,
   "metadata": {
    "id": "LIC-gPSuh5uL"
   },
   "outputs": [],
   "source": [
    "# Write dataframe to csv\n",
    "# Order by the historical trade volume USD until 10/06/2022 UTC 17:20\n",
    "df_popular_tokens.to_csv(\"PoolDataV2/Top200_Volume_Tokens_V2_20220610.csv\")"
   ]
  }
 ],
 "metadata": {
  "colab": {
   "collapsed_sections": [
    "sXc06Kb-1vP1",
    "yOfgfVEa19co",
    "0-clB0QwBpsg",
    "LJ_N1Jw0NumW",
    "VdGOJ15mvpd8",
    "O-O9mB_7xryY",
    "4FxADQ_2foGf",
    "uDH9Brcl8Toz",
    "GWaZ3LjT-Que",
    "Nws_nfb8agN_",
    "TL_iVReJhNtw"
   ],
   "name": "PoolDataV2.ipynb",
   "provenance": []
  },
  "kernelspec": {
   "display_name": "Python 3 (ipykernel)",
   "language": "python",
   "name": "python3"
  },
  "language_info": {
   "codemirror_mode": {
    "name": "ipython",
    "version": 3
   },
   "file_extension": ".py",
   "mimetype": "text/x-python",
   "name": "python",
   "nbconvert_exporter": "python",
   "pygments_lexer": "ipython3",
   "version": "3.10.4"
  }
 },
 "nbformat": 4,
 "nbformat_minor": 1
}
